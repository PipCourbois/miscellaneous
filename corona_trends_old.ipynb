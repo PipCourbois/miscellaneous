{
 "cells": [
  {
   "cell_type": "markdown",
   "metadata": {},
   "source": [
    "### Corona trends algorithm development\n",
    "\n",
    "Data is from [Corona Data Scraper](https://coronadatascraper.com/#home)\n"
   ]
  },
  {
   "cell_type": "code",
   "execution_count": 1,
   "metadata": {},
   "outputs": [],
   "source": [
    "import numpy as np\n",
    "import pandas as pd"
   ]
  },
  {
   "cell_type": "code",
   "execution_count": 2,
   "metadata": {},
   "outputs": [
    {
     "name": "stderr",
     "output_type": "stream",
     "text": [
      "/opt/conda/lib/python3.7/site-packages/IPython/core/interactiveshell.py:3063: DtypeWarning: Columns (2) have mixed types.Specify dtype option on import or set low_memory=False.\n",
      "  interactivity=interactivity, compiler=compiler, result=result)\n"
     ]
    },
    {
     "data": {
      "text/plain": [
       "'Timeseries:'"
      ]
     },
     "metadata": {},
     "output_type": "display_data"
    },
    {
     "data": {
      "text/html": [
       "<div>\n",
       "<style scoped>\n",
       "    .dataframe tbody tr th:only-of-type {\n",
       "        vertical-align: middle;\n",
       "    }\n",
       "\n",
       "    .dataframe tbody tr th {\n",
       "        vertical-align: top;\n",
       "    }\n",
       "\n",
       "    .dataframe thead th {\n",
       "        text-align: right;\n",
       "    }\n",
       "</style>\n",
       "<table border=\"1\" class=\"dataframe\">\n",
       "  <thead>\n",
       "    <tr style=\"text-align: right;\">\n",
       "      <th></th>\n",
       "      <th>name</th>\n",
       "      <th>level</th>\n",
       "      <th>city</th>\n",
       "      <th>county</th>\n",
       "      <th>state</th>\n",
       "      <th>country</th>\n",
       "      <th>population</th>\n",
       "      <th>lat</th>\n",
       "      <th>long</th>\n",
       "      <th>url</th>\n",
       "      <th>...</th>\n",
       "      <th>recovered</th>\n",
       "      <th>active</th>\n",
       "      <th>tested</th>\n",
       "      <th>hospitalized</th>\n",
       "      <th>hospitalized_current</th>\n",
       "      <th>discharged</th>\n",
       "      <th>icu</th>\n",
       "      <th>icu_current</th>\n",
       "      <th>growthFactor</th>\n",
       "      <th>date</th>\n",
       "    </tr>\n",
       "  </thead>\n",
       "  <tbody>\n",
       "    <tr>\n",
       "      <th>0</th>\n",
       "      <td>Antwerp, Flanders, Belgium</td>\n",
       "      <td>county</td>\n",
       "      <td>NaN</td>\n",
       "      <td>Antwerp</td>\n",
       "      <td>Flanders</td>\n",
       "      <td>Belgium</td>\n",
       "      <td>1847486.0</td>\n",
       "      <td>51.2485</td>\n",
       "      <td>4.7175</td>\n",
       "      <td>https://epistat.wiv-isp.be/</td>\n",
       "      <td>...</td>\n",
       "      <td>NaN</td>\n",
       "      <td>NaN</td>\n",
       "      <td>NaN</td>\n",
       "      <td>NaN</td>\n",
       "      <td>NaN</td>\n",
       "      <td>NaN</td>\n",
       "      <td>NaN</td>\n",
       "      <td>NaN</td>\n",
       "      <td>NaN</td>\n",
       "      <td>2020-01-22</td>\n",
       "    </tr>\n",
       "    <tr>\n",
       "      <th>1</th>\n",
       "      <td>Antwerp, Flanders, Belgium</td>\n",
       "      <td>county</td>\n",
       "      <td>NaN</td>\n",
       "      <td>Antwerp</td>\n",
       "      <td>Flanders</td>\n",
       "      <td>Belgium</td>\n",
       "      <td>1847486.0</td>\n",
       "      <td>51.2485</td>\n",
       "      <td>4.7175</td>\n",
       "      <td>https://epistat.wiv-isp.be/</td>\n",
       "      <td>...</td>\n",
       "      <td>NaN</td>\n",
       "      <td>NaN</td>\n",
       "      <td>NaN</td>\n",
       "      <td>NaN</td>\n",
       "      <td>NaN</td>\n",
       "      <td>NaN</td>\n",
       "      <td>NaN</td>\n",
       "      <td>NaN</td>\n",
       "      <td>1.0</td>\n",
       "      <td>2020-01-23</td>\n",
       "    </tr>\n",
       "    <tr>\n",
       "      <th>2</th>\n",
       "      <td>Antwerp, Flanders, Belgium</td>\n",
       "      <td>county</td>\n",
       "      <td>NaN</td>\n",
       "      <td>Antwerp</td>\n",
       "      <td>Flanders</td>\n",
       "      <td>Belgium</td>\n",
       "      <td>1847486.0</td>\n",
       "      <td>51.2485</td>\n",
       "      <td>4.7175</td>\n",
       "      <td>https://epistat.wiv-isp.be/</td>\n",
       "      <td>...</td>\n",
       "      <td>NaN</td>\n",
       "      <td>NaN</td>\n",
       "      <td>NaN</td>\n",
       "      <td>NaN</td>\n",
       "      <td>NaN</td>\n",
       "      <td>NaN</td>\n",
       "      <td>NaN</td>\n",
       "      <td>NaN</td>\n",
       "      <td>1.0</td>\n",
       "      <td>2020-01-24</td>\n",
       "    </tr>\n",
       "    <tr>\n",
       "      <th>3</th>\n",
       "      <td>Antwerp, Flanders, Belgium</td>\n",
       "      <td>county</td>\n",
       "      <td>NaN</td>\n",
       "      <td>Antwerp</td>\n",
       "      <td>Flanders</td>\n",
       "      <td>Belgium</td>\n",
       "      <td>1847486.0</td>\n",
       "      <td>51.2485</td>\n",
       "      <td>4.7175</td>\n",
       "      <td>https://epistat.wiv-isp.be/</td>\n",
       "      <td>...</td>\n",
       "      <td>NaN</td>\n",
       "      <td>NaN</td>\n",
       "      <td>NaN</td>\n",
       "      <td>NaN</td>\n",
       "      <td>NaN</td>\n",
       "      <td>NaN</td>\n",
       "      <td>NaN</td>\n",
       "      <td>NaN</td>\n",
       "      <td>1.0</td>\n",
       "      <td>2020-01-25</td>\n",
       "    </tr>\n",
       "    <tr>\n",
       "      <th>4</th>\n",
       "      <td>Antwerp, Flanders, Belgium</td>\n",
       "      <td>county</td>\n",
       "      <td>NaN</td>\n",
       "      <td>Antwerp</td>\n",
       "      <td>Flanders</td>\n",
       "      <td>Belgium</td>\n",
       "      <td>1847486.0</td>\n",
       "      <td>51.2485</td>\n",
       "      <td>4.7175</td>\n",
       "      <td>https://epistat.wiv-isp.be/</td>\n",
       "      <td>...</td>\n",
       "      <td>NaN</td>\n",
       "      <td>NaN</td>\n",
       "      <td>NaN</td>\n",
       "      <td>NaN</td>\n",
       "      <td>NaN</td>\n",
       "      <td>NaN</td>\n",
       "      <td>NaN</td>\n",
       "      <td>NaN</td>\n",
       "      <td>1.0</td>\n",
       "      <td>2020-01-26</td>\n",
       "    </tr>\n",
       "  </tbody>\n",
       "</table>\n",
       "<p>5 rows × 24 columns</p>\n",
       "</div>"
      ],
      "text/plain": [
       "                         name   level city   county     state  country  \\\n",
       "0  Antwerp, Flanders, Belgium  county  NaN  Antwerp  Flanders  Belgium   \n",
       "1  Antwerp, Flanders, Belgium  county  NaN  Antwerp  Flanders  Belgium   \n",
       "2  Antwerp, Flanders, Belgium  county  NaN  Antwerp  Flanders  Belgium   \n",
       "3  Antwerp, Flanders, Belgium  county  NaN  Antwerp  Flanders  Belgium   \n",
       "4  Antwerp, Flanders, Belgium  county  NaN  Antwerp  Flanders  Belgium   \n",
       "\n",
       "   population      lat    long                          url  ... recovered  \\\n",
       "0   1847486.0  51.2485  4.7175  https://epistat.wiv-isp.be/  ...       NaN   \n",
       "1   1847486.0  51.2485  4.7175  https://epistat.wiv-isp.be/  ...       NaN   \n",
       "2   1847486.0  51.2485  4.7175  https://epistat.wiv-isp.be/  ...       NaN   \n",
       "3   1847486.0  51.2485  4.7175  https://epistat.wiv-isp.be/  ...       NaN   \n",
       "4   1847486.0  51.2485  4.7175  https://epistat.wiv-isp.be/  ...       NaN   \n",
       "\n",
       "  active  tested  hospitalized  hospitalized_current  discharged  icu  \\\n",
       "0    NaN     NaN           NaN                   NaN         NaN  NaN   \n",
       "1    NaN     NaN           NaN                   NaN         NaN  NaN   \n",
       "2    NaN     NaN           NaN                   NaN         NaN  NaN   \n",
       "3    NaN     NaN           NaN                   NaN         NaN  NaN   \n",
       "4    NaN     NaN           NaN                   NaN         NaN  NaN   \n",
       "\n",
       "   icu_current  growthFactor       date  \n",
       "0          NaN           NaN 2020-01-22  \n",
       "1          NaN           1.0 2020-01-23  \n",
       "2          NaN           1.0 2020-01-24  \n",
       "3          NaN           1.0 2020-01-25  \n",
       "4          NaN           1.0 2020-01-26  \n",
       "\n",
       "[5 rows x 24 columns]"
      ]
     },
     "metadata": {},
     "output_type": "display_data"
    }
   ],
   "source": [
    "rawtimeseries = pd.read_csv('https://coronadatascraper.com/timeseries.csv', parse_dates=['date'])\n",
    "\n",
    "display('Timeseries:')\n",
    "display(rawtimeseries.head())"
   ]
  },
  {
   "cell_type": "code",
   "execution_count": null,
   "metadata": {},
   "outputs": [],
   "source": [
    "counties = {\n",
    "    code: county for code, county in counties.items() if county[\"state\"] in (\"wa\")\n",
    "}"
   ]
  },
  {
   "cell_type": "code",
   "execution_count": null,
   "metadata": {},
   "outputs": [],
   "source": []
  },
  {
   "cell_type": "code",
   "execution_count": null,
   "metadata": {},
   "outputs": [],
   "source": []
  },
  {
   "cell_type": "code",
   "execution_count": null,
   "metadata": {},
   "outputs": [],
   "source": [
    "county_xs = [county[\"lons\"] for county in counties.values()]\n",
    "county_ys = [county[\"lats\"] for county in counties.values()]\n",
    "\n",
    "county_names = [county['name'] for county in counties.values()]\n",
    "county_rates = [unemployment[county_id] for county_id in counties]\n",
    "county_rates = unemployment\n",
    "color_mapper = LogColorMapper(palette=palette)\n",
    "\n",
    "data=dict(\n",
    "    x=county_xs,\n",
    "    y=county_ys,\n",
    "    name=county_names,\n",
    "    rate=county_rates,\n",
    ")\n",
    "\n",
    "TOOLS = \"pan,wheel_zoom,reset,hover,save\"\n",
    "\n",
    "p = figure(\n",
    "    title=\"New York Unemployment, 2009\", tools=TOOLS,\n",
    "    x_axis_location=None, y_axis_location=None,\n",
    "    tooltips=[\n",
    "        (\"Name\", \"@name\"), (\"Unemployment rate\", \"@rate%\"), (\"(Long, Lat)\", \"($x, $y)\")\n",
    "    ])\n",
    "p.grid.grid_line_color = None\n",
    "p.hover.point_policy = \"follow_mouse\"\n",
    "\n",
    "p.patches('x', 'y', source=data,\n",
    "          fill_color={'field': 'rate', 'transform': color_mapper},\n",
    "          fill_alpha=0.7, line_color=\"white\", line_width=0.5)"
   ]
  },
  {
   "cell_type": "code",
   "execution_count": null,
   "metadata": {},
   "outputs": [],
   "source": [
    "show(p)"
   ]
  },
  {
   "cell_type": "markdown",
   "metadata": {},
   "source": [
    "### USA county-level data"
   ]
  },
  {
   "cell_type": "code",
   "execution_count": null,
   "metadata": {},
   "outputs": [],
   "source": [
    "USA = rawtimeseries[(rawtimeseries.country == 'United States') & (rawtimeseries.level == 'county')]"
   ]
  },
  {
   "cell_type": "markdown",
   "metadata": {},
   "source": [
    "### NY for proof of concept"
   ]
  },
  {
   "cell_type": "code",
   "execution_count": null,
   "metadata": {},
   "outputs": [],
   "source": [
    "NY = USA[USA.state == 'New York']\n",
    "len(NY)"
   ]
  },
  {
   "cell_type": "code",
   "execution_count": null,
   "metadata": {},
   "outputs": [],
   "source": [
    "NY['county'].nunique()"
   ]
  },
  {
   "cell_type": "code",
   "execution_count": null,
   "metadata": {},
   "outputs": [],
   "source": [
    "NY['county'].value_counts()"
   ]
  },
  {
   "cell_type": "code",
   "execution_count": null,
   "metadata": {},
   "outputs": [],
   "source": [
    "# no zeros in this dataset which means that I cannot tell between zero and not recorded\n",
    "sum(NY['deaths'] == 0)"
   ]
  },
  {
   "cell_type": "code",
   "execution_count": null,
   "metadata": {},
   "outputs": [],
   "source": [
    "Rockland = NY[NY.county.isin(['Rockland County','Wyoming County'])]"
   ]
  },
  {
   "cell_type": "code",
   "execution_count": null,
   "metadata": {},
   "outputs": [],
   "source": [
    "len(Rockland)"
   ]
  },
  {
   "cell_type": "code",
   "execution_count": null,
   "metadata": {},
   "outputs": [],
   "source": [
    "Rockland.dtypes"
   ]
  },
  {
   "cell_type": "code",
   "execution_count": null,
   "metadata": {},
   "outputs": [],
   "source": [
    "# f = Rockland[['date','county','cases','deaths']].set_index(['county','date'])\n",
    "f=NY[['date','county','cases','deaths']].set_index(['county','date'])"
   ]
  },
  {
   "cell_type": "code",
   "execution_count": null,
   "metadata": {},
   "outputs": [],
   "source": [
    "f"
   ]
  },
  {
   "cell_type": "markdown",
   "metadata": {},
   "source": [
    "### Data Cleaning\n",
    "\n",
    "Notice all the data are cumulative since beginning of recording. So we will have to do first-differencing to get the actual number of deaths per day.\n",
    "\n",
    "The daily cumulative numbers have some inaccuracies: \n",
    "1. Have missing data at the beginning and center of timeseries (see Wyoming County below). At the beginning these NAs are zero, in the center of a timeseries they cannot be zero.  \n",
    "1. Have some cumulative numbers that drop from one day to the next (see Rockland County below).\n",
    "\n",
    "We have to do the following\n",
    "1. Roll up to weekly  \n",
    "1. Clean up NAs \n",
    "1. Clean up drops in cumulative numbers\n",
    "\n",
    "Probably easiest to roll up to the weekly numbers first (not really a rollup, simply take the value for every Sunday). This will aleviate some of the other issues. "
   ]
  },
  {
   "cell_type": "code",
   "execution_count": null,
   "metadata": {},
   "outputs": [],
   "source": [
    "f.loc['Wyoming County',:].plot()"
   ]
  },
  {
   "cell_type": "code",
   "execution_count": null,
   "metadata": {},
   "outputs": [],
   "source": [
    "f.loc['Rockland County',:].plot()"
   ]
  },
  {
   "cell_type": "markdown",
   "metadata": {},
   "source": [
    "#### Missing values \n",
    "\n",
    "There are two types of missing values that I want to treat differently: \n",
    "1. Missing values at the beginning of a time series \n",
    "2. Missing values within a time series\n",
    "\n",
    "Wyoming County is a good example of both of these.\n",
    "\n",
    "I will transform these as follows:\n",
    "1. fill in with zero \n",
    "1. fill in with the most recent cumulative count (presumably the day before)\n",
    "\n",
    "Because of the way the fillna code works, we are going to do these in the opposite order (start with #2)."
   ]
  },
  {
   "cell_type": "code",
   "execution_count": null,
   "metadata": {},
   "outputs": [],
   "source": [
    "# recreate df removing index\n",
    "# f = Rockland[['date','county','cases','deaths']]\n",
    "f=NY[['date','county','cases','deaths']]"
   ]
  },
  {
   "cell_type": "code",
   "execution_count": null,
   "metadata": {},
   "outputs": [],
   "source": [
    "f.head()"
   ]
  },
  {
   "cell_type": "code",
   "execution_count": null,
   "metadata": {},
   "outputs": [],
   "source": [
    "pd.set_option('display.max_rows', None)\n",
    "\n",
    "# this is step 2, fill with the prior day (or most recent day without NA)\n",
    "f = f.groupby('county',as_index=False).fillna(method='ffill')"
   ]
  },
  {
   "cell_type": "code",
   "execution_count": null,
   "metadata": {},
   "outputs": [],
   "source": [
    "f[f.county == 'Wyoming County']"
   ]
  },
  {
   "cell_type": "code",
   "execution_count": null,
   "metadata": {},
   "outputs": [],
   "source": [
    "# this is step #1 fill remainder of NAs with zero (will always be at beginning of timeseries)\n",
    "f.fillna(0.0,inplace=True)"
   ]
  },
  {
   "cell_type": "code",
   "execution_count": null,
   "metadata": {},
   "outputs": [],
   "source": [
    "f[f.county == 'Albany County']"
   ]
  },
  {
   "cell_type": "markdown",
   "metadata": {},
   "source": [
    "#### Filter to sundays\n",
    "\n",
    "Create a filter for all the sundays.  "
   ]
  },
  {
   "cell_type": "code",
   "execution_count": null,
   "metadata": {},
   "outputs": [],
   "source": [
    "# sundays = pd.date_range('2019-12-29', '2021-01-31', freq='W-SUN')\n",
    "saturdays = pd.date_range('2019-12-28', '2021-01-30', freq='W-SAT')"
   ]
  },
  {
   "cell_type": "code",
   "execution_count": null,
   "metadata": {},
   "outputs": [],
   "source": [
    "# newf = f[f.date.isin(sundays)]\n",
    "f = f[f.date.isin(saturdays)]"
   ]
  },
  {
   "cell_type": "code",
   "execution_count": null,
   "metadata": {},
   "outputs": [],
   "source": [
    "f"
   ]
  },
  {
   "cell_type": "markdown",
   "metadata": {},
   "source": [
    "### Calculate the weekly deaths by differing cumulative deaths"
   ]
  },
  {
   "cell_type": "code",
   "execution_count": null,
   "metadata": {},
   "outputs": [],
   "source": [
    "# calculate the weekly deaths\n",
    "f['prev_value'] = f.groupby('county')['cases'].shift(1)\n",
    "f['weekly_cases'] = f['cases']-f['prev_value']\n",
    "\n",
    "f['prev_value'] = f.groupby('county')['deaths'].shift(1)\n",
    "f['weekly_deaths'] = f['deaths']-f['prev_value']"
   ]
  },
  {
   "cell_type": "code",
   "execution_count": null,
   "metadata": {},
   "outputs": [],
   "source": [
    "f"
   ]
  },
  {
   "cell_type": "code",
   "execution_count": null,
   "metadata": {},
   "outputs": [],
   "source": [
    "df_trend = f[['date','county','weekly_cases','weekly_deaths']].set_index(['county','date'])"
   ]
  },
  {
   "cell_type": "code",
   "execution_count": null,
   "metadata": {},
   "outputs": [],
   "source": [
    "df_trend.loc['Rockland County',:].plot()"
   ]
  },
  {
   "cell_type": "code",
   "execution_count": null,
   "metadata": {},
   "outputs": [],
   "source": [
    "df_trend.loc['Wyoming County',:].plot()"
   ]
  },
  {
   "cell_type": "markdown",
   "metadata": {},
   "source": [
    "### Week over week"
   ]
  },
  {
   "cell_type": "code",
   "execution_count": null,
   "metadata": {},
   "outputs": [],
   "source": [
    "df_trend['prev_value'] = df_trend.groupby('county')['weekly_cases'].shift(1)\n",
    "df_trend['cases_wow'] = (df_trend['weekly_cases']-df_trend['prev_value'])/df_trend['prev_value']\n",
    "df_trend.loc[np.isnan(df_trend['cases_wow']), 'cases_wow'] = 0.0\n",
    "df_trend.loc[~np.isfinite(df_trend['cases_wow']), 'cases_wow'] = 100.0\n",
    "\n",
    "df_trend['cases_wow2'] = pd.cut(df_trend['cases_wow'],bins=[-1,-0.5,-0.05,0.05,.5,1,99999],labels=['-100% to -50%','-50% to -5%','no change','5% to 50%','50% to 100%','100%+'])"
   ]
  },
  {
   "cell_type": "code",
   "execution_count": null,
   "metadata": {},
   "outputs": [],
   "source": [
    "# need to move this into a function to rerun...\n",
    "df_trend['prev_value'] = df_trend.groupby('county')['weekly_deaths'].shift(1)\n",
    "df_trend['deaths_wow'] = (df_trend['weekly_deaths']-df_trend['prev_value'])/df_trend['prev_value']\n",
    "# 0/0 will result in NaNs; we'll define those as 0% growth\n",
    "df_trend.loc[np.isnan(df_trend['deaths_wow']), 'deaths_wow'] = 0.0\n",
    "# number/0 will result in Inf. we'll define these as 100% growth\n",
    "df_trend.loc[~np.isfinite(df_trend['deaths_wow']), 'deaths_wow'] = 110.0\n",
    "\n",
    "df_trend['deaths_wow2'] = pd.cut(df_trend['deaths_wow'],bins=[-1,-0.5,-0.05,0.05,.5,1,99999],labels=['-100% to -50%','-50% to -5%','no change','5% to 50%','50% to 100%','100%+'])"
   ]
  },
  {
   "cell_type": "code",
   "execution_count": null,
   "metadata": {},
   "outputs": [],
   "source": [
    "df_trend"
   ]
  },
  {
   "cell_type": "markdown",
   "metadata": {},
   "source": [
    "## Get the rolling trend on the weekly data"
   ]
  },
  {
   "cell_type": "code",
   "execution_count": null,
   "metadata": {},
   "outputs": [],
   "source": [
    "from sklearn.linear_model import LinearRegression\n",
    "import statsmodels.api as sm\n",
    "\n",
    "def rolling_trend_linear(y):\n",
    "    # this will be a slope per week, this X assumes all weeks are included\n",
    "    x=np.arange(0,len(y),1).reshape(-1,1)\n",
    "    regressor = LinearRegression()\n",
    "    try:\n",
    "        regressor.fit(x,y) \n",
    "    except:\n",
    "        return \n",
    "    \n",
    "    return regressor.coef_\n",
    "\n",
    "\n",
    "# incomplete\n",
    "def rolling_trend_logistic(y):\n",
    "    # this will be a slope per week, this X assumes all weeks are included\n",
    "    x=np.arange(0,len(y),1).reshape(-1,1)\n",
    "    regressor = LinearRegression()\n",
    "    try:\n",
    "        regressor.fit(x,y) \n",
    "    except:\n",
    "        return \n",
    "    \n",
    "    return regressor.coef_"
   ]
  },
  {
   "cell_type": "code",
   "execution_count": null,
   "metadata": {},
   "outputs": [],
   "source": [
    "# use rollng to apply linear regression\n",
    "temp = df_trend.rolling(4)['weekly_cases'].apply(rolling_trend_linear)\n",
    "temp = temp.to_frame().rename(columns={'weekly_cases' : 'cases_4w_trend'})\n",
    "# type(temp)"
   ]
  },
  {
   "cell_type": "code",
   "execution_count": null,
   "metadata": {},
   "outputs": [],
   "source": [
    "temp"
   ]
  },
  {
   "cell_type": "code",
   "execution_count": null,
   "metadata": {},
   "outputs": [],
   "source": [
    "df_new = pd.merge(df_trend,temp,how='left', on=['county','date'])"
   ]
  },
  {
   "cell_type": "code",
   "execution_count": null,
   "metadata": {},
   "outputs": [],
   "source": [
    "# use rollng to apply linear regression\n",
    "temp = df_trend.rolling(4)['weekly_deaths'].apply(rolling_trend_linear)\n",
    "temp = temp.to_frame().rename(columns={'weekly_deaths' : 'deaths_4w_trend'})"
   ]
  },
  {
   "cell_type": "code",
   "execution_count": null,
   "metadata": {},
   "outputs": [],
   "source": [
    "temp"
   ]
  },
  {
   "cell_type": "code",
   "execution_count": null,
   "metadata": {},
   "outputs": [],
   "source": [
    "df_new = pd.merge(df_new,temp,how='left', on=['county','date'])"
   ]
  },
  {
   "cell_type": "code",
   "execution_count": null,
   "metadata": {},
   "outputs": [],
   "source": [
    "df_new"
   ]
  },
  {
   "cell_type": "code",
   "execution_count": null,
   "metadata": {},
   "outputs": [],
   "source": [
    "df_new.reset_index(level=0, inplace=True)"
   ]
  },
  {
   "cell_type": "code",
   "execution_count": null,
   "metadata": {},
   "outputs": [],
   "source": [
    "df_new[df_new.date == '2020-06-27'].to_csv('NY_trends_6-27.csv')"
   ]
  },
  {
   "cell_type": "code",
   "execution_count": null,
   "metadata": {},
   "outputs": [],
   "source": [
    "df_new.to_csv('NY_county_covid_trends.csv')"
   ]
  },
  {
   "cell_type": "markdown",
   "metadata": {},
   "source": [
    "## Old code"
   ]
  },
  {
   "cell_type": "code",
   "execution_count": null,
   "metadata": {},
   "outputs": [],
   "source": [
    "def countna(array_like):\n",
    "    missings = sum(np.isnan(array_like))\n",
    "    if missings > 0:\n",
    "        return \n",
    "    return sum(array_like)\n",
    "\n",
    "# logic = {'deaths' : 'sum','missings' : countna}\n",
    "\n",
    "offset = pd.offsets.timedelta(days=-6)"
   ]
  }
 ],
 "metadata": {
  "kernelspec": {
   "display_name": "Python 3",
   "language": "python",
   "name": "python3"
  },
  "language_info": {
   "codemirror_mode": {
    "name": "ipython",
    "version": 3
   },
   "file_extension": ".py",
   "mimetype": "text/x-python",
   "name": "python",
   "nbconvert_exporter": "python",
   "pygments_lexer": "ipython3",
   "version": "3.7.6"
  }
 },
 "nbformat": 4,
 "nbformat_minor": 4
}
