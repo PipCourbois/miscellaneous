{
 "cells": [
  {
   "cell_type": "markdown",
   "metadata": {},
   "source": [
    "### Integer programming from Discrete Optimization course\n",
    "\n",
    "* [course](https://www.coursera.org/learn/discrete-optimization/home/welcome) - the course code is here\n",
    "* [source of code](https://github.com/benalexkeen/Introduction-to-linear-programming/blob/master/Introduction%20to%20Linear%20Programming%20with%20Python%20-%20Part%201.ipynb)\n",
    "* [another example](https://towardsdatascience.com/linear-programming-and-discrete-optimization-with-python-using-pulp-449f3c5f6e99)\n",
    "\n"
   ]
  },
  {
   "cell_type": "markdown",
   "metadata": {},
   "source": [
    "## Small knapsack-problem with only 4 items \n",
    "\n",
    "\n",
    "### Read in the data"
   ]
  },
  {
   "cell_type": "code",
   "execution_count": 1,
   "metadata": {},
   "outputs": [],
   "source": [
    "# this method for reading in the data is obsolete, keeping it in this file for interest\n",
    "# see next code block for using pandas to read the data\n",
    "\n",
    "file_location = './discrete_optimization_course/knapsack/data/ks_lecture_dp_2'\n",
    "\n",
    "with open(file_location, 'r') as input_data_file:\n",
    "    input_data = input_data_file.read()\n",
    "    \n",
    "from collections import namedtuple\n",
    "Item = namedtuple(\"Item\", ['index', 'value', 'weight'])\n",
    "\n",
    "# parse the input\n",
    "lines = input_data.split('\\n')\n",
    "\n",
    "firstLine = lines[0].split()\n",
    "item_count = int(firstLine[0])\n",
    "capacity = int(firstLine[1])\n",
    "\n",
    "items = []\n",
    "\n",
    "for i in range(1, item_count+1):\n",
    "    line = lines[i]\n",
    "    parts = line.split()\n",
    "    items.append(Item(i-1, int(parts[0]), int(parts[1])))\n",
    "    \n",
    "items\n"
   ]
  },
  {
   "cell_type": "code",
   "execution_count": 116,
   "metadata": {},
   "outputs": [],
   "source": [
    "import pandas as pd\n",
    "file_location = './discrete_optimization_course/knapsack/data/ks_lecture_dp_2'\n",
    "\n",
    "items = pd.read_csv(file_location,sep=\" \",header=None)\n",
    "items.columns = [\"value\", \"weight\"]\n",
    "\n",
    "no_items = items.iloc[0,0]\n",
    "capacity = items.iloc[0,1]\n",
    "\n",
    "items = items.drop(0).reset_index()"
   ]
  },
  {
   "cell_type": "code",
   "execution_count": 117,
   "metadata": {},
   "outputs": [
    {
     "data": {
      "text/html": [
       "<div>\n",
       "<style scoped>\n",
       "    .dataframe tbody tr th:only-of-type {\n",
       "        vertical-align: middle;\n",
       "    }\n",
       "\n",
       "    .dataframe tbody tr th {\n",
       "        vertical-align: top;\n",
       "    }\n",
       "\n",
       "    .dataframe thead th {\n",
       "        text-align: right;\n",
       "    }\n",
       "</style>\n",
       "<table border=\"1\" class=\"dataframe\">\n",
       "  <thead>\n",
       "    <tr style=\"text-align: right;\">\n",
       "      <th></th>\n",
       "      <th>index</th>\n",
       "      <th>value</th>\n",
       "      <th>weight</th>\n",
       "    </tr>\n",
       "  </thead>\n",
       "  <tbody>\n",
       "    <tr>\n",
       "      <th>0</th>\n",
       "      <td>1</td>\n",
       "      <td>16</td>\n",
       "      <td>2</td>\n",
       "    </tr>\n",
       "    <tr>\n",
       "      <th>1</th>\n",
       "      <td>2</td>\n",
       "      <td>19</td>\n",
       "      <td>3</td>\n",
       "    </tr>\n",
       "    <tr>\n",
       "      <th>2</th>\n",
       "      <td>3</td>\n",
       "      <td>23</td>\n",
       "      <td>4</td>\n",
       "    </tr>\n",
       "    <tr>\n",
       "      <th>3</th>\n",
       "      <td>4</td>\n",
       "      <td>28</td>\n",
       "      <td>5</td>\n",
       "    </tr>\n",
       "  </tbody>\n",
       "</table>\n",
       "</div>"
      ],
      "text/plain": [
       "   index  value  weight\n",
       "0      1     16       2\n",
       "1      2     19       3\n",
       "2      3     23       4\n",
       "3      4     28       5"
      ]
     },
     "execution_count": 117,
     "metadata": {},
     "output_type": "execute_result"
    }
   ],
   "source": [
    "items"
   ]
  },
  {
   "cell_type": "markdown",
   "metadata": {},
   "source": [
    "### Set up the data for LP"
   ]
  },
  {
   "cell_type": "code",
   "execution_count": 133,
   "metadata": {},
   "outputs": [],
   "source": [
    "item_names = list(items['index'])\n",
    "values = dict(zip(item_names,items['value']))\n",
    "weights = dict(zip(item_names,items['weight']))"
   ]
  },
  {
   "cell_type": "code",
   "execution_count": 134,
   "metadata": {},
   "outputs": [
    {
     "data": {
      "text/plain": [
       "{1: 2, 2: 3, 3: 4, 4: 5}"
      ]
     },
     "execution_count": 134,
     "metadata": {},
     "output_type": "execute_result"
    }
   ],
   "source": [
    "weights"
   ]
  },
  {
   "cell_type": "markdown",
   "metadata": {},
   "source": [
    "### Set up the model\n",
    "\n",
    "- the following uses the dictionaries built from the dataframe (second data read commands)"
   ]
  },
  {
   "cell_type": "code",
   "execution_count": 122,
   "metadata": {},
   "outputs": [],
   "source": [
    "import pulp"
   ]
  },
  {
   "cell_type": "code",
   "execution_count": 160,
   "metadata": {},
   "outputs": [],
   "source": [
    "# Instantiate a problem class\n",
    "model = pulp.LpProblem(\"Small_knapsack_problem\", pulp.LpMaximize)"
   ]
  },
  {
   "cell_type": "code",
   "execution_count": 161,
   "metadata": {},
   "outputs": [],
   "source": [
    "# decision variables - Integer between zero and one\n",
    "item_include = pulp.LpVariable.dicts(\"item\",\n",
    "                                     item_names,\n",
    "                                     lowBound=0,upBound=1,\n",
    "                                     cat='Integer')"
   ]
  },
  {
   "cell_type": "code",
   "execution_count": 162,
   "metadata": {},
   "outputs": [
    {
     "data": {
      "text/plain": [
       "{1: item_1, 2: item_2, 3: item_3, 4: item_4}"
      ]
     },
     "execution_count": 162,
     "metadata": {},
     "output_type": "execute_result"
    }
   ],
   "source": [
    "item_include"
   ]
  },
  {
   "cell_type": "code",
   "execution_count": 163,
   "metadata": {},
   "outputs": [],
   "source": [
    "# Objective Function\n",
    "model += (\n",
    "    pulp.lpSum([\n",
    "        values[i]*item_include[i]\n",
    "        for i in item_names])\n",
    ")"
   ]
  },
  {
   "cell_type": "code",
   "execution_count": 165,
   "metadata": {},
   "outputs": [],
   "source": [
    "model += pulp.lpSum(weights[i]*item_include[i] for i in item_names) <= capacity"
   ]
  },
  {
   "cell_type": "code",
   "execution_count": 166,
   "metadata": {},
   "outputs": [
    {
     "data": {
      "text/plain": [
       "Small_knapsack_problem:\n",
       "MAXIMIZE\n",
       "16*item_1 + 19*item_2 + 23*item_3 + 28*item_4 + 0\n",
       "SUBJECT TO\n",
       "_C1: 2 item_1 + 3 item_2 + 4 item_3 + 5 item_4 <= 7\n",
       "\n",
       "VARIABLES\n",
       "0 <= item_1 <= 1 Integer\n",
       "0 <= item_2 <= 1 Integer\n",
       "0 <= item_3 <= 1 Integer\n",
       "0 <= item_4 <= 1 Integer"
      ]
     },
     "execution_count": 166,
     "metadata": {},
     "output_type": "execute_result"
    }
   ],
   "source": [
    "model"
   ]
  },
  {
   "cell_type": "code",
   "execution_count": 167,
   "metadata": {},
   "outputs": [
    {
     "data": {
      "text/plain": [
       "16*item_1 + 19*item_2 + 23*item_3 + 28*item_4 + 0"
      ]
     },
     "execution_count": 167,
     "metadata": {},
     "output_type": "execute_result"
    }
   ],
   "source": [
    "model.objective"
   ]
  },
  {
   "cell_type": "code",
   "execution_count": 168,
   "metadata": {},
   "outputs": [
    {
     "data": {
      "text/plain": [
       "OrderedDict([('_C1', 2*item_1 + 3*item_2 + 4*item_3 + 5*item_4 + -7 <= 0)])"
      ]
     },
     "execution_count": 168,
     "metadata": {},
     "output_type": "execute_result"
    }
   ],
   "source": [
    "model.constraints"
   ]
  },
  {
   "cell_type": "code",
   "execution_count": 169,
   "metadata": {},
   "outputs": [
    {
     "data": {
      "text/plain": [
       "[item_1, item_2, item_3, item_4]"
      ]
     },
     "execution_count": 169,
     "metadata": {},
     "output_type": "execute_result"
    }
   ],
   "source": [
    "# this will write the model to a file\n",
    "model.writeLP('knapsack_problem')"
   ]
  },
  {
   "cell_type": "markdown",
   "metadata": {},
   "source": [
    "### Solve the model"
   ]
  },
  {
   "cell_type": "code",
   "execution_count": 170,
   "metadata": {},
   "outputs": [
    {
     "data": {
      "text/plain": [
       "'Optimal'"
      ]
     },
     "execution_count": 170,
     "metadata": {},
     "output_type": "execute_result"
    }
   ],
   "source": [
    "model.solve()\n",
    "pulp.LpStatus[model.status]"
   ]
  },
  {
   "cell_type": "code",
   "execution_count": 171,
   "metadata": {},
   "outputs": [
    {
     "data": {
      "text/plain": [
       "{1: item_1, 2: item_2, 3: item_3, 4: item_4}"
      ]
     },
     "execution_count": 171,
     "metadata": {},
     "output_type": "execute_result"
    }
   ],
   "source": [
    "item_include"
   ]
  },
  {
   "cell_type": "code",
   "execution_count": 156,
   "metadata": {},
   "outputs": [
    {
     "data": {
      "text/plain": [
       "0.0"
      ]
     },
     "execution_count": 156,
     "metadata": {},
     "output_type": "execute_result"
    }
   ],
   "source": [
    "item_include[2].varValue"
   ]
  },
  {
   "cell_type": "markdown",
   "metadata": {},
   "source": [
    "### Results"
   ]
  },
  {
   "cell_type": "code",
   "execution_count": 172,
   "metadata": {},
   "outputs": [
    {
     "name": "stdout",
     "output_type": "stream",
     "text": [
      "Include item 1 : 1.0\n",
      "Include item 2 : 0.0\n",
      "Include item 3 : 0.0\n",
      "Include item 4 : 1.0\n"
     ]
    }
   ],
   "source": [
    "for var in item_include:\n",
    "    var_value = item_include[var].varValue\n",
    "    print(\"Include item {0} : {1}\".format(var, var_value) )"
   ]
  },
  {
   "cell_type": "code",
   "execution_count": 175,
   "metadata": {},
   "outputs": [
    {
     "name": "stdout",
     "output_type": "stream",
     "text": [
      "The total value saved is €44.0\n"
     ]
    }
   ],
   "source": [
    "total_value_saved = pulp.value(model.objective)\n",
    "\n",
    "print(\"The total value saved is €{}\".format((total_value_saved)))"
   ]
  },
  {
   "cell_type": "markdown",
   "metadata": {},
   "source": [
    "## Larger knapsack problem"
   ]
  },
  {
   "cell_type": "code",
   "execution_count": null,
   "metadata": {},
   "outputs": [],
   "source": [
    "import pandas as pd\n",
    "file_location = './discrete_optimization_course/knapsack/data/ks_lecture_dp_2'\n",
    "\n",
    "items = pd.read_csv(file_location,sep=\" \",header=None)\n",
    "items.columns = [\"value\", \"weight\"]\n",
    "\n",
    "no_items = items.iloc[0,0]\n",
    "capacity = items.iloc[0,1]\n",
    "\n",
    "items = items.drop(0).reset_index()"
   ]
  }
 ],
 "metadata": {
  "kernelspec": {
   "display_name": "Python 3",
   "language": "python",
   "name": "python3"
  },
  "language_info": {
   "codemirror_mode": {
    "name": "ipython",
    "version": 3
   },
   "file_extension": ".py",
   "mimetype": "text/x-python",
   "name": "python",
   "nbconvert_exporter": "python",
   "pygments_lexer": "ipython3",
   "version": "3.7.6"
  }
 },
 "nbformat": 4,
 "nbformat_minor": 4
}
