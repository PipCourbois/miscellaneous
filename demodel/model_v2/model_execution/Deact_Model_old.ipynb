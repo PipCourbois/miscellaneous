{
 "cells": [
  {
   "cell_type": "code",
   "execution_count": 1,
   "metadata": {},
   "outputs": [
    {
     "name": "stdout",
     "output_type": "stream",
     "text": [
      "[ 2019-08-20 17:32:05.842286 ] : Deactivation model 3.0 triggered\n"
     ]
    }
   ],
   "source": [
    "import os\n",
    "from datetime import datetime, timedelta\n",
    "from dateutil.relativedelta import relativedelta\n",
    "\n",
    "print('[ '+str(datetime.utcnow())+' ] : Deactivation model 3.0 triggered')\n",
    "start = datetime.utcnow()\n",
    "\n",
    "#import numpy as np\n",
    "#import pandas as pd\n",
    "#from pyhive import hive\n",
    "\n",
    "#import xgboost as xgb\n",
    "#from sklearn import metrics\n",
    "#from sklearn.model_selection import train_test_split\n",
    "#from xgboost.sklearn import XGBClassifier\n",
    "#from sklearn.ensemble import RandomForestClassifier\n",
    "\n",
    "#import matplotlib.pylab as plt\n",
    "\n",
    "from pyspark.sql import SparkSession\n",
    "import pyspark.sql.functions as F\n",
    "#from pyspark.sql.types import DoubleType, StringType"
   ]
  },
  {
   "cell_type": "code",
   "execution_count": 2,
   "metadata": {
    "collapsed": true
   },
   "outputs": [],
   "source": [
    "spark = SparkSession\\\n",
    "    .builder\\\n",
    "    .appName('deact-model')\\\n",
    "    .master('yarn')\\\n",
    "    .config('spark.submit.deployMode','client')\\\n",
    "    .config('spark.yarn.queue','public')\\\n",
    "    .config('hive.exec.dynamic.partition', 'true')\\\n",
    "    .config('hive.exec.dynamic.partition.mode', 'nonstrict')\\\n",
    "    .config('spark.yarn.dist.archives','hdfs:////user/grp_gdoop_admin/anaconda/anaconda2_env.zip#ANACONDA')\\\n",
    "    .config('spark.sql.warehouse.dir','hdfs://cerebro-namenode-vip.snc1/user/grp_gdoop_clv/grp_gdoop_clv_hiveDB.db')\\\n",
    "    .enableHiveSupport()\\\n",
    "    .getOrCreate()\n",
    "\n",
    "# The 2 Hive partition settings allow dynamic partitioning - write new partitions into tables using folder names"
   ]
  },
  {
   "cell_type": "markdown",
   "metadata": {},
   "source": [
    "# SQL Pipeline - NA"
   ]
  },
  {
   "cell_type": "markdown",
   "metadata": {},
   "source": [
    "##### Constants"
   ]
  },
  {
   "cell_type": "code",
   "execution_count": 3,
   "metadata": {
    "collapsed": true
   },
   "outputs": [],
   "source": [
    "hdfs_folder = 'hdfs://cerebro-namenode-vip.snc1/user/grp_gdoop_clv/deact-model/'\n",
    "hive_db = 'grp_gdoop_clv_db'\n",
    "hive_tbl_prefix = 'ce_keep_deact_'\n",
    "\n",
    "FILE_DICT = {\n",
    "    'pop': hdfs_folder + hive_tbl_prefix + 'pop',\n",
    "    'response': hdfs_folder + hive_tbl_prefix + 'response'\n",
    "}\n",
    "\n",
    "DATE_DICT = {}\n",
    "DATE_DICT['train'] = datetime.strftime(datetime.utcnow(), '%Y-%m-%d')\n",
    "DATE_DICT['score'] = datetime.strftime(datetime.strptime(DATE_DICT['train'], '%Y-%m-%d') + timedelta(days=365), '%Y-%m-%d')"
   ]
  },
  {
   "cell_type": "markdown",
   "metadata": {},
   "source": [
    "##### Utilities"
   ]
  },
  {
   "cell_type": "code",
   "execution_count": 4,
   "metadata": {
    "collapsed": true
   },
   "outputs": [],
   "source": [
    "def write_df_to_orc(df, filename, description):\n",
    "    print('[ '+str(datetime.utcnow())+' ] : Saving results')\n",
    "    df.write\\\n",
    "        .mode('overwrite')\\\n",
    "        .format('orc')\\\n",
    "        .option('orc.compress','snappy')\\\n",
    "        .save(filename)\n",
    "    print('[ '+str(datetime.utcnow())+' ] : Saved '+description+' to: '+filename)"
   ]
  },
  {
   "cell_type": "code",
   "execution_count": 5,
   "metadata": {
    "collapsed": true
   },
   "outputs": [],
   "source": [
    "def create_hive_external_tbl(spark, file_loc, columns):\n",
    "    tbl = file_loc.split('/')[-1]\n",
    "    file_loc = file_loc.replace('-vip.snc1','')\n",
    "    \n",
    "    # Drop old table schema\n",
    "    qry_drop = 'drop table if exists '+hive_db+'.'+tbl\n",
    "    spark.sql(qry_drop)\n",
    "    \n",
    "    # Create new table schema\n",
    "    qry_create = 'create external table if not exists '+hive_db+'.'+tbl+' ('+\\\n",
    "        ', '.join([col+' string' for col in columns])+') '+\\\n",
    "        'partitioned by (phase string, record_date string)'+\\\n",
    "        'stored as orc '+\\\n",
    "        'location \"'+file_loc+'\"'\n",
    "    spark.sql(qry_create)\n",
    "        \n",
    "    print('[ '+str(datetime.utcnow())+' ] : View results in Hive table: '+hive_db+'.'+tbl)"
   ]
  },
  {
   "cell_type": "code",
   "execution_count": 6,
   "metadata": {
    "collapsed": true
   },
   "outputs": [],
   "source": [
    "def add_hive_partition(spark, filename, phase, record_date):\n",
    "    tbl = filename.split('/')[-1]\n",
    "    qry_add_partition = 'alter table '+hive_db+'.'+tbl+' add if not exists partition('+\\\n",
    "        'phase=\"'+phase+'\", record_date=\"'+record_date+'\")'\n",
    "    spark.sql(qry_add_partition)\n",
    "    print('[ '+str(datetime.utcnow())+' ] : Added partition (phase=\"'+phase+'\", record_date=\"'+record_date+'\") to '+hive_db+'.'+tbl)"
   ]
  },
  {
   "cell_type": "code",
   "execution_count": 7,
   "metadata": {
    "collapsed": true
   },
   "outputs": [],
   "source": [
    "def drop_hive_partition(spark, filename, phase, record_date):\n",
    "    tbl = filename.split('/')[-1]\n",
    "    qry_drop_partition = 'alter table '+hive_db+'.'+tbl+' drop if exists partition('+\\\n",
    "        'phase=\"'+phase+'\", record_date=\"'+record_date+'\")'\n",
    "    spark.sql(qry_drop_partition)\n",
    "    print('[ '+str(datetime.utcnow())+' ] : Dropped partition (phase=\"'+phase+'\", record_date=\"'+record_date+'\") from '+hive_db+'.'+tbl)\n",
    "\n",
    "    filename = filename+'/phase='+phase+'/record_date='+record_date\n",
    "    os.system('hadoop fs -rm -R -skipTrash '+filename)\n",
    "    print('[ '+str(datetime.utcnow())+' ] : Dropped folder '+filename+'\\n')"
   ]
  },
  {
   "cell_type": "code",
   "execution_count": 8,
   "metadata": {
    "collapsed": true
   },
   "outputs": [],
   "source": [
    "def save_orc_update_hive(spark, df, filename, phase, record_date, description, refresh_tbl_schema):\n",
    "    write_df_to_orc(df, filename+'/phase='+phase+'/record_date='+record_date, description)\n",
    "    \n",
    "    if refresh_tbl_schema:\n",
    "        create_hive_external_tbl(spark, filename, df.columns)\n",
    "        \n",
    "    date_7d = datetime.strftime(datetime.strptime(DATE_DICT[phase], '%Y-%m-%d') + timedelta(days=-7), '%Y-%m-%d')\n",
    "    add_hive_partition(spark, filename, phase, record_date)\n",
    "    drop_hive_partition(spark, filename, phase, date_7d)"
   ]
  },
  {
   "cell_type": "markdown",
   "metadata": {},
   "source": [
    "##### Create Tables"
   ]
  },
  {
   "cell_type": "code",
   "execution_count": 9,
   "metadata": {},
   "outputs": [
    {
     "data": {
      "text/plain": [
       "{'score': '2020-08-19', 'train': '2019-08-20'}"
      ]
     },
     "execution_count": 9,
     "metadata": {},
     "output_type": "execute_result"
    }
   ],
   "source": [
    "DATE_DICT"
   ]
  },
  {
   "cell_type": "code",
   "execution_count": 10,
   "metadata": {
    "collapsed": true
   },
   "outputs": [],
   "source": [
    "def create_pop_tbl(spark, phase, refresh_tbl_schema=False):\n",
    "    print('[ '+str(datetime.utcnow())+' ] : Loading population '+phase+' data')\n",
    "    date_12m1d = datetime.strftime(datetime.strptime(DATE_DICT[phase], '%Y-%m-%d') + relativedelta(months=-12, days=-1), '%Y-%m-%d')\n",
    "    \n",
    "    df = spark.sql('select * from cia_realtime.user_attrs')\\\n",
    "        .filter(F.col('record_date') == date_12m1d)\\\n",
    "        .filter(F.col('recency_9block').isin(['1-High Rec (0-30 Days)','2-Med Rec (31-120 Days)','3-Low Rec (121-365 Days)']))\\\n",
    "        .filter(F.col('brand') == 'groupon')\\\n",
    "        .select('brand','consumer_id','user_key','recency_segment','frequency_segment','recency_9block','frequency_9block')\\\n",
    "        .groupby('brand','consumer_id','user_key')\\\n",
    "        .agg({'recency_segment':'min','frequency_segment':'min','recency_9block':'min','frequency_9block':'min'})\\\n",
    "        .withColumnRenamed('min(frequency_segment)','frequency_segment')\\\n",
    "        .withColumnRenamed('min(recency_segment)','recency_segment')\\\n",
    "        .withColumnRenamed('min(frequency_9block)','frequency_9block')\\\n",
    "        .withColumnRenamed('min(recency_9block)','recency_9block')\n",
    "    \n",
    "    filename = FILE_DICT['pop']\n",
    "    save_orc_update_hive(spark, df, filename, phase, DATE_DICT[phase], phase+' population from '+date_12m1d, refresh_tbl_schema)"
   ]
  },
  {
   "cell_type": "code",
   "execution_count": 11,
   "metadata": {},
   "outputs": [],
   "source": [
    "def create_response_tbl(spark, phase, refresh_tbl_schema=False):\n",
    "    print('[ '+str(datetime.utcnow())+' ] : Loading '+phase+' response data')\n",
    "    date_2d = datetime.strftime(datetime.strptime(DATE_DICT[phase], '%Y-%m-%d') + timedelta(days=-2), '%Y-%m-%d')\n",
    "    date_12m1d = datetime.strftime(datetime.strptime(DATE_DICT[phase], '%Y-%m-%d') + relativedelta(months=-12, days=-1), '%Y-%m-%d')\n",
    "    \n",
    "    df = spark.sql('select * from grp_gdoop_marketing_analytics_db.me_orders_fgt_usd')\\\n",
    "        .filter(F.col('attribution_type') == '3.1')\\\n",
    "        .filter(F.col('platform_key') == 1)\\\n",
    "        .filter((F.col('transaction_date') <= date_2d) & (F.col('transaction_date') >= date_12m1d))\\\n",
    "        .filter(F.col('country_id').isin([40,235]))\\\n",
    "        .filter(F.col('txn_amount_loc') <> 0)\\\n",
    "        .filter(F.col('user_brand_affiliation') == 'groupon')\\\n",
    "        .select('consumer_id','order_date')\\\n",
    "        .groupby('consumer_id')\\\n",
    "        .agg({'order_date':'min'})\\\n",
    "        .withColumnRenamed('min(order_date)','first_order_date')\n",
    "    \n",
    "    filename = FILE_DICT['response']\n",
    "    save_orc_update_hive(spark, df, filename, phase, DATE_DICT[phase], phase+' responses from '+date_12m1d+' thru '+date_2d, refresh_tbl_schema)"
   ]
  },
  {
   "cell_type": "code",
   "execution_count": 12,
   "metadata": {
    "scrolled": false
   },
   "outputs": [
    {
     "name": "stdout",
     "output_type": "stream",
     "text": [
      "[ 2019-08-20 17:34:32.254752 ] : Loading population train data\n",
      "[ 2019-08-20 17:34:39.440888 ] : Saving results\n",
      "[ 2019-08-20 17:38:40.078135 ] : Saved train population from 2018-08-19 to: hdfs://cerebro-namenode-vip.snc1/user/grp_gdoop_clv/deact-model/ce_keep_deact_pop/phase=train/record_date=2019-08-20\n",
      "[ 2019-08-20 17:38:40.324873 ] : Added partition (phase=\"train\", record_date=\"2019-08-20\") to grp_gdoop_clv_db.ce_keep_deact_pop\n",
      "[ 2019-08-20 17:38:40.487078 ] : Dropped partition (phase=\"train\", record_date=\"2019-08-13\") from grp_gdoop_clv_db.ce_keep_deact_pop\n",
      "[ 2019-08-20 17:38:42.616488 ] : Dropped folder hdfs://cerebro-namenode-vip.snc1/user/grp_gdoop_clv/deact-model/ce_keep_deact_pop/phase=train/record_date=2019-08-13\n",
      "\n",
      "[ 2019-08-20 17:38:43.345827 ] : Saving results\n",
      "[ 2019-08-20 17:41:06.844544 ] : Saved train responses from 2018-08-19 thru 2019-08-18 to: hdfs://cerebro-namenode-vip.snc1/user/grp_gdoop_clv/deact-model/ce_keep_deact_response/phase=train/record_date=2019-08-20\n",
      "[ 2019-08-20 17:41:07.069385 ] : Added partition (phase=\"train\", record_date=\"2019-08-20\") to grp_gdoop_clv_db.ce_keep_deact_response\n",
      "[ 2019-08-20 17:41:07.252118 ] : Dropped partition (phase=\"train\", record_date=\"2019-08-13\") from grp_gdoop_clv_db.ce_keep_deact_response\n",
      "[ 2019-08-20 17:41:09.380211 ] : Dropped folder hdfs://cerebro-namenode-vip.snc1/user/grp_gdoop_clv/deact-model/ce_keep_deact_response/phase=train/record_date=2019-08-13\n",
      "\n",
      "[ 2019-08-20 17:41:09.380546 ] : Loading population score data\n",
      "[ 2019-08-20 17:41:10.560478 ] : Saving results\n",
      "[ 2019-08-20 17:44:24.214022 ] : Saved score population from 2019-08-18 to: hdfs://cerebro-namenode-vip.snc1/user/grp_gdoop_clv/deact-model/ce_keep_deact_pop/phase=score/record_date=2020-08-19\n",
      "[ 2019-08-20 17:44:24.373711 ] : Added partition (phase=\"score\", record_date=\"2020-08-19\") to grp_gdoop_clv_db.ce_keep_deact_pop\n",
      "[ 2019-08-20 17:44:24.507163 ] : Dropped partition (phase=\"score\", record_date=\"2020-08-12\") from grp_gdoop_clv_db.ce_keep_deact_pop\n",
      "[ 2019-08-20 17:44:26.781546 ] : Dropped folder hdfs://cerebro-namenode-vip.snc1/user/grp_gdoop_clv/deact-model/ce_keep_deact_pop/phase=score/record_date=2020-08-12\n",
      "\n",
      "[ 2019-08-20 17:44:27.092116 ] : Saving results\n",
      "[ 2019-08-20 17:45:01.553937 ] : Saved score responses from 2019-08-18 thru 2020-08-17 to: hdfs://cerebro-namenode-vip.snc1/user/grp_gdoop_clv/deact-model/ce_keep_deact_response/phase=score/record_date=2020-08-19\n",
      "[ 2019-08-20 17:45:01.755233 ] : Added partition (phase=\"score\", record_date=\"2020-08-19\") to grp_gdoop_clv_db.ce_keep_deact_response\n",
      "[ 2019-08-20 17:45:01.908510 ] : Dropped partition (phase=\"score\", record_date=\"2020-08-12\") from grp_gdoop_clv_db.ce_keep_deact_response\n",
      "[ 2019-08-20 17:45:04.027337 ] : Dropped folder hdfs://cerebro-namenode-vip.snc1/user/grp_gdoop_clv/deact-model/ce_keep_deact_response/phase=score/record_date=2020-08-12\n",
      "\n"
     ]
    }
   ],
   "source": [
    "for phase in list(DATE_DICT):\n",
    "    create_pop_tbl(spark, phase)\n",
    "    create_response_tbl(spark, phase)"
   ]
  },
  {
   "cell_type": "code",
   "execution_count": null,
   "metadata": {
    "collapsed": true
   },
   "outputs": [],
   "source": []
  },
  {
   "cell_type": "code",
   "execution_count": null,
   "metadata": {
    "collapsed": true
   },
   "outputs": [],
   "source": []
  },
  {
   "cell_type": "code",
   "execution_count": 19,
   "metadata": {},
   "outputs": [
    {
     "name": "stdout",
     "output_type": "stream",
     "text": [
      "root\n",
      " |-- brand: string (nullable = true)\n",
      " |-- consumer_id: string (nullable = true)\n",
      " |-- data_set: string (nullable = true)\n",
      " |-- recency_segment: string (nullable = true)\n",
      " |-- frequency_segment: string (nullable = true)\n",
      " |-- recency_9block: string (nullable = true)\n",
      " |-- frequency_9block: string (nullable = true)\n",
      " |-- deact_date: string (nullable = true)\n",
      " |-- next_order_date: string (nullable = true)\n",
      " |-- deact_flag: byte (nullable = true)\n",
      " |-- tenure_days: integer (nullable = true)\n",
      " |-- recency: integer (nullable = true)\n",
      " |-- frequency_t24m: integer (nullable = true)\n",
      " |-- nob_t24m: float (nullable = true)\n",
      " |-- gp_t24m: float (nullable = true)\n",
      " |-- frequency_t12m: integer (nullable = true)\n",
      " |-- nob_t12m: float (nullable = true)\n",
      " |-- gp_t12m: float (nullable = true)\n",
      " |-- local_orders_t24m: integer (nullable = true)\n",
      " |-- shopping_orders_t24m: integer (nullable = true)\n",
      " |-- travel_orders_t24m: integer (nullable = true)\n",
      " |-- app_orders_t24m: integer (nullable = true)\n",
      " |-- touch_orders_t24m: integer (nullable = true)\n",
      " |-- web_orders_t24m: integer (nullable = true)\n",
      " |-- most_recent_l1: string (nullable = true)\n",
      " |-- most_recent_l2: string (nullable = true)\n",
      " |-- most_recent_promo_type: string (nullable = true)\n",
      " |-- most_recent_platform: string (nullable = true)\n",
      " |-- is_activation: byte (nullable = true)\n",
      " |-- is_reactivation: byte (nullable = true)\n",
      " |-- unique_purchase_quarters_t24m: integer (nullable = true)\n",
      " |-- last_visit_date: string (nullable = true)\n",
      " |-- visit_recency: integer (nullable = true)\n",
      " |-- visit_freq_90d: integer (nullable = true)\n",
      " |-- visit_freq_7d: integer (nullable = true)\n",
      " |-- visit_freq_14d: integer (nullable = true)\n",
      " |-- visit_freq_28d: integer (nullable = true)\n",
      " |-- available_deal_views_90d: integer (nullable = true)\n",
      " |-- appfrequency: integer (nullable = true)\n",
      " |-- webfrequency: integer (nullable = true)\n",
      " |-- touchfrequency: integer (nullable = true)\n",
      " |-- bcookies: integer (nullable = true)\n",
      " |-- send_recency: integer (nullable = true)\n",
      " |-- sends_7d: integer (nullable = true)\n",
      " |-- sends_30d: integer (nullable = true)\n",
      " |-- open_recency: integer (nullable = true)\n",
      " |-- uniq_3day_opens_7d: integer (nullable = true)\n",
      " |-- uniq_3day_opens_30d: integer (nullable = true)\n",
      " |-- click_recency: integer (nullable = true)\n",
      " |-- uniq_3day_clicks_7d: integer (nullable = true)\n",
      " |-- uniq_3day_clicks_30d: integer (nullable = true)\n",
      " |-- unsubscription_30d: integer (nullable = true)\n",
      " |-- record_date: string (nullable = true)\n",
      "\n"
     ]
    }
   ],
   "source": [
    "df_train = spark.sql('select * from grp_gdoop_clv_db.eb_pip_deact_all_features '+\\\n",
    "                     'where record_date = date_sub(current_date, 2)')\n",
    "df_train.printSchema()"
   ]
  },
  {
   "cell_type": "code",
   "execution_count": 18,
   "metadata": {},
   "outputs": [
    {
     "name": "stdout",
     "output_type": "stream",
     "text": [
      "+-------+--------------------+----------+--------------------+-----------------+--------------------+--------------------+----------+---------------+----------+-----------+-------+--------------+--------+--------+--------------+--------+-------+-----------------+--------------------+------------------+---------------+-----------------+---------------+--------------+--------------------+----------------------+--------------------+-------------+---------------+-----------------------------+---------------+-------------+--------------+-------------+--------------+--------------+------------------------+------------+------------+--------------+--------+------------+--------+---------+------------+------------------+-------------------+-------------+-------------------+--------------------+------------------+-----------+\n",
      "|  brand|         consumer_id|  data_set|     recency_segment|frequency_segment|      recency_9block|    frequency_9block|deact_date|next_order_date|deact_flag|tenure_days|recency|frequency_t24m|nob_t24m| gp_t24m|frequency_t12m|nob_t12m|gp_t12m|local_orders_t24m|shopping_orders_t24m|travel_orders_t24m|app_orders_t24m|touch_orders_t24m|web_orders_t24m|most_recent_l1|      most_recent_l2|most_recent_promo_type|most_recent_platform|is_activation|is_reactivation|unique_purchase_quarters_t24m|last_visit_date|visit_recency|visit_freq_90d|visit_freq_7d|visit_freq_14d|visit_freq_28d|available_deal_views_90d|appfrequency|webfrequency|touchfrequency|bcookies|send_recency|sends_7d|sends_30d|open_recency|uniq_3day_opens_7d|uniq_3day_opens_30d|click_recency|uniq_3day_clicks_7d|uniq_3day_clicks_30d|unsubscription_30d|record_date|\n",
      "+-------+--------------------+----------+--------------------+-----------------+--------------------+--------------------+----------+---------------+----------+-----------+-------+--------------+--------+--------+--------------+--------+-------+-----------------+--------------------+------------------+---------------+-----------------+---------------+--------------+--------------------+----------------------+--------------------+-------------+---------------+-----------------------------+---------------+-------------+--------------+-------------+--------------+--------------+------------------------+------------+------------+--------------+--------+------------+--------+---------+------------+------------------+-------------------+-------------+-------------------+--------------------+------------------+-----------+\n",
      "|groupon|000010e0-a752-11e...|  training|lapsed_current_pu...|    order_cnt_2-4|2-Med Rec (31-120...|2-Med Freq (2-4 O...|2019-07-06|     2018-09-25|         0|       1007|    404|             3|   191.0| 65.2933|             2|   172.0|56.6616|                3|                   0|                 0|              1|                0|              2|    L1 - Local|L2 - Health / Bea...|                  null|                 web|            0|              0|                            3|     2018-07-06|          404|             2|            0|             0|             0|                       2|           0|           1|             1|       2|        null|       0|        0|        null|                 0|                  0|         null|                  0|                   0|                 0| 2019-08-14|\n",
      "|groupon|00013124-945d-11e...|  training|lapsed_current_pu...|   order_cnt_5-10|2-Med Rec (31-120...|3-High Freq (5+ O...|2019-06-22|     2018-10-24|         0|       2008|    418|             7|  267.63| 23.7779|             2|   33.96|11.4303|                1|                   5|                 1|              4|                0|              0| L1 - Shopping|      L2 - Softlines|           NO DISCOUNT|                 app|            0|              0|                            5|     2018-07-25|          385|             4|            0|             0|             2|                       0|           0|           0|             4|       1|           0|      32|      124|          24|                 0|                  1|         null|                  0|                   0|                 0| 2019-08-14|\n",
      "|groupon|0001c8e0-2475-11e...|  training|lapsed_current_pu...|    order_cnt_2-4|2-Med Rec (31-120...|2-Med Freq (2-4 O...|2019-06-19|     2019-06-26|         1|        580|    421|             3|    38.7|   2.202|             3|    38.7|  2.202|                3|                   0|                 0|              3|                0|              0|    L1 - Local|L2 - Health / Bea...|                    OD|                 app|            0|              0|                            2|     2018-07-17|          393|             2|            0|             0|             1|                       0|           0|           0|             2|       1|           0|      31|      124|        null|                 0|                  0|         null|                  0|                   0|                 0| 2019-08-14|\n",
      "|groupon|000217ac-27e3-11e...|  training|       pre-attrition|    order_cnt_2-4|3-Low Rec (121-36...|2-Med Freq (2-4 O...|2018-08-24|     2019-05-12|         1|       2796|    720|             2|    94.0| 39.9283|             1|    89.0|40.1568|                2|                   0|                 0|              0|                1|              1|    L1 - Local|L2 - Things to Do...|           NO DISCOUNT|                 web|            0|              0|                            2|           null|         null|             0|            0|             0|             0|                       0|           0|           0|             0|    null|           0|      24|      101|           7|                 1|                  5|         null|                  0|                   0|                 0| 2019-08-14|\n",
      "|groupon|000218f8-cfa7-11e...|  training|           retention|    order_cnt_2-4|3-Low Rec (121-36...|2-Med Freq (2-4 O...|2018-12-05|           null|         1|        643|    617|             2|    56.5| 23.5648|             2|    56.5|23.5648|                2|                   0|                 0|              1|                0|              1|    L1 - Local|L2 - Health / Bea...|                   ILS|                 app|            0|              0|                            1|           null|         null|             0|            0|             0|             0|                       0|           0|           0|             0|    null|        null|       0|        0|        null|                 0|                  0|         null|                  0|                   0|                 0| 2019-08-14|\n",
      "|groupon|00023360-043c-11e...|  training|           retention|   order_cnt_5-10|3-Low Rec (121-36...|3-High Freq (5+ O...|2019-01-14|           null|         1|       3373|    577|             8|  191.37| 45.4586|             2|   110.0|22.3294|                7|                   1|                 0|              1|                0|              5|    L1 - Local|L2 - Things to Do...|                   ILS|                 web|            0|              0|                            5|     2018-08-09|          370|            11|            1|             2|             2|                      12|           0|          11|             0|       3|           0|      21|       80|           0|                 8|                 31|            0|                  2|                   3|                 0| 2019-08-14|\n",
      "|groupon|00027918-67d0-11e...|validation|lapsed_current_pu...|    order_cnt_2-4|2-Med Rec (31-120...|2-Med Freq (2-4 O...|2019-06-08|     2018-12-28|         0|        860|    432|             4|  136.99| 51.0319|             3|   48.99|22.6079|                4|                   0|                 0|              0|                4|              0|    L1 - Local|L2 - Things to Do...|           NO DISCOUNT|               touch|            0|              0|                            3|     2018-07-26|          384|             3|            0|             0|             2|                       6|           0|           0|             3|       2|           0|      32|      126|           4|                 1|                  4|           21|                  0|                   1|                 0| 2019-08-14|\n",
      "|groupon|0002ea34-cba7-11e...|  training|  current_purchasers|  order_cnt_11-20|1-High Rec (0-30 ...|3-High Freq (5+ O...|2019-08-05|     2018-10-11|         0|       1798|    374|            12|  394.94|130.9666|             3|   145.0| 49.321|               12|                   0|                 0|              0|                7|              4|    L1 - Local|L2 - Health / Bea...|                    OD|               touch|            0|              0|                            6|     2018-08-09|          370|            13|            4|             5|             5|                      23|           0|           1|            12|       2|        null|       0|        0|        null|                 0|                  0|         null|                  0|                   0|                 0| 2019-08-14|\n",
      "|groupon|000326a0-a34b-11e...|validation|           retention|    order_cnt_20+|3-Low Rec (121-36...|3-High Freq (5+ O...|2019-02-04|     2019-04-28|         1|        985|    556|            27|  964.86|119.7146|             1|    12.5| 1.3875|               10|                  17|                 0|              0|                1|             11|    L1 - Local|   L2 - Food & Drink|           NO DISCOUNT|               touch|            0|              0|                            5|     2018-08-12|          367|            41|            1|             2|            13|                      97|           0|          20|            21|       2|           0|      33|      120|        null|                 0|                  0|         null|                  0|                   0|                 0| 2019-08-14|\n",
      "|groupon|0003356a-23fb-11e...|  training|       pre-attrition|      order_cnt_1|3-Low Rec (121-36...|1-Low Freq (1 Order)|2018-11-04|           null|         1|       1787|    648|             1|   36.99|  4.3796|             1|   36.99| 4.3796|                0|                   1|                 0|              0|                0|              1| L1 - Shopping|L2 - Health, Beau...|                   ILS|                 web|            0|              1|                            1|           null|         null|             0|            0|             0|             0|                       0|           0|           0|             0|    null|        null|       0|        0|        null|                 0|                  0|         null|                  0|                   0|                 0| 2019-08-14|\n",
      "|groupon|00039214-2534-11e...|  training|           retention|    order_cnt_2-4|3-Low Rec (121-36...|2-Med Freq (2-4 O...|2019-01-05|           null|         1|       1253|    586|             3|   70.18|   11.13|             1|     9.0|-4.8474|                2|                   1|                 0|              1|                0|              1|    L1 - Local|   L2 - Food & Drink|                    OD|                 web|            0|              0|                            3|     2018-07-18|          392|             3|            0|             0|             1|                       1|           0|           3|             0|       1|           0|      30|       97|           1|                 1|                  2|         null|                  0|                   0|                 0| 2019-08-14|\n",
      "|groupon|0003ee86-2452-11e...|  training|           retention|   order_cnt_5-10|3-Low Rec (121-36...|3-High Freq (5+ O...|2019-02-23|     2019-06-29|         1|       2683|    537|             6|  131.49| 33.2137|             2|    26.5| 4.0174|                5|                   1|                 0|              5|                1|              0|    L1 - Local|   L2 - Food & Drink|           NO DISCOUNT|                 app|            0|              0|                            5|           null|         null|             0|            0|             0|             0|                       0|           0|           0|             0|    null|           0|      32|      126|           9|                 0|                  2|           25|                  0|                   1|                 0| 2019-08-14|\n",
      "|groupon|0003f260-349c-11e...|  training|           retention|    order_cnt_2-4|3-Low Rec (121-36...|2-Med Freq (2-4 O...|2018-12-22|           null|         1|        754|    600|             2|    15.0|   6.868|             1|     5.0|  1.956|                2|                   0|                 0|              0|                1|              1|    L1 - Local|L2 - Things to Do...|           NO DISCOUNT|                 web|            0|              0|                            2|           null|         null|             0|            0|             0|             0|                       0|           0|           0|             0|    null|        null|       0|        0|        null|                 0|                  0|         null|                  0|                   0|                 0| 2019-08-14|\n",
      "|groupon|0003f264-2885-11e...|  training|lapsed_current_pu...|      order_cnt_1|2-Med Rec (31-120...|1-Low Freq (1 Order)|2019-04-27|           null|         1|       2532|    474|             1|   22.98|  4.8815|             1|   22.98| 4.8815|                0|                   1|                 0|              0|                1|              0| L1 - Shopping|L2 - Health, Beau...|           NO DISCOUNT|               touch|            0|              1|                            1|           null|         null|             0|            0|             0|             0|                       0|           0|           0|             0|    null|           0|      32|      124|        null|                 0|                  0|         null|                  0|                   0|                 0| 2019-08-14|\n",
      "|groupon|00040f36-24b8-11e...|  training|       pre-attrition|   order_cnt_5-10|3-Low Rec (121-36...|3-High Freq (5+ O...|2018-10-18|           null|         1|       2001|    665|             5|  118.42| 26.5419|             1|    22.5|  7.902|                1|                   4|                 0|              3|                2|              0|    L1 - Local|L2 - Things to Do...|           NO DISCOUNT|               touch|            0|              0|                            2|           null|         null|             0|            0|             0|             0|                       0|           0|           0|             0|    null|        null|       0|        0|        null|                 0|                  0|         null|                  0|                   0|                 0| 2019-08-14|\n",
      "|groupon|00041570-f5d9-11e...|  training|  current_purchasers|   order_cnt_5-10|1-High Rec (0-30 ...|3-High Freq (5+ O...|2019-07-20|     2019-05-23|         0|       2519|    390|             7|  342.38| 76.7834|             5|  297.99|64.8844|                6|                   1|                 0|              6|                1|              0|    L1 - Local|L2 - Things to Do...|           NO DISCOUNT|                 app|            0|              0|                            5|     2018-08-06|          373|            11|            1|             2|             4|                      14|           0|           6|             5|       2|           0|      42|      164|           8|                 0|                  9|            8|                  0|                   2|                 0| 2019-08-14|\n",
      "|groupon|00050e2e-23a8-11e...|validation|           retention|    order_cnt_2-4|3-Low Rec (121-36...|2-Med Freq (2-4 O...|2018-12-09|           null|         1|        946|    613|             4|  145.89| 20.5138|             1|   19.94| 1.7388|                0|                   4|                 0|              2|                0|              0| L1 - Shopping|    L2 - Tech & Toys|           NO DISCOUNT|                 app|            0|              0|                            3|           null|         null|             0|            0|             0|             0|                       0|           0|           0|             0|    null|        null|       0|        0|        null|                 0|                  0|         null|                  0|                   0|                 0| 2019-08-14|\n",
      "|groupon|00064be0-f80f-11e...|validation|  current_purchasers|   order_cnt_5-10|1-High Rec (0-30 ...|3-High Freq (5+ O...|2019-07-22|           null|         1|        578|    388|             6|  121.91| 26.2232|             6|  121.91|26.2232|                0|                   6|                 0|              0|                0|              6| L1 - Shopping|      L2 - Softlines|           NO DISCOUNT|                 web|            0|              0|                            3|     2018-07-22|          388|            10|            0|             0|             1|                     114|           0|          10|             0|       8|           0|      32|      124|           0|                 1|                  3|           22|                  0|                   2|                 0| 2019-08-14|\n",
      "|groupon|00067692-219b-11e...|validation|  current_purchasers|    order_cnt_2-4|1-High Rec (0-30 ...|2-Med Freq (2-4 O...|2019-08-07|           null|         1|       3106|    372|             4|  182.98|  37.489|             2|    91.0|26.1926|                3|                   1|                 0|              4|                0|              0|    L1 - Local|L2 - Things to Do...|                    OD|                 app|            0|              0|                            3|     2018-08-07|          372|             1|            1|             1|             1|                       9|           1|           0|             0|       1|        null|       0|        0|        null|                 0|                  0|         null|                  0|                   0|                 0| 2019-08-14|\n",
      "|groupon|0007bdd4-2463-11e...|  training|           retention|      order_cnt_1|3-Low Rec (121-36...|1-Low Freq (1 Order)|2019-03-10|           null|         1|       1593|    522|             1|    30.0|   6.942|             1|    30.0|  6.942|                1|                   0|                 0|              1|                0|              0|    L1 - Local|L2 - Things to Do...|           NO DISCOUNT|                 app|            0|              1|                            1|           null|         null|             0|            0|             0|             0|                       0|           0|           0|             0|    null|           0|      19|       84|        null|                 0|                  0|         null|                  0|                   0|                 0| 2019-08-14|\n",
      "+-------+--------------------+----------+--------------------+-----------------+--------------------+--------------------+----------+---------------+----------+-----------+-------+--------------+--------+--------+--------------+--------+-------+-----------------+--------------------+------------------+---------------+-----------------+---------------+--------------+--------------------+----------------------+--------------------+-------------+---------------+-----------------------------+---------------+-------------+--------------+-------------+--------------+--------------+------------------------+------------+------------+--------------+--------+------------+--------+---------+------------+------------------+-------------------+-------------+-------------------+--------------------+------------------+-----------+\n",
      "only showing top 20 rows\n",
      "\n"
     ]
    }
   ],
   "source": [
    "df_train.show()"
   ]
  },
  {
   "cell_type": "code",
   "execution_count": 20,
   "metadata": {},
   "outputs": [
    {
     "data": {
      "text/plain": [
       "30580049"
      ]
     },
     "execution_count": 20,
     "metadata": {},
     "output_type": "execute_result"
    }
   ],
   "source": [
    "df_train.count()"
   ]
  },
  {
   "cell_type": "code",
   "execution_count": 32,
   "metadata": {},
   "outputs": [
    {
     "name": "stdout",
     "output_type": "stream",
     "text": [
      "+------------------+---------------+-----------------------+----------+-----------+----------------+\n",
      "|last_purchase_date|last_visit_date|gap_purchase_last_visit|deact_date|record_date|days_until_deact|\n",
      "+------------------+---------------+-----------------------+----------+-----------+----------------+\n",
      "|        2018-07-06|     2018-07-06|                      0|2019-07-06| 2019-08-14|             -39|\n",
      "|        2018-06-22|     2018-07-25|                     33|2019-06-22| 2019-08-14|             -53|\n",
      "|        2018-06-19|     2018-07-17|                     28|2019-06-19| 2019-08-14|             -56|\n",
      "|        2017-08-24|           null|                   null|2018-08-24| 2019-08-14|            -355|\n",
      "|        2017-12-05|           null|                   null|2018-12-05| 2019-08-14|            -252|\n",
      "|        2018-01-14|     2018-08-09|                    207|2019-01-14| 2019-08-14|            -212|\n",
      "|        2018-06-08|     2018-07-26|                     48|2019-06-08| 2019-08-14|             -67|\n",
      "|        2018-08-05|     2018-08-09|                      4|2019-08-05| 2019-08-14|              -9|\n",
      "|        2018-02-04|     2018-08-12|                    189|2019-02-04| 2019-08-14|            -191|\n",
      "|        2017-11-04|           null|                   null|2018-11-04| 2019-08-14|            -283|\n",
      "|        2018-01-05|     2018-07-18|                    194|2019-01-05| 2019-08-14|            -221|\n",
      "|        2018-02-23|           null|                   null|2019-02-23| 2019-08-14|            -172|\n",
      "|        2017-12-22|           null|                   null|2018-12-22| 2019-08-14|            -235|\n",
      "|        2018-04-27|           null|                   null|2019-04-27| 2019-08-14|            -109|\n",
      "|        2017-10-18|           null|                   null|2018-10-18| 2019-08-14|            -300|\n",
      "|        2018-07-20|     2018-08-06|                     17|2019-07-20| 2019-08-14|             -25|\n",
      "|        2017-12-09|           null|                   null|2018-12-09| 2019-08-14|            -248|\n",
      "|        2018-07-22|     2018-07-22|                      0|2019-07-22| 2019-08-14|             -23|\n",
      "|        2018-08-07|     2018-08-07|                      0|2019-08-07| 2019-08-14|              -7|\n",
      "|        2018-03-10|           null|                   null|2019-03-10| 2019-08-14|            -157|\n",
      "+------------------+---------------+-----------------------+----------+-----------+----------------+\n",
      "only showing top 20 rows\n",
      "\n"
     ]
    }
   ],
   "source": [
    "def feature_engineering(df):\n",
    "    return df.filter((df.deact_date.isNotNull()) & (df.tenure_days.isNotNull()))\\\n",
    "        .withColumn('last_purchase_date', F.date_sub(df.deact_date, 365))\\\n",
    "        .withColumn('gap_purchase_last_visit', F.datediff(df.last_visit_date, F.col('last_purchase_date')))\\\n",
    "        .withColumn('days_until_deact', F.datediff(df.deact_date, df.record_date))\n",
    "\n",
    "a = feature_engineering(df_train)\n",
    "#0a.count()\n",
    "a.select('last_purchase_date','last_visit_date','gap_purchase_last_visit','deact_date','record_date','days_until_deact').show()"
   ]
  },
  {
   "cell_type": "code",
   "execution_count": 33,
   "metadata": {},
   "outputs": [
    {
     "data": {
      "text/plain": [
       "27728816"
      ]
     },
     "execution_count": 33,
     "metadata": {},
     "output_type": "execute_result"
    }
   ],
   "source": [
    "a.count()"
   ]
  },
  {
   "cell_type": "code",
   "execution_count": null,
   "metadata": {
    "collapsed": true
   },
   "outputs": [],
   "source": []
  }
 ],
 "metadata": {
  "kernelspec": {
   "display_name": "Python 2",
   "language": "python",
   "name": "python2"
  },
  "language_info": {
   "codemirror_mode": {
    "name": "ipython",
    "version": 2
   },
   "file_extension": ".py",
   "mimetype": "text/x-python",
   "name": "python",
   "nbconvert_exporter": "python",
   "pygments_lexer": "ipython2",
   "version": "2.7.13"
  }
 },
 "nbformat": 4,
 "nbformat_minor": 2
}
