{
 "cells": [
  {
   "cell_type": "markdown",
   "metadata": {},
   "source": [
    "# Checking Results of Probability Calibration"
   ]
  },
  {
   "cell_type": "code",
   "execution_count": 1,
   "metadata": {
    "collapsed": true
   },
   "outputs": [],
   "source": [
    "import deact_cal\n",
    "import pandas as pd\n",
    "from datetime import datetime\n",
    "import matplotlib.pyplot as plt\n",
    "import pyspark.sql.functions as F\n",
    "from pyspark.sql import SparkSession\n",
    "from pyspark.sql.types import IntegerType, DoubleType, StringType"
   ]
  },
  {
   "cell_type": "code",
   "execution_count": 2,
   "metadata": {
    "scrolled": true
   },
   "outputs": [
    {
     "data": {
      "text/html": [
       "\n",
       "            <div>\n",
       "                <p><b>SparkSession - hive</b></p>\n",
       "                \n",
       "        <div>\n",
       "            <p><b>SparkContext</b></p>\n",
       "\n",
       "            <p><a href=\"http://cerebro-clv-job-submitter1.snc1:4041\">Spark UI</a></p>\n",
       "\n",
       "            <dl>\n",
       "              <dt>Version</dt>\n",
       "                <dd><code>v2.4.0</code></dd>\n",
       "              <dt>Master</dt>\n",
       "                <dd><code>yarn</code></dd>\n",
       "              <dt>AppName</dt>\n",
       "                <dd><code>deact-calibration-accuracy-testing</code></dd>\n",
       "            </dl>\n",
       "        </div>\n",
       "        \n",
       "            </div>\n",
       "        "
      ],
      "text/plain": [
       "<pyspark.sql.session.SparkSession at 0x7f49598d1150>"
      ]
     },
     "execution_count": 2,
     "metadata": {},
     "output_type": "execute_result"
    }
   ],
   "source": [
    "warehouse_location = 'hdfs://cerebro-namenode-vip.snc1/user/grp_gdoop_clv/grp_gdoop_clv_hiveDB.db'\n",
    "python_location = './ANACONDA/anaconda2_env/bin/python'\n",
    "archives_location = 'hdfs:////user/grp_gdoop_admin/anaconda/anaconda2_env.zip#ANACONDA'\n",
    "\n",
    "spark = SparkSession\\\n",
    "\t.builder\\\n",
    "\t.master('yarn')\\\n",
    "\t.appName('deact-calibration-accuracy-testing')\\\n",
    "\t.config('spark.submit.deployMode','client')\\\n",
    "\t.config('spark.executor.instances', 50)\\\n",
    "\t.config('spark.yarn.appMasterEnv.PYSPARK_PYTHON',python_location)\\\n",
    "\t.config('spark.yarn.dist.archives',archives_location)\\\n",
    "\t.config('spark.sql.warehouse.dir',warehouse_location)\\\n",
    "\t.config('spark.yarn.queue','public')\\\n",
    "\t.enableHiveSupport()\\\n",
    "\t.getOrCreate()\n",
    "    \n",
    "spark"
   ]
  },
  {
   "cell_type": "markdown",
   "metadata": {},
   "source": [
    "# Run Pipeline with Calibration on Data from 1 Year Ago"
   ]
  },
  {
   "cell_type": "code",
   "execution_count": 3,
   "metadata": {
    "collapsed": true
   },
   "outputs": [],
   "source": [
    "train_date = '2017-11-12'\n",
    "score_date = '2018-11-12'\n",
    "train_pct = 0.1\n",
    "calibrate_pct = 0.1\n",
    "validate_pct = 0.1\n",
    "calibrate_model = True\n",
    "validate_model = True\n",
    "score_active_users = True"
   ]
  },
  {
   "cell_type": "code",
   "execution_count": 4,
   "metadata": {},
   "outputs": [
    {
     "name": "stdout",
     "output_type": "stream",
     "text": [
      "[ 2019-11-15 21:46:49.326849 ] : BEGINNING DEACT MODEL PIPELINE\n",
      "\n",
      "    PARAMETERS:\n",
      "    Training date = 2017-11-12\n",
      "    Proportion of training data used to:\n",
      "        Train model = 10%\n",
      "        Calibrate model = 10%\n",
      "        Validate model = 10%\n",
      "        Not used = 70%\n",
      "    Scoring date = 2018-11-12\n",
      "\n",
      "\n",
      "DATA PIPELINE\n",
      "\n",
      "[ 2019-11-15 21:46:49.327697 ] : Loading training feature data\n",
      "[ 2019-11-15 21:46:54.561094 ] : Splitting training data into model training, calibration, and validation data\n",
      "[ 2019-11-15 21:46:55.588529 ] : Creating feature engineering pipeline\n",
      "[ 2019-11-15 21:50:10.928195 ] : Feature engineering model training data\n",
      "[ 2019-11-15 21:50:12.127514 ] : Feature engineering model calibration data\n",
      "[ 2019-11-15 21:50:13.173580 ] : Feature engineering model validation data\n",
      "[ 2019-11-15 21:50:14.014263 ] : Loading scoring feature data\n",
      "[ 2019-11-15 21:50:14.181507 ] : Feature engineering scoring data\n"
     ]
    }
   ],
   "source": [
    "# Coalescing some variables\n",
    "calibrate_pct = calibrate_pct if calibrate_model else 0.\n",
    "validate_pct = validate_pct if validate_model else 0.\n",
    "score_date = score_date if score_active_users else 'N/A'\n",
    "not_used_pct = 1 - train_pct - calibrate_pct - validate_pct\n",
    "\n",
    "# Print workflow information\n",
    "print('''[ {0} ] : BEGINNING DEACT MODEL PIPELINE\n",
    "\n",
    "    PARAMETERS:\n",
    "    Training date = {1}\n",
    "    Proportion of training data used to:\n",
    "        Train model = {2:0.0%}\n",
    "        Calibrate model = {3:0.0%}\n",
    "        Validate model = {4:0.0%}\n",
    "        Not used = {5:0.0%}\n",
    "    Scoring date = {6}\n",
    "'''.format(datetime.utcnow(), train_date, train_pct, calibrate_pct, validate_pct, not_used_pct, score_date))\n",
    "\n",
    "# Save locations\n",
    "hdfs_loc = 'hdfs://cerebro-namenode-vip.snc1/user/grp_gdoop_clv/deact-model/'\n",
    "eval_path = '/home/ceasterwood/Consumer-Intelligence/Models/Deact-Model/model_evaluation/'\n",
    "\n",
    "# Run data pipeline\n",
    "pl = deact_cal.Pipeline(spark, train_date, score_date, train_pct, calibrate_pct, validate_pct)\n",
    "dfs = pl.run(calibrate_model, validate_model, score_active_users)"
   ]
  },
  {
   "cell_type": "code",
   "execution_count": 6,
   "metadata": {},
   "outputs": [
    {
     "name": "stdout",
     "output_type": "stream",
     "text": [
      "\n",
      "MODELING\n",
      "\n",
      "[ 2019-11-15 21:51:56.705828 ] : Training model\n",
      "[ 2019-11-15 22:01:46.162802 ] : Zipping model feature importances\n"
     ]
    },
    {
     "ename": "AttributeError",
     "evalue": "'GBTClassificationModel' object has no attribute 'stages'",
     "output_type": "error",
     "traceback": [
      "\u001b[0;31m---------------------------------------------------------------------------\u001b[0m",
      "\u001b[0;31mAttributeError\u001b[0m                            Traceback (most recent call last)",
      "\u001b[0;32m<ipython-input-6-4a43e92ae464>\u001b[0m in \u001b[0;36m<module>\u001b[0;34m()\u001b[0m\n\u001b[1;32m      1\u001b[0m \u001b[0mmodel\u001b[0m \u001b[0;34m=\u001b[0m \u001b[0mdeact_cal\u001b[0m\u001b[0;34m.\u001b[0m\u001b[0mModel\u001b[0m\u001b[0;34m(\u001b[0m\u001b[0mtrain_date\u001b[0m\u001b[0;34m,\u001b[0m \u001b[0mscore_date\u001b[0m\u001b[0;34m,\u001b[0m \u001b[0mpl\u001b[0m\u001b[0;34m.\u001b[0m\u001b[0mfeature_list\u001b[0m\u001b[0;34m)\u001b[0m\u001b[0;34m\u001b[0m\u001b[0m\n\u001b[0;32m----> 2\u001b[0;31m \u001b[0mmodel\u001b[0m\u001b[0;34m.\u001b[0m\u001b[0mtrain\u001b[0m\u001b[0;34m(\u001b[0m\u001b[0mdfs\u001b[0m\u001b[0;34m[\u001b[0m\u001b[0;34m'training'\u001b[0m\u001b[0;34m]\u001b[0m\u001b[0;34m)\u001b[0m\u001b[0;34m\u001b[0m\u001b[0m\n\u001b[0m",
      "\u001b[0;32m/var/groupon/homedirs/ceasterwood/Consumer-Intelligence/Models/Deact-Model/deact_cal.py\u001b[0m in \u001b[0;36mtrain\u001b[0;34m(self, train_df)\u001b[0m\n\u001b[1;32m    164\u001b[0m         \u001b[0mmodel\u001b[0m \u001b[0;34m=\u001b[0m \u001b[0mself\u001b[0m\u001b[0;34m.\u001b[0m\u001b[0mclassifier\u001b[0m\u001b[0;34m.\u001b[0m\u001b[0mfit\u001b[0m\u001b[0;34m(\u001b[0m\u001b[0mtrain_df\u001b[0m\u001b[0;34m)\u001b[0m  \u001b[0;31m# MLPipeline(stages=[self.classifier]).fit(train_df)\u001b[0m\u001b[0;34m\u001b[0m\u001b[0m\n\u001b[1;32m    165\u001b[0m         \u001b[0mself\u001b[0m\u001b[0;34m.\u001b[0m\u001b[0mfitted_model\u001b[0m \u001b[0;34m=\u001b[0m \u001b[0mmodel\u001b[0m\u001b[0;34m\u001b[0m\u001b[0m\n\u001b[0;32m--> 166\u001b[0;31m         \u001b[0mself\u001b[0m\u001b[0;34m.\u001b[0m\u001b[0m_feat_imp\u001b[0m\u001b[0;34m(\u001b[0m\u001b[0;34m)\u001b[0m\u001b[0;34m\u001b[0m\u001b[0m\n\u001b[0m\u001b[1;32m    167\u001b[0m \u001b[0;34m\u001b[0m\u001b[0m\n\u001b[1;32m    168\u001b[0m     \u001b[0;32mdef\u001b[0m \u001b[0m_feat_imp\u001b[0m\u001b[0;34m(\u001b[0m\u001b[0mself\u001b[0m\u001b[0;34m)\u001b[0m\u001b[0;34m:\u001b[0m\u001b[0;34m\u001b[0m\u001b[0m\n",
      "\u001b[0;32m/var/groupon/homedirs/ceasterwood/Consumer-Intelligence/Models/Deact-Model/deact_cal.py\u001b[0m in \u001b[0;36m_feat_imp\u001b[0;34m(self)\u001b[0m\n\u001b[1;32m    168\u001b[0m     \u001b[0;32mdef\u001b[0m \u001b[0m_feat_imp\u001b[0m\u001b[0;34m(\u001b[0m\u001b[0mself\u001b[0m\u001b[0;34m)\u001b[0m\u001b[0;34m:\u001b[0m\u001b[0;34m\u001b[0m\u001b[0m\n\u001b[1;32m    169\u001b[0m         \u001b[0;32mprint\u001b[0m\u001b[0;34m(\u001b[0m\u001b[0;34m'[ {0} ] : Zipping model feature importances'\u001b[0m\u001b[0;34m.\u001b[0m\u001b[0mformat\u001b[0m\u001b[0;34m(\u001b[0m\u001b[0mdatetime\u001b[0m\u001b[0;34m.\u001b[0m\u001b[0mutcnow\u001b[0m\u001b[0;34m(\u001b[0m\u001b[0;34m)\u001b[0m\u001b[0;34m)\u001b[0m\u001b[0;34m)\u001b[0m\u001b[0;34m\u001b[0m\u001b[0m\n\u001b[0;32m--> 170\u001b[0;31m         \u001b[0mimportances\u001b[0m \u001b[0;34m=\u001b[0m \u001b[0mself\u001b[0m\u001b[0;34m.\u001b[0m\u001b[0mfitted_model\u001b[0m\u001b[0;34m.\u001b[0m\u001b[0mstages\u001b[0m\u001b[0;34m[\u001b[0m\u001b[0;34m-\u001b[0m\u001b[0;36m1\u001b[0m\u001b[0;34m]\u001b[0m\u001b[0;34m.\u001b[0m\u001b[0mfeatureImportances\u001b[0m\u001b[0;34m\u001b[0m\u001b[0m\n\u001b[0m\u001b[1;32m    171\u001b[0m         \u001b[0mself\u001b[0m\u001b[0;34m.\u001b[0m\u001b[0mfeat_imp\u001b[0m \u001b[0;34m=\u001b[0m \u001b[0msorted\u001b[0m\u001b[0;34m(\u001b[0m\u001b[0mzip\u001b[0m\u001b[0;34m(\u001b[0m\u001b[0mself\u001b[0m\u001b[0;34m.\u001b[0m\u001b[0mfeature_list\u001b[0m\u001b[0;34m,\u001b[0m \u001b[0mimportances\u001b[0m\u001b[0;34m)\u001b[0m\u001b[0;34m,\u001b[0m \u001b[0mkey\u001b[0m\u001b[0;34m=\u001b[0m\u001b[0;32mlambda\u001b[0m \u001b[0mx\u001b[0m\u001b[0;34m:\u001b[0m \u001b[0;34m-\u001b[0m\u001b[0mx\u001b[0m\u001b[0;34m[\u001b[0m\u001b[0;36m1\u001b[0m\u001b[0;34m]\u001b[0m\u001b[0;34m)\u001b[0m\u001b[0;34m\u001b[0m\u001b[0m\n\u001b[1;32m    172\u001b[0m \u001b[0;34m\u001b[0m\u001b[0m\n",
      "\u001b[0;31mAttributeError\u001b[0m: 'GBTClassificationModel' object has no attribute 'stages'"
     ]
    }
   ],
   "source": [
    "model = deact_cal.Model(train_date, score_date, pl.feature_list)\n",
    "model.train(dfs['training'])"
   ]
  },
  {
   "cell_type": "code",
   "execution_count": 7,
   "metadata": {},
   "outputs": [
    {
     "name": "stdout",
     "output_type": "stream",
     "text": [
      "[ 2019-11-15 22:04:31.494515 ] : Calibrating model\n",
      "\n",
      "PREDICTING DEACTIVATIONS\n",
      "\n",
      "[ 2019-11-15 22:04:31.494876 ] : Making predictions on calibration data\n"
     ]
    }
   ],
   "source": [
    "if calibrate_model:\n",
    "    model.calibrate(dfs['calibration'])"
   ]
  },
  {
   "cell_type": "code",
   "execution_count": 11,
   "metadata": {},
   "outputs": [
    {
     "name": "stdout",
     "output_type": "stream",
     "text": [
      "\n",
      "PREDICTING DEACTIVATIONS\n",
      "\n",
      "[ 2019-11-15 22:08:03.022899 ] : Making predictions on validation data\n",
      "\n",
      "EVALUATING MODEL\n",
      "\n",
      "[ 2019-11-15 22:08:03.214267 ] : Calculating confusion matrix for model predictions\n",
      "[ 2019-11-15 22:09:32.312749 ] : Calculating model performance by class\n",
      "[ 2019-11-15 22:09:32.319222 ] : Calculating points on PR and ROC curves\n",
      "[ 2019-11-15 22:16:05.476954 ] : Calculating areas under PR and ROC curves\n",
      "[ 2019-11-15 22:16:05.513259 ] : Plotting PR and ROC curves\n",
      "[ 2019-11-15 22:16:05.951545 ] : Calculating probability calibration\n",
      "[ 2019-11-15 22:18:23.628214 ] : Plotting calibration curve\n",
      "[ 2019-11-15 22:18:23.837736 ] : Calculating aggregations by recency for model predictions\n",
      "[ 2019-11-15 22:18:49.528733 ] : Plotting recency aggregations\n",
      "[ 2019-11-15 22:18:50.686994 ] : Getting feature importances\n",
      "[ 2019-11-15 22:18:50.690855 ] : Plotting feature importances\n"
     ]
    }
   ],
   "source": [
    "if validate_model:\n",
    "    model.predict(dfs['validation'], 'validation', calibrate_model, save_results=False)\n",
    "    evaluator = deact_cal.Evaluator(model.pred_df, calibrate_model, save_results=True, eval_path=eval_path)\n",
    "    evaluator.class_metrics()\n",
    "    evaluator.decision_boundary_curves()\n",
    "    evaluator.calibration()\n",
    "    evaluator.recency_aggregation()\n",
    "    evaluator.feature_importances(model.feat_imp, min_imp=0.001)"
   ]
  },
  {
   "cell_type": "code",
   "execution_count": 12,
   "metadata": {},
   "outputs": [
    {
     "data": {
      "text/html": [
       "<div>\n",
       "<style scoped>\n",
       "    .dataframe tbody tr th:only-of-type {\n",
       "        vertical-align: middle;\n",
       "    }\n",
       "\n",
       "    .dataframe tbody tr th {\n",
       "        vertical-align: top;\n",
       "    }\n",
       "\n",
       "    .dataframe thead th {\n",
       "        text-align: right;\n",
       "    }\n",
       "</style>\n",
       "<table border=\"1\" class=\"dataframe\">\n",
       "  <thead>\n",
       "    <tr style=\"text-align: right;\">\n",
       "      <th></th>\n",
       "      <th>predicted_0</th>\n",
       "      <th>predicted_1</th>\n",
       "      <th>total</th>\n",
       "    </tr>\n",
       "  </thead>\n",
       "  <tbody>\n",
       "    <tr>\n",
       "      <th>actual_0</th>\n",
       "      <td>788090</td>\n",
       "      <td>465288</td>\n",
       "      <td>1253378</td>\n",
       "    </tr>\n",
       "    <tr>\n",
       "      <th>actual_1</th>\n",
       "      <td>315425</td>\n",
       "      <td>1585686</td>\n",
       "      <td>1901111</td>\n",
       "    </tr>\n",
       "    <tr>\n",
       "      <th>total</th>\n",
       "      <td>1103515</td>\n",
       "      <td>2050974</td>\n",
       "      <td>3154489</td>\n",
       "    </tr>\n",
       "  </tbody>\n",
       "</table>\n",
       "</div>"
      ],
      "text/plain": [
       "          predicted_0  predicted_1    total\n",
       "actual_0       788090       465288  1253378\n",
       "actual_1       315425      1585686  1901111\n",
       "total         1103515      2050974  3154489"
      ]
     },
     "execution_count": 12,
     "metadata": {},
     "output_type": "execute_result"
    }
   ],
   "source": [
    "evaluator.confusion_df"
   ]
  },
  {
   "cell_type": "code",
   "execution_count": 13,
   "metadata": {},
   "outputs": [
    {
     "data": {
      "text/html": [
       "<div>\n",
       "<style scoped>\n",
       "    .dataframe tbody tr th:only-of-type {\n",
       "        vertical-align: middle;\n",
       "    }\n",
       "\n",
       "    .dataframe tbody tr th {\n",
       "        vertical-align: top;\n",
       "    }\n",
       "\n",
       "    .dataframe thead th {\n",
       "        text-align: right;\n",
       "    }\n",
       "</style>\n",
       "<table border=\"1\" class=\"dataframe\">\n",
       "  <thead>\n",
       "    <tr style=\"text-align: right;\">\n",
       "      <th></th>\n",
       "      <th>N</th>\n",
       "      <th>precision</th>\n",
       "      <th>recall</th>\n",
       "      <th>f1</th>\n",
       "      <th>predOverActualN</th>\n",
       "    </tr>\n",
       "  </thead>\n",
       "  <tbody>\n",
       "    <tr>\n",
       "      <th>0</th>\n",
       "      <td>1253378</td>\n",
       "      <td>0.714163</td>\n",
       "      <td>0.628773</td>\n",
       "      <td>0.668753</td>\n",
       "      <td>0.880433</td>\n",
       "    </tr>\n",
       "    <tr>\n",
       "      <th>1</th>\n",
       "      <td>1901111</td>\n",
       "      <td>0.773138</td>\n",
       "      <td>0.834084</td>\n",
       "      <td>0.802455</td>\n",
       "      <td>1.078829</td>\n",
       "    </tr>\n",
       "    <tr>\n",
       "      <th>weighted</th>\n",
       "      <td>3154489</td>\n",
       "      <td>0.749706</td>\n",
       "      <td>0.752507</td>\n",
       "      <td>0.749331</td>\n",
       "      <td>1.000000</td>\n",
       "    </tr>\n",
       "  </tbody>\n",
       "</table>\n",
       "</div>"
      ],
      "text/plain": [
       "                N  precision    recall        f1  predOverActualN\n",
       "0         1253378   0.714163  0.628773  0.668753         0.880433\n",
       "1         1901111   0.773138  0.834084  0.802455         1.078829\n",
       "weighted  3154489   0.749706  0.752507  0.749331         1.000000"
      ]
     },
     "execution_count": 13,
     "metadata": {},
     "output_type": "execute_result"
    }
   ],
   "source": [
    "evaluator.class_metrics_df"
   ]
  },
  {
   "cell_type": "code",
   "execution_count": 18,
   "metadata": {},
   "outputs": [
    {
     "data": {
      "image/png": "[encoded data removed]",
      "text/plain": [
       "<matplotlib.figure.Figure at 0x7f491ad7a510>"
      ]
     },
     "execution_count": 18,
     "metadata": {},
     "output_type": "execute_result"
    }
   ],
   "source": [
    "evaluator.plot_calibration"
   ]
  },
  {
   "cell_type": "code",
   "execution_count": 20,
   "metadata": {},
   "outputs": [
    {
     "data": {
      "image/png": "[encoded data removed]",
      "text/plain": [
       "<matplotlib.figure.Figure at 0x7f4928156050>"
      ]
     },
     "execution_count": 20,
     "metadata": {},
     "output_type": "execute_result"
    }
   ],
   "source": [
    "evaluator.plot_roc"
   ]
  },
  {
   "cell_type": "code",
   "execution_count": 22,
   "metadata": {},
   "outputs": [
    {
     "data": {
      "image/png": "[encoded data removed]",
      "text/plain": [
       "<matplotlib.figure.Figure at 0x7f492802e1d0>"
      ]
     },
     "execution_count": 22,
     "metadata": {},
     "output_type": "execute_result"
    }
   ],
   "source": [
    "evaluator.plot_avg_log_loss"
   ]
  },
  {
   "cell_type": "code",
   "execution_count": 23,
   "metadata": {},
   "outputs": [
    {
     "data": {
      "image/png": "[encoded data removed]",
      "text/plain": [
       "<matplotlib.figure.Figure at 0x7f491a94bc50>"
      ]
     },
     "execution_count": 23,
     "metadata": {},
     "output_type": "execute_result"
    }
   ],
   "source": [
    "evaluator.plot_avg_prob_deact"
   ]
  },
  {
   "cell_type": "code",
   "execution_count": 27,
   "metadata": {},
   "outputs": [
    {
     "name": "stdout",
     "output_type": "stream",
     "text": [
      "\n",
      "PREDICTING DEACTIVATIONS\n",
      "\n",
      "[ 2019-11-15 22:38:48.920981 ] : Making predictions on scoring data\n",
      "[ 2019-11-15 22:38:49.094592 ] : Saving scoring predictions to cerebro\n",
      "[ 2019-11-15 22:44:46.526357 ] : Deact probabilities stored in hdfs://cerebro-namenode-vip.snc1/user/grp_gdoop_clv/deact-model/ce_keep_deact_predictions/record_date=2018-11-12\n",
      "[ 2019-11-15 22:44:46.526617 ] : Calculating total deactivations by day for scoring data\n",
      "[ 2019-11-15 22:44:46.667440 ] : Saving total deactivations for scoring data to cerebro\n",
      "[ 2019-11-15 22:47:18.675741 ] : Deact probabilities stored in hdfs://cerebro-namenode-vip.snc1/user/grp_gdoop_clv/deact-model/ce_keep_deact_totals/record_date=2018-11-12\n",
      "\n",
      "[ 2019-11-15 22:47:18.676132 ] : COMPLETED DEACT MODEL PIPELINE\n",
      "\n"
     ]
    }
   ],
   "source": [
    "if score_active_users:\n",
    "    model.predict(dfs['scoring'], 'scoring', calibrate_model, save_results=True, hdfs_loc=hdfs_loc)\n",
    "    model.total_deacts(calibrate_model, 'scoring', save_results=True, hdfs_loc=hdfs_loc)\n",
    "    #_ = model.compare_to_prev_day(spark, calibrate_model, hdfs_loc, max_change=0.05)\n",
    "\n",
    "print('\\n[ {0} ] : COMPLETED DEACT MODEL PIPELINE\\n'.format(datetime.utcnow()))"
   ]
  },
  {
   "cell_type": "markdown",
   "metadata": {},
   "source": [
    "# Compare Results for V2, V3, and V3 Calibrated Models"
   ]
  },
  {
   "cell_type": "code",
   "execution_count": 29,
   "metadata": {},
   "outputs": [
    {
     "name": "stdout",
     "output_type": "stream",
     "text": [
      "+--------------------+---------+-------------------+-------------------+\n",
      "|         consumer_id|recency_x|         prob_deact|     prob_deact_cal|\n",
      "+--------------------+---------+-------------------+-------------------+\n",
      "|00002420-3a76-11e...|       37| 0.1110834194843815|0.09480646741793239|\n",
      "|00003906-2173-11e...|      218| 0.6527547498435193|  0.641213779380674|\n",
      "|00003f0c-f241-11e...|      350| 0.9387449949718456| 0.9760392085677981|\n",
      "|000047c8-27ee-11e...|       20|0.16712432435845959| 0.1742020031826266|\n",
      "|000047f0-e5c3-11e...|      149| 0.7195289344863843| 0.7023434198979426|\n",
      "|00005426-09dd-11e...|       58|0.36648049982257025|  0.365605331358756|\n",
      "|00007000-2855-11e...|      204|  0.904931224667398| 0.9342625729892635|\n",
      "|0000b3e0-d17e-11e...|      352| 0.9487553592136257| 0.9910001124985938|\n",
      "|0000db44-f2aa-11e...|      204|0.48869199984470046| 0.4983912080564958|\n",
      "|0000ddc0-95ee-11e...|      142|0.17007622315481197| 0.1742020031826266|\n",
      "+--------------------+---------+-------------------+-------------------+\n",
      "only showing top 10 rows\n",
      "\n"
     ]
    }
   ],
   "source": [
    "df_raw = spark.read.orc('hdfs://cerebro-namenode-vip.snc1/user/grp_gdoop_clv/deact-model/ce_keep_deact_predictions/record_date='+score_date)\n",
    "df_raw.show(10)"
   ]
  },
  {
   "cell_type": "code",
   "execution_count": 30,
   "metadata": {},
   "outputs": [
    {
     "name": "stdout",
     "output_type": "stream",
     "text": [
      "+--------------------+-----------+\n",
      "|         consumer_id|deactivated|\n",
      "+--------------------+-----------+\n",
      "|00001d30-d8b0-11e...|          1|\n",
      "|00009cd2-1268-11e...|          1|\n",
      "|0000a2a6-28a5-11e...|          1|\n",
      "|000107a4-17d5-11e...|          1|\n",
      "|000127f0-d311-11e...|          1|\n",
      "|000181b0-e037-11e...|          1|\n",
      "|0001843e-24d9-11e...|          0|\n",
      "|0001af4e-26e7-11e...|          0|\n",
      "|0001c950-d152-11e...|          1|\n",
      "|0001f0e6-25f5-11e...|          0|\n",
      "+--------------------+-----------+\n",
      "only showing top 10 rows\n",
      "\n"
     ]
    }
   ],
   "source": [
    "df_target = spark.sql('from grp_gdoop_clv_db.ce_keep_deact_target') \\\n",
    "    .filter(F.col('record_date') == score_date) \\\n",
    "    .select('consumer_id', 'deactivated')\n",
    "df_target.show(10)"
   ]
  },
  {
   "cell_type": "code",
   "execution_count": 32,
   "metadata": {},
   "outputs": [
    {
     "name": "stdout",
     "output_type": "stream",
     "text": [
      "+--------------------+-------------+\n",
      "|         consumer_id|prob_deact_v2|\n",
      "+--------------------+-------------+\n",
      "|00004c70-04c8-11e...|   0.93539953|\n",
      "|00004cbe-2884-11e...|   0.27800018|\n",
      "|00007f6c-6f2e-11e...|   0.36988002|\n",
      "|00029f22-1480-11e...|   0.35909104|\n",
      "|0002dbf0-57b3-11e...|   0.78260374|\n",
      "|00040560-29ae-11e...|   0.36371344|\n",
      "|00053d50-b468-11e...|   0.86492455|\n",
      "|00054120-d336-11e...|   0.17081839|\n",
      "|0005937e-1c75-11e...|   0.74335515|\n",
      "|0005b3b6-a886-11e...|    0.5759954|\n",
      "+--------------------+-------------+\n",
      "only showing top 10 rows\n",
      "\n"
     ]
    }
   ],
   "source": [
    "df_raw_old = spark.sql('from grp_gdoop_clv_db.eb_deact_predictions1') \\\n",
    "    .filter(F.col('ds') == score_date) \\\n",
    "    .withColumnRenamed('prob_deact', 'prob_deact_v2') \\\n",
    "    .select('consumer_id', 'prob_deact_v2')\n",
    "#    .withColumn('recency_x', F.datediff(F.col('deact_date'), F.col('ds'))) \\\n",
    "df_raw_old.show(10)"
   ]
  },
  {
   "cell_type": "code",
   "execution_count": 37,
   "metadata": {},
   "outputs": [
    {
     "name": "stdout",
     "output_type": "stream",
     "text": [
      "+--------------------+---------+------------------+-------------------+-----------+-------------+\n",
      "|         consumer_id|recency_x|        prob_deact|     prob_deact_cal|deactivated|prob_deact_v2|\n",
      "+--------------------+---------+------------------+-------------------+-----------+-------------+\n",
      "|0000303c-26f7-11e...|       30|0.3707008094436849|0.36670599471880444|          0|     0.446674|\n",
      "|000056e4-8848-11e...|      225|0.7186079197272879| 0.7023434198979426|          1|    0.6105505|\n",
      "|00007f18-39aa-11e...|      322| 0.894135564243669| 0.9137918854640074|          1|   0.90832436|\n",
      "|0000c2d4-26ea-11e...|      339|0.9233687571181955| 0.9500435436624178|          1|   0.96314824|\n",
      "|000137d0-d082-11e...|      118|0.8181413793418156| 0.8182760479290186|          1|    0.7988359|\n",
      "|00026b40-b4ce-11e...|      139|0.7246990418823425|  0.710236220472441|          1|    0.6367702|\n",
      "|00029680-f49a-11e...|       18|0.1571730852840627|0.16191412651589643|          1|   0.19496708|\n",
      "|00029750-c4fc-11e...|      177|0.8190881638319829| 0.8182760479290186|          1|   0.81750566|\n",
      "|0003230e-033a-11e...|      112|0.7226554612933205| 0.7023434198979426|          0|   0.67376965|\n",
      "|00032520-0b77-11e...|      279|0.9337903420741769| 0.9693682195277601|          1|   0.96146345|\n",
      "+--------------------+---------+------------------+-------------------+-----------+-------------+\n",
      "only showing top 10 rows\n",
      "\n"
     ]
    }
   ],
   "source": [
    "final = df_raw \\\n",
    "    .join(df_raw_old, df_raw.consumer_id == df_raw_old.consumer_id, how='left') \\\n",
    "    .drop(df_raw_old.consumer_id) \\\n",
    "    .join(df_target, df_raw.consumer_id == df_target.consumer_id) \\\n",
    "    .drop(df_target.consumer_id) \\\n",
    "    .cache()\n",
    "\n",
    "final.show(10)"
   ]
  },
  {
   "cell_type": "code",
   "execution_count": 39,
   "metadata": {
    "collapsed": true
   },
   "outputs": [],
   "source": [
    "final.write \\\n",
    "    .mode('overwrite') \\\n",
    "    .format('orc') \\\n",
    "    .option('orc.compress', 'snappy') \\\n",
    "    .save('hdfs://cerebro-namenode-vip.snc1/user/grp_gdoop_clv/deact-model/ce_keep_deact_accuracy_test/record_date='+score_date)"
   ]
  },
  {
   "cell_type": "markdown",
   "metadata": {},
   "source": [
    "# Compare Log Loss & Total Deacts"
   ]
  },
  {
   "cell_type": "markdown",
   "metadata": {},
   "source": [
    "### Overall\n",
    "\n",
    "V3 calibrated < V3 < V2 --> V3 calibrated does best overall"
   ]
  },
  {
   "cell_type": "code",
   "execution_count": 40,
   "metadata": {},
   "outputs": [
    {
     "name": "stdout",
     "output_type": "stream",
     "text": [
      "+------------------+------------------+--------------------------+\n",
      "|   avg_log_loss_v2|   avg_log_loss_v3|avg_log_loss_v3_calibrated|\n",
      "+------------------+------------------+--------------------------+\n",
      "|0.5037470163579497|0.4932564593807718|       0.49141057909471686|\n",
      "+------------------+------------------+--------------------------+\n",
      "\n"
     ]
    }
   ],
   "source": [
    "# Log Loss\n",
    "final \\\n",
    "    .withColumn('log_loss_v2', F.when(F.col('deactivated') == 1, -F.log(F.col('prob_deact_v2')))\n",
    "        .otherwise(-F.log(F.lit(1.0) - F.col('prob_deact_v2')))) \\\n",
    "    .withColumn('log_loss_v3', F.when(F.col('deactivated') == 1, -F.log(F.col('prob_deact')))\n",
    "        .otherwise(-F.log(F.lit(1.0) - F.col('prob_deact')))) \\\n",
    "    .withColumn('log_loss_v3_cal', F.when(F.col('deactivated') == 1, -F.log(F.col('prob_deact_cal')))\n",
    "        .otherwise(-F.log(F.lit(1.0) - F.col('prob_deact_cal')))) \\\n",
    "    .agg(\n",
    "        F.avg('log_loss_v2').alias('avg_log_loss_v2'),\n",
    "        F.avg('log_loss_v3').alias('avg_log_loss_v3'),\n",
    "        F.avg('log_loss_v3_cal').alias('avg_log_loss_v3_calibrated'),\n",
    "        ) \\\n",
    "    .show()"
   ]
  },
  {
   "cell_type": "markdown",
   "metadata": {},
   "source": [
    "V3 < V3 calibrated < V2 --> V3 without calibration does best overall, however the problem is it does poorly on the customers deactivating soonest, hence the need for calibration"
   ]
  },
  {
   "cell_type": "code",
   "execution_count": 41,
   "metadata": {},
   "outputs": [
    {
     "name": "stdout",
     "output_type": "stream",
     "text": [
      "+-------------------+-------------------+-----------------------+\n",
      "|pred_over_actual_v2|pred_over_actual_v3|pred_over_actual_v3_cal|\n",
      "+-------------------+-------------------+-----------------------+\n",
      "|0.03961045235866312|0.01213587409584238|   0.020495354626334894|\n",
      "+-------------------+-------------------+-----------------------+\n",
      "\n"
     ]
    }
   ],
   "source": [
    "# Total Deacts\n",
    "final \\\n",
    "    .agg(\n",
    "        F.sum(F.col('deactivated')).alias('deacts_actual'),\n",
    "        F.sum(F.col('prob_deact_v2')).alias('deacts_pred_v2'),\n",
    "        F.sum(F.col('prob_deact')).alias('deacts_pred_v3'),\n",
    "        F.sum(F.col('prob_deact_cal')).alias('deacts_pred_v3_cal'),\n",
    "    ) \\\n",
    "    .withColumn('pred_over_actual_v2', F.col('deacts_pred_v2') / F.col('deacts_actual') - F.lit(1.)) \\\n",
    "    .withColumn('pred_over_actual_v3', F.col('deacts_pred_v3') / F.col('deacts_actual') - F.lit(1.)) \\\n",
    "    .withColumn('pred_over_actual_v3_cal', F.col('deacts_pred_v3_cal') / F.col('deacts_actual') - F.lit(1.)) \\\n",
    "    .select('pred_over_actual_v2', 'pred_over_actual_v3', 'pred_over_actual_v3_cal') \\\n",
    "    .show()"
   ]
  },
  {
   "cell_type": "markdown",
   "metadata": {},
   "source": [
    "### By Recency"
   ]
  },
  {
   "cell_type": "code",
   "execution_count": 42,
   "metadata": {
    "collapsed": true
   },
   "outputs": [],
   "source": [
    "# Recency bucket UDF\n",
    "def bucket(days_until_deact):\n",
    "    if days_until_deact <= 30:\n",
    "        return '1. 1-30 days'\n",
    "    elif days_until_deact <= 60:\n",
    "        return '2. 31-60 days'\n",
    "    elif days_until_deact <= 90:\n",
    "        return '3. 61-90 days'\n",
    "    elif days_until_deact <= 120:\n",
    "        return '4. 91-120 days'\n",
    "    elif days_until_deact <= 180:\n",
    "        return '5. 121-180 days'\n",
    "    else:\n",
    "        return '6. 181-365 days'\n",
    "\n",
    "udf_bucket = F.udf(bucket)"
   ]
  },
  {
   "cell_type": "code",
   "execution_count": 44,
   "metadata": {},
   "outputs": [
    {
     "data": {
      "text/html": [
       "<div>\n",
       "<style scoped>\n",
       "    .dataframe tbody tr th:only-of-type {\n",
       "        vertical-align: middle;\n",
       "    }\n",
       "\n",
       "    .dataframe tbody tr th {\n",
       "        vertical-align: top;\n",
       "    }\n",
       "\n",
       "    .dataframe thead th {\n",
       "        text-align: right;\n",
       "    }\n",
       "</style>\n",
       "<table border=\"1\" class=\"dataframe\">\n",
       "  <thead>\n",
       "    <tr style=\"text-align: right;\">\n",
       "      <th></th>\n",
       "      <th>days_until_deact_bucket</th>\n",
       "      <th>avg_log_loss_v2</th>\n",
       "      <th>avg_log_loss_v3</th>\n",
       "      <th>avg_log_loss_v3_cal</th>\n",
       "    </tr>\n",
       "  </thead>\n",
       "  <tbody>\n",
       "    <tr>\n",
       "      <th>0</th>\n",
       "      <td>1. 1-30 days</td>\n",
       "      <td>0.179995</td>\n",
       "      <td>0.189087</td>\n",
       "      <td>0.179088</td>\n",
       "    </tr>\n",
       "    <tr>\n",
       "      <th>1</th>\n",
       "      <td>2. 31-60 days</td>\n",
       "      <td>0.303132</td>\n",
       "      <td>0.301833</td>\n",
       "      <td>0.298612</td>\n",
       "    </tr>\n",
       "    <tr>\n",
       "      <th>2</th>\n",
       "      <td>3. 61-90 days</td>\n",
       "      <td>0.374185</td>\n",
       "      <td>0.373643</td>\n",
       "      <td>0.372097</td>\n",
       "    </tr>\n",
       "    <tr>\n",
       "      <th>3</th>\n",
       "      <td>4. 91-120 days</td>\n",
       "      <td>0.445859</td>\n",
       "      <td>0.445166</td>\n",
       "      <td>0.444603</td>\n",
       "    </tr>\n",
       "    <tr>\n",
       "      <th>4</th>\n",
       "      <td>5. 121-180 days</td>\n",
       "      <td>0.510006</td>\n",
       "      <td>0.506450</td>\n",
       "      <td>0.505198</td>\n",
       "    </tr>\n",
       "    <tr>\n",
       "      <th>5</th>\n",
       "      <td>6. 181-365 days</td>\n",
       "      <td>0.582361</td>\n",
       "      <td>0.563418</td>\n",
       "      <td>0.562467</td>\n",
       "    </tr>\n",
       "  </tbody>\n",
       "</table>\n",
       "</div>"
      ],
      "text/plain": [
       "  days_until_deact_bucket  avg_log_loss_v2  avg_log_loss_v3  \\\n",
       "0            1. 1-30 days         0.179995         0.189087   \n",
       "1           2. 31-60 days         0.303132         0.301833   \n",
       "2           3. 61-90 days         0.374185         0.373643   \n",
       "3          4. 91-120 days         0.445859         0.445166   \n",
       "4         5. 121-180 days         0.510006         0.506450   \n",
       "5         6. 181-365 days         0.582361         0.563418   \n",
       "\n",
       "   avg_log_loss_v3_cal  \n",
       "0             0.179088  \n",
       "1             0.298612  \n",
       "2             0.372097  \n",
       "3             0.444603  \n",
       "4             0.505198  \n",
       "5             0.562467  "
      ]
     },
     "execution_count": 44,
     "metadata": {},
     "output_type": "execute_result"
    }
   ],
   "source": [
    "# Log Loss\n",
    "logloss = final \\\n",
    "    .filter((F.col('recency_x') >= 0) & (F.col('recency_x') <= 364)) \\\n",
    "    .withColumn('days_until_deact', F.lit(365) - F.col('recency_x')) \\\n",
    "    .withColumn('days_until_deact_bucket', udf_bucket(F.col('days_until_deact'))) \\\n",
    "    .withColumn('log_loss_v2', F.when(F.col('deactivated') == 1, -F.log(F.col('prob_deact_v2')))\n",
    "        .otherwise(-F.log(F.lit(1.0) - F.col('prob_deact_v2')))) \\\n",
    "    .withColumn('log_loss_v3', F.when(F.col('deactivated') == 1, -F.log(F.col('prob_deact')))\n",
    "        .otherwise(-F.log(F.lit(1.0) - F.col('prob_deact')))) \\\n",
    "    .withColumn('log_loss_v3_cal', F.when(F.col('deactivated') == 1, -F.log(F.col('prob_deact_cal')))\n",
    "        .otherwise(-F.log(F.lit(1.0) - F.col('prob_deact_cal')))) \\\n",
    "    .groupBy(F.col('days_until_deact_bucket')) \\\n",
    "    .agg(\n",
    "        F.avg(F.col('log_loss_v2')).alias('avg_log_loss_v2'),\n",
    "        F.avg(F.col('log_loss_v3')).alias('avg_log_loss_v3'),\n",
    "        F.avg(F.col('log_loss_v3_cal')).alias('avg_log_loss_v3_cal'),\n",
    "    ) \\\n",
    "    .toPandas() \\\n",
    "    .sort_values('days_until_deact_bucket') \\\n",
    "    .reset_index(drop=True)\n",
    "\n",
    "logloss"
   ]
  },
  {
   "cell_type": "markdown",
   "metadata": {},
   "source": [
    "V3 outperforms V2 in all recency buckets EXCEPT 1-30 days, where it does worse. Adding the calibration to V3 means it does better than V2 in all buckets."
   ]
  },
  {
   "cell_type": "code",
   "execution_count": 45,
   "metadata": {},
   "outputs": [
    {
     "data": {
      "image/png": "[encoded data removed]",
      "text/plain": [
       "<matplotlib.figure.Figure at 0x7f491b0c7610>"
      ]
     },
     "execution_count": 45,
     "metadata": {},
     "output_type": "execute_result"
    }
   ],
   "source": [
    "fig = plt.figure(figsize=(10,10))\n",
    "width = 0.3\n",
    "plt.bar([x - width for x in range(6)], logloss.avg_log_loss_v2, width, label='V2')\n",
    "plt.bar([x for x in range(6)], logloss.avg_log_loss_v3, width, label='V3')\n",
    "plt.bar([x + width for x in range(6)], logloss.avg_log_loss_v3_cal, width, label='V3 Calibrated')\n",
    "plt.title('Average Log Loss')\n",
    "plt.xticks(range(6), logloss.days_until_deact_bucket)\n",
    "plt.legend()\n",
    "\n",
    "fig"
   ]
  },
  {
   "cell_type": "code",
   "execution_count": 46,
   "metadata": {},
   "outputs": [
    {
     "data": {
      "text/html": [
       "<div>\n",
       "<style scoped>\n",
       "    .dataframe tbody tr th:only-of-type {\n",
       "        vertical-align: middle;\n",
       "    }\n",
       "\n",
       "    .dataframe tbody tr th {\n",
       "        vertical-align: top;\n",
       "    }\n",
       "\n",
       "    .dataframe thead th {\n",
       "        text-align: right;\n",
       "    }\n",
       "</style>\n",
       "<table border=\"1\" class=\"dataframe\">\n",
       "  <thead>\n",
       "    <tr style=\"text-align: right;\">\n",
       "      <th></th>\n",
       "      <th>days_until_deact_bucket</th>\n",
       "      <th>pred_over_actual_v2</th>\n",
       "      <th>pred_over_actual_v3</th>\n",
       "      <th>pred_over_actual_v3_cal</th>\n",
       "    </tr>\n",
       "  </thead>\n",
       "  <tbody>\n",
       "    <tr>\n",
       "      <th>0</th>\n",
       "      <td>1. 1-30 days</td>\n",
       "      <td>0.003588</td>\n",
       "      <td>-0.025358</td>\n",
       "      <td>0.010045</td>\n",
       "    </tr>\n",
       "    <tr>\n",
       "      <th>1</th>\n",
       "      <td>2. 31-60 days</td>\n",
       "      <td>0.008363</td>\n",
       "      <td>-0.009668</td>\n",
       "      <td>0.013699</td>\n",
       "    </tr>\n",
       "    <tr>\n",
       "      <th>2</th>\n",
       "      <td>3. 61-90 days</td>\n",
       "      <td>0.012452</td>\n",
       "      <td>0.011576</td>\n",
       "      <td>0.029359</td>\n",
       "    </tr>\n",
       "    <tr>\n",
       "      <th>3</th>\n",
       "      <td>4. 91-120 days</td>\n",
       "      <td>0.015509</td>\n",
       "      <td>0.004438</td>\n",
       "      <td>0.013661</td>\n",
       "    </tr>\n",
       "    <tr>\n",
       "      <th>4</th>\n",
       "      <td>5. 121-180 days</td>\n",
       "      <td>0.005191</td>\n",
       "      <td>0.001960</td>\n",
       "      <td>0.003997</td>\n",
       "    </tr>\n",
       "    <tr>\n",
       "      <th>5</th>\n",
       "      <td>6. 181-365 days</td>\n",
       "      <td>0.075262</td>\n",
       "      <td>0.030203</td>\n",
       "      <td>0.030281</td>\n",
       "    </tr>\n",
       "  </tbody>\n",
       "</table>\n",
       "</div>"
      ],
      "text/plain": [
       "  days_until_deact_bucket  pred_over_actual_v2  pred_over_actual_v3  \\\n",
       "0            1. 1-30 days             0.003588            -0.025358   \n",
       "1           2. 31-60 days             0.008363            -0.009668   \n",
       "2           3. 61-90 days             0.012452             0.011576   \n",
       "3          4. 91-120 days             0.015509             0.004438   \n",
       "4         5. 121-180 days             0.005191             0.001960   \n",
       "5         6. 181-365 days             0.075262             0.030203   \n",
       "\n",
       "   pred_over_actual_v3_cal  \n",
       "0                 0.010045  \n",
       "1                 0.013699  \n",
       "2                 0.029359  \n",
       "3                 0.013661  \n",
       "4                 0.003997  \n",
       "5                 0.030281  "
      ]
     },
     "execution_count": 46,
     "metadata": {},
     "output_type": "execute_result"
    }
   ],
   "source": [
    "total_deacts = final \\\n",
    "    .filter((F.col('recency_x') >= 0) & (F.col('recency_x') <= 364)) \\\n",
    "    .withColumn('days_until_deact', F.lit(365) - F.col('recency_x')) \\\n",
    "    .withColumn('days_until_deact_bucket', udf_bucket(F.col('days_until_deact'))) \\\n",
    "    .groupBy(F.col('days_until_deact_bucket')) \\\n",
    "    .agg(\n",
    "        F.sum(F.col('deactivated')).alias('deacts_actual'),\n",
    "        F.sum(F.col('prob_deact_v2')).alias('deacts_pred_v2'),\n",
    "        F.sum(F.col('prob_deact')).alias('deacts_pred_v3'),\n",
    "        F.sum(F.col('prob_deact_cal')).alias('deacts_pred_v3_cal'),\n",
    "    ) \\\n",
    "    .withColumn('pred_over_actual_v2', F.col('deacts_pred_v2') / F.col('deacts_actual') - F.lit(1.)) \\\n",
    "    .withColumn('pred_over_actual_v3', F.col('deacts_pred_v3') / F.col('deacts_actual') - F.lit(1.)) \\\n",
    "    .withColumn('pred_over_actual_v3_cal', F.col('deacts_pred_v3_cal') / F.col('deacts_actual') - F.lit(1.)) \\\n",
    "    .select('days_until_deact_bucket', 'pred_over_actual_v2', 'pred_over_actual_v3', 'pred_over_actual_v3_cal') \\\n",
    "    .toPandas() \\\n",
    "    .sort_values('days_until_deact_bucket') \\\n",
    "    .reset_index(drop=True)\n",
    "\n",
    "total_deacts"
   ]
  },
  {
   "cell_type": "code",
   "execution_count": 47,
   "metadata": {},
   "outputs": [
    {
     "data": {
      "image/png": "[encoded data removed]",
      "text/plain": [
       "<matplotlib.figure.Figure at 0x7f491b0c7dd0>"
      ]
     },
     "execution_count": 47,
     "metadata": {},
     "output_type": "execute_result"
    }
   ],
   "source": [
    "fig = plt.figure(figsize=(10,10))\n",
    "width = 0.3\n",
    "plt.bar([x - width for x in range(6)], total_deacts.pred_over_actual_v2, width, label='V2')\n",
    "plt.bar([x for x in range(6)], total_deacts.pred_over_actual_v3, width, label='V3')\n",
    "plt.bar([x + width for x in range(6)], total_deacts.pred_over_actual_v3_cal, width, label='V3 Calibrated')\n",
    "plt.title('Predicted / Actual Deacts')\n",
    "plt.xticks(range(6), total_deacts.days_until_deact_bucket)\n",
    "plt.legend()\n",
    "\n",
    "fig"
   ]
  },
  {
   "cell_type": "code",
   "execution_count": null,
   "metadata": {
    "collapsed": true
   },
   "outputs": [],
   "source": []
  }
 ],
 "metadata": {
  "kernelspec": {
   "display_name": "Python 2",
   "language": "python",
   "name": "python2"
  },
  "language_info": {
   "codemirror_mode": {
    "name": "ipython",
    "version": 2
   },
   "file_extension": ".py",
   "mimetype": "text/x-python",
   "name": "python",
   "nbconvert_exporter": "python",
   "pygments_lexer": "ipython2",
   "version": "2.7.13"
  }
 },
 "nbformat": 4,
 "nbformat_minor": 2
}
