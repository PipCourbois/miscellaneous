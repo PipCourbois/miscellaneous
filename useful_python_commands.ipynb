{
 "cells": [
  {
   "cell_type": "markdown",
   "metadata": {},
   "source": [
    "### Good references\n",
    "\n",
    "1. [Pandas Cheatsheet](https://pandas.pydata.org/Pandas_Cheat_Sheet.pdf)"
   ]
  },
  {
   "cell_type": "markdown",
   "metadata": {},
   "source": [
    "## describe a dataset\n",
    "\n",
    "format output"
   ]
  },
  {
   "cell_type": "code",
   "execution_count": null,
   "metadata": {},
   "outputs": [],
   "source": [
    "## desc as in SQL\n",
    "\n",
    "ts_raw.info(verbose=True)"
   ]
  },
  {
   "cell_type": "code",
   "execution_count": null,
   "metadata": {},
   "outputs": [],
   "source": [
    "# this change of options is to get out of scientific notation\n",
    "# for new formats see: https://mkaz.blog/code/python-string-format-cookbook/\n",
    "pd.set_option('display.float_format',lambda x:'{:,.2f}'.format( x ))\n",
    "\n",
    "\n",
    "ts_raw[floats].describe()"
   ]
  },
  {
   "cell_type": "markdown",
   "metadata": {},
   "source": [
    "### Print"
   ]
  },
  {
   "cell_type": "code",
   "execution_count": null,
   "metadata": {},
   "outputs": [],
   "source": [
    "print('first date: ',ts_raw['shopper_creation_timestamp_pst'].min())\n",
    "print('last date:',ts_raw['shopper_creation_timestamp_pst'].max())"
   ]
  },
  {
   "cell_type": "markdown",
   "metadata": {},
   "source": [
    "### Sorting"
   ]
  },
  {
   "cell_type": "code",
   "execution_count": null,
   "metadata": {},
   "outputs": [],
   "source": [
    "# should write a function, but doing this once\n",
    "# ts_raw.sort_values(by='number_calls_answered',ascending=False).head(10)\n",
    "# 968954\n",
    "# 17028\n",
    "\n",
    "# ts_raw.sort_values(by='number_calls_longer_than_200seconds',ascending=False).head(10)\n",
    "# 968954 - zero everything else\n",
    "# 17028 - zero everything else"
   ]
  },
  {
   "cell_type": "markdown",
   "metadata": {},
   "source": [
    "#### Find missing"
   ]
  },
  {
   "cell_type": "code",
   "execution_count": null,
   "metadata": {},
   "outputs": [],
   "source": [
    "ts_raw.isnull().sum()"
   ]
  },
  {
   "cell_type": "markdown",
   "metadata": {},
   "source": [
    "### group by aggregate on multiple columns including count\n",
    "\n",
    "[here about 1/2 way down the page](https://stackoverflow.com/questions/19384532/get-statistics-for-each-group-such-as-count-mean-etc-using-pandas-groupby)"
   ]
  },
  {
   "cell_type": "code",
   "execution_count": null,
   "metadata": {},
   "outputs": [],
   "source": [
    "In [6]: gb = df.groupby(['col1', 'col2'])\n",
    "   ...: counts = gb.size().to_frame(name='counts')\n",
    "   ...: (counts\n",
    "   ...:  .join(gb.agg({'col3': 'mean'}).rename(columns={'col3': 'col3_mean'}))\n",
    "   ...:  .join(gb.agg({'col4': 'median'}).rename(columns={'col4': 'col4_median'}))\n",
    "   ...:  .join(gb.agg({'col4': 'min'}).rename(columns={'col4': 'col4_min'}))\n",
    "   ...:  .reset_index()\n",
    "   ...: )\n",
    "   ...: \n",
    "Out[6]: \n",
    "  col1 col2  counts  col3_mean  col4_median  col4_min\n",
    "0    A    B       4  -0.372500       -0.810     -1.32\n",
    "1    C    D       3  -0.476667       -0.110     -1.65\n",
    "2    E    F       2   0.455000        0.475     -0.47\n",
    "3    G    H       1   1.480000       -0.630     -0.63\n"
   ]
  },
  {
   "cell_type": "markdown",
   "metadata": {},
   "source": [
    "### Where is really cool\n"
   ]
  },
  {
   "cell_type": "code",
   "execution_count": null,
   "metadata": {},
   "outputs": [],
   "source": []
  },
  {
   "cell_type": "markdown",
   "metadata": {},
   "source": [
    "### Label points and annotations\n",
    "\n",
    "[here](http://queirozf.com/entries/add-labels-and-text-to-matplotlib-plots-annotation-examples#add-labels-to-line-plots)"
   ]
  },
  {
   "cell_type": "code",
   "execution_count": null,
   "metadata": {},
   "outputs": [],
   "source": [
    "import matplotlib.pyplot as plt\n",
    "plt.scatter(X, y, color = 'blue') \n",
    "\n",
    "for i in range(len(X)):\n",
    "    label = \"{:.0f}\".format(X.index[i])\n",
    "    y_pos = y.iloc[i]\n",
    "    x_pos = X.iloc[i][\"marketing_cost\"]\n",
    "\n",
    "    plt.annotate(label, # this is the text\n",
    "                 (x_pos,y_pos), # this is the point to label\n",
    "                 textcoords=\"offset points\", # how to position the text\n",
    "                 xytext=(0,10), # distance from text to points (x,y)\n",
    "                 ha='center' # horizontal alignment can be left, right or center\n",
    "                 ,size=8) \n",
    "\n",
    "\n",
    "# the sorting is a bit dangerous, obviously want to make sure both X and predicted_X are sorted exactly the same way\n",
    "# without sorting the line plot gets it all wrong\n",
    "plt.plot(X.sort_values(by=\"marketing_cost\"), est2.predict(np.sort(X_poly,axis=0)), color = 'red') \n",
    "plt.title('Revenue on Marketing Cost') \n",
    "plt.xlabel('Marketing Cost ($, weekly)') \n",
    "plt.ylabel('Total revenue ($)') \n",
    "plt.show() "
   ]
  },
  {
   "cell_type": "markdown",
   "metadata": {},
   "source": [
    "### Two way tables and cross tabs\n",
    "\n",
    "[here](https://pbpython.com/pandas-crosstab.html)"
   ]
  },
  {
   "cell_type": "code",
   "execution_count": null,
   "metadata": {},
   "outputs": [],
   "source": []
  }
 ],
 "metadata": {
  "kernelspec": {
   "display_name": "Python 3",
   "language": "python",
   "name": "python3"
  },
  "language_info": {
   "codemirror_mode": {
    "name": "ipython",
    "version": 3
   },
   "file_extension": ".py",
   "mimetype": "text/x-python",
   "name": "python",
   "nbconvert_exporter": "python",
   "pygments_lexer": "ipython3",
   "version": "3.7.6"
  }
 },
 "nbformat": 4,
 "nbformat_minor": 4
}
