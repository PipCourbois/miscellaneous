{
 "cells": [
  {
   "cell_type": "markdown",
   "metadata": {},
   "source": [
    "[source](https://github.com/benalexkeen/Introduction-to-linear-programming)\n",
    "\n",
    "## Introduction to Linear Programming with Python\n",
    "\n",
    "In this set of notebooks we will be looking at some linear programming problems and how we can construct and solve these problems using the python linear programming package PuLP.\n",
    "\n",
    "Let's start with a simple example:\n",
    "\n",
    "We want to find the maximum solution to:\n",
    "\n",
    "Z = 4x + 3y\n",
    "\n",
    "This is known as our objective function. x and y in this equation are our decision variables.\n",
    "\n",
    "In this example, the objective function is subject to the following constraints:\n",
    "\n",
    "x ≥ 0\n",
    "\n",
    "y ≥ 2\n",
    "\n",
    "2y ≤ 25 - x\n",
    "\n",
    "4y ≥ 2x - 8\n",
    "\n",
    "y ≤ 2x - 5\n",
    "\n",
    "We'll begin by graphing this problem\n"
   ]
  },
  {
   "cell_type": "code",
   "execution_count": 1,
   "metadata": {},
   "outputs": [],
   "source": [
    "import numpy as np\n",
    "import matplotlib.pyplot as plt\n",
    "%matplotlib inline\n"
   ]
  },
  {
   "cell_type": "code",
   "execution_count": 3,
   "metadata": {},
   "outputs": [
    {
     "data": {
      "text/plain": [
       "<matplotlib.legend.Legend at 0x7fb876149790>"
      ]
     },
     "execution_count": 3,
     "metadata": {},
     "output_type": "execute_result"
    },
    {
     "data": {
      "image/png": "[encoded data removed]",
      "text/plain": [
       "<Figure size 432x288 with 1 Axes>"
      ]
     },
     "metadata": {
      "needs_background": "light"
     },
     "output_type": "display_data"
    }
   ],
   "source": [
    "\n",
    "# Construct lines\n",
    "# x > 0\n",
    "x = np.linspace(0, 20, 2000)\n",
    "# y >= 2\n",
    "y1 = (x*0) + 2\n",
    "# 2y <= 25 - x\n",
    "y2 = (25-x)/2.0\n",
    "# 4y >= 2x - 8 \n",
    "y3 = (2*x-8)/4.0\n",
    "# y <= 2x - 5 \n",
    "y4 = 2 * x -5\n",
    "\n",
    "# Make plot\n",
    "plt.plot(x, y1, label=r'$y\\geq2$')\n",
    "plt.plot(x, y2, label=r'$2y\\leq25-x$')\n",
    "plt.plot(x, y3, label=r'$4y\\geq 2x - 8$')\n",
    "plt.plot(x, y4, label=r'$y\\leq 2x-5$')\n",
    "plt.xlim((0, 16))\n",
    "plt.ylim((0, 11))\n",
    "plt.xlabel(r'$x$')\n",
    "plt.ylabel(r'$y$')\n",
    "\n",
    "# Fill feasible region\n",
    "y5 = np.minimum(y2, y4)\n",
    "y6 = np.maximum(y1, y3)\n",
    "plt.fill_between(x, y5, y6, where=y5>y6, color='grey', alpha=0.5)\n",
    "plt.legend(bbox_to_anchor=(1.05, 1), loc=2, borderaxespad=0.)"
   ]
  },
  {
   "cell_type": "code",
   "execution_count": 3,
   "metadata": {},
   "outputs": [
    {
     "data": {
      "text/plain": [
       "array([0.00000000e+00, 1.00050025e-02, 2.00100050e-02, ...,\n",
       "       1.99799900e+01, 1.99899950e+01, 2.00000000e+01])"
      ]
     },
     "execution_count": 3,
     "metadata": {},
     "output_type": "execute_result"
    }
   ],
   "source": [
    "x = np.linspace(0, 20, 2000)\n",
    "x"
   ]
  },
  {
   "cell_type": "markdown",
   "metadata": {},
   "source": [
    "## see solution on example page"
   ]
  },
  {
   "cell_type": "markdown",
   "metadata": {},
   "source": [
    "## Introduction to PuLP\n",
    "\n"
   ]
  },
  {
   "cell_type": "code",
   "execution_count": 2,
   "metadata": {},
   "outputs": [],
   "source": [
    "import pulp"
   ]
  },
  {
   "cell_type": "markdown",
   "metadata": {},
   "source": [
    "Instantiate the problem class, we'll name it \"My LP problem\" and we're looking for an optimal maximum so we use LpMaximize"
   ]
  },
  {
   "cell_type": "code",
   "execution_count": 5,
   "metadata": {},
   "outputs": [],
   "source": [
    "my_lp_problem = pulp.LpProblem(\"My_LP_Problem\", pulp.LpMaximize)"
   ]
  },
  {
   "cell_type": "markdown",
   "metadata": {},
   "source": [
    "Decision variables using the LpVariable class. In our example, x had a lower bound of 0 and y had a lower bound of 2.\n",
    "\n",
    "Upper bounds can be assigned using the upBound parameter."
   ]
  },
  {
   "cell_type": "code",
   "execution_count": 6,
   "metadata": {},
   "outputs": [],
   "source": [
    "x = pulp.LpVariable('x', lowBound=0, cat='Continuous')\n",
    "y = pulp.LpVariable('y', lowBound=2, cat='Continuous')"
   ]
  },
  {
   "cell_type": "markdown",
   "metadata": {},
   "source": [
    "The objective function and constraints are added using the += operator to our model.\n",
    "\n",
    "The objective function is added first, then the individual constraints."
   ]
  },
  {
   "cell_type": "code",
   "execution_count": 7,
   "metadata": {},
   "outputs": [],
   "source": [
    "# Objective function\n",
    "my_lp_problem += 4 * x + 3 * y, \"Z\""
   ]
  },
  {
   "cell_type": "code",
   "execution_count": 8,
   "metadata": {},
   "outputs": [],
   "source": [
    "# Constraints\n",
    "my_lp_problem += 2 * y <= 25 - x\n",
    "my_lp_problem += 4 * y >= 2 * x - 8\n",
    "my_lp_problem += y <= 2 * x - 5"
   ]
  },
  {
   "cell_type": "code",
   "execution_count": 9,
   "metadata": {},
   "outputs": [
    {
     "data": {
      "text/plain": [
       "My_LP_Problem:\n",
       "MAXIMIZE\n",
       "4*x + 3*y + 0\n",
       "SUBJECT TO\n",
       "_C1: x + 2 y <= 25\n",
       "\n",
       "_C2: - 2 x + 4 y >= -8\n",
       "\n",
       "_C3: - 2 x + y <= -5\n",
       "\n",
       "VARIABLES\n",
       "x Continuous\n",
       "2 <= y Continuous"
      ]
     },
     "execution_count": 9,
     "metadata": {},
     "output_type": "execute_result"
    }
   ],
   "source": [
    "my_lp_problem"
   ]
  },
  {
   "cell_type": "markdown",
   "metadata": {},
   "source": [
    "----\n",
    "\n",
    "PuLP supports open source linear programming solvers such as CBC and GLPK, as well as commercial solvers such as Gurobi and IBM's CPLEX.\n",
    "\n",
    "The default solver is CBC, which comes packaged with PuLP upon installation.\n",
    "\n",
    "For most applications, the open source CBC from [COIN-OR](https://www.coin-or.org/projects/) will be enough for most simple linear programming optimisation algorithms."
   ]
  },
  {
   "cell_type": "code",
   "execution_count": 10,
   "metadata": {},
   "outputs": [
    {
     "data": {
      "text/plain": [
       "'Optimal'"
      ]
     },
     "execution_count": 10,
     "metadata": {},
     "output_type": "execute_result"
    }
   ],
   "source": [
    "my_lp_problem.solve()\n",
    "pulp.LpStatus[my_lp_problem.status]"
   ]
  },
  {
   "cell_type": "markdown",
   "metadata": {},
   "source": [
    "We have also checked the status of the solver, there are 5 status codes:\n",
    "\n",
    "* Not Solved: Status prior to solving the problem.\n",
    "* Optimal: An optimal solution has been found.\n",
    "* Infeasible: There are no feasible solutions (e.g. if you set the constraints x <= 1 and x >=2).\n",
    "* Unbounded: The constraints are not bounded, maximising the solution will tend towards infinity (e.g. if the only constraint was x >= 3).\n",
    "* Undefined: The optimal solution may exist but may not have been found.\n",
    "\n",
    "We can now view our maximal variable values and the maximum value of Z.\n",
    "\n",
    "We can use the varValue method to retrieve the values of our variables x and y, and the pulp.value function to view the maximum value of the objective function."
   ]
  },
  {
   "cell_type": "code",
   "execution_count": 15,
   "metadata": {},
   "outputs": [
    {
     "name": "stdout",
     "output_type": "stream",
     "text": [
      "x = 14.5\n",
      "y = 5.25\n"
     ]
    }
   ],
   "source": [
    "for variable in my_lp_problem.variables():\n",
    "    print('{} = {}'.format(variable.name, variable.varValue))"
   ]
  },
  {
   "cell_type": "code",
   "execution_count": 17,
   "metadata": {},
   "outputs": [
    {
     "name": "stdout",
     "output_type": "stream",
     "text": [
      "73.75\n"
     ]
    }
   ],
   "source": [
    "print(pulp.value(my_lp_problem.objective))"
   ]
  },
  {
   "cell_type": "markdown",
   "metadata": {},
   "source": [
    "## Two real world problems\n",
    "\n",
    "### Resourcing Problem\n",
    "\n",
    "We're consulting for a boutique car manufacturer, producing luxury cars.\n",
    "\n",
    "They run on one month (30 days) cycles, we have one cycle to show we can provide value.\n",
    "\n",
    "There is one robot, 2 engineers and one detailer in the factory. The detailer has some holiday off, so only has 21 days available.\n",
    "\n",
    "The 2 cars need different time with each resource:\n",
    "\n",
    "Robot time: Car A - 3 days; Car B - 4 days.\n",
    "\n",
    "Engineer time: Car A - 5 days; Car B - 6 days.\n",
    "\n",
    "Detailer time: Car A - 1.5 days; Car B - 3 days.\n",
    "\n",
    "Car A provides €30,000 profit, whilst Car B offers €45,000 profit.\n",
    "\n",
    "At the moment, they produce 4 of each cars per month, for €300,000 profit. Not bad at all, but we think we can do better for them.\n",
    "\n",
    "This can be modelled as follows:\n",
    "\n",
    "Maximise\n",
    "\n",
    "Profit = 30,000A + 45,000B\n",
    "\n",
    "Subject to:\n",
    "\n",
    "A ≥ 0\n",
    "\n",
    "B ≥ 0\n",
    "\n",
    "3A + 4B ≤ 30\n",
    "\n",
    "5A + 6B ≤ 60\n",
    "\n",
    "1.5A + 3B ≤ 21"
   ]
  },
  {
   "cell_type": "code",
   "execution_count": 18,
   "metadata": {},
   "outputs": [],
   "source": [
    "# Instantiate our problem class\n",
    "model = pulp.LpProblem(\"Profit maximising problem\", pulp.LpMaximize)"
   ]
  },
  {
   "cell_type": "markdown",
   "metadata": {},
   "source": [
    "Unlike our previous problem, the decision variables in this case won't be continuous (We can't sell half a car!), so the category is integer."
   ]
  },
  {
   "cell_type": "code",
   "execution_count": 19,
   "metadata": {},
   "outputs": [],
   "source": [
    "A = pulp.LpVariable('A', lowBound=0, cat='Integer')\n",
    "B = pulp.LpVariable('B', lowBound=0, cat='Integer')"
   ]
  },
  {
   "cell_type": "code",
   "execution_count": 20,
   "metadata": {},
   "outputs": [],
   "source": [
    "# Objective function\n",
    "model += 30000 * A + 45000 * B, \"Profit\""
   ]
  },
  {
   "cell_type": "code",
   "execution_count": 21,
   "metadata": {},
   "outputs": [],
   "source": [
    "# Constraints\n",
    "model += 3 * A + 4 * B <= 30\n",
    "model += 5 * A + 6 * B <= 60\n",
    "model += 1.5 * A + 3 * B <= 21"
   ]
  },
  {
   "cell_type": "code",
   "execution_count": 22,
   "metadata": {},
   "outputs": [
    {
     "data": {
      "text/plain": [
       "'Optimal'"
      ]
     },
     "execution_count": 22,
     "metadata": {},
     "output_type": "execute_result"
    }
   ],
   "source": [
    "# Solve our problem\n",
    "model.solve()\n",
    "pulp.LpStatus[model.status]"
   ]
  },
  {
   "cell_type": "code",
   "execution_count": 24,
   "metadata": {},
   "outputs": [
    {
     "name": "stdout",
     "output_type": "stream",
     "text": [
      "Production of Car A = 2.0\n",
      "Production of Car B = 6.0\n"
     ]
    }
   ],
   "source": [
    "# Print our decision variable values\n",
    "print(\"Production of Car A = {}\".format(A.varValue))\n",
    "print(\"Production of Car B = {}\".format(B.varValue))"
   ]
  },
  {
   "cell_type": "code",
   "execution_count": 25,
   "metadata": {},
   "outputs": [
    {
     "name": "stdout",
     "output_type": "stream",
     "text": [
      "330000.0\n"
     ]
    }
   ],
   "source": [
    "# Print our objective function value\n",
    "print(pulp.value(model.objective))"
   ]
  },
  {
   "cell_type": "markdown",
   "metadata": {},
   "source": [
    "### Problem \\#2: Blending problem\n",
    "\n",
    "We're going to make some sausages!\n",
    "\n",
    "We have the following ingredients available to us:\n",
    "\n",
    "|Ingredient|Cost|Availability| \n",
    "|-----|-------|------| \n",
    "|Pork|\\\\$4.32|30| \n",
    "|Wheat|\\\\$2.46|20| \n",
    "|Starch|\\\\$1.86|17|\n",
    "\n",
    "We'll make 2 types of sausage:\n",
    "\n",
    "Economy (>40% Pork) <br>\n",
    "Premium (>60% Pork) <br>\n",
    "One sausage is 50 grams (0.05 kg) <br>\n",
    "\n",
    "According to government regulations, the most starch we can use in our sausages is 25%\n",
    "\n",
    "We have a contract with a butcher, and have already purchased 23 kg pork, that will go bad if it's not used.\n",
    "\n",
    "We have a demand for 350 economy sausages and 500 premium sausages.\n",
    "\n",
    "We need to figure out how to most cost effectively blend our sausages.\n",
    "\n",
    "Let's model our problem\n",
    "\n",
    "$p_e$ = Pork in the economy sausages (kg) <br>\n",
    "$w_e$ = Wheat in the economy sausages (kg) <br>\n",
    "$s_e$ = Starch in the economy sausages (kg) <br>\n",
    "$p_p$ = Pork in the premium sausages (kg) <br>\n",
    "$w_p$ = Wheat in the premium sausages (kg) <br>\n",
    "$s_p$ = Starch in the premium sausages (kg) <br>\n",
    "\n",
    "We want to minimise costs such that:\n",
    "\n",
    "Cost $= 0.72(p_e + p_p) + 0.41(w_e + w_p) + 0.31(s_e + s_p)$\n",
    "\n",
    "With the following constraints:\n",
    "\n",
    "$p_e + w_e + s_e = 350 * 0.05$ <br>\n",
    "$p_p + w_p + s_p = 500 * 0.05$ <br>\n",
    "$p_e ≥ 0.4(p_e + w_e + s_e)$ <br>\n",
    "$p_p ≥ 0.6(p_p + w_p + s_p)$ <br>\n",
    "$s_e ≤ 0.25(p_e + w_e + s_e)$ <br>\n",
    "$s_p ≤ 0.25(p_p + w_p + s_p)$ <br>\n",
    "$p_e + p_p ≤ 30$ <br>\n",
    "$w_e + w_p ≤ 20$ <br>\n",
    "$s_e + s_p ≤ 17$ <br>\n",
    "$p_e + p_p ≥ 23$ <br>"
   ]
  },
  {
   "cell_type": "code",
   "execution_count": 26,
   "metadata": {},
   "outputs": [],
   "source": [
    "# Instantiate our problem class\n",
    "model = pulp.LpProblem(\"Cost minimising blending problem\", pulp.LpMinimize)"
   ]
  },
  {
   "cell_type": "markdown",
   "metadata": {},
   "source": [
    "Here we have 6 decision variables, we could name them individually but this wouldn't scale up if we had hundreds/thousands of variables (you don't want to be entering all of these by hand multiple times).\n",
    "\n",
    "We'll create a couple of lists from which we can create tuple indices."
   ]
  },
  {
   "cell_type": "code",
   "execution_count": 27,
   "metadata": {},
   "outputs": [],
   "source": [
    "# Construct our decision variable lists\n",
    "sausage_types = ['economy', 'premium']\n",
    "ingredients = ['pork', 'wheat', 'starch']"
   ]
  },
  {
   "cell_type": "markdown",
   "metadata": {},
   "source": [
    "Each of these decision variables will have similar characteristics (lower bound of 0, continuous variables). Therefore we can use PuLP's LpVariable object's dict functionality, we can provide our tuple indices.\n",
    "\n",
    "These tuples will be keys for the ing_weight dict of decision variables"
   ]
  },
  {
   "cell_type": "code",
   "execution_count": 28,
   "metadata": {},
   "outputs": [],
   "source": [
    "ing_weight = pulp.LpVariable.dicts(\"weight kg\",\n",
    "                                     ((i, j) for i in sausage_types for j in ingredients),\n",
    "                                     lowBound=0,\n",
    "                                     cat='Continuous')"
   ]
  },
  {
   "cell_type": "code",
   "execution_count": 29,
   "metadata": {},
   "outputs": [],
   "source": [
    "# Objective Function\n",
    "model += (\n",
    "    pulp.lpSum([\n",
    "        4.32 * ing_weight[(i, 'pork')]\n",
    "        + 2.46 * ing_weight[(i, 'wheat')]\n",
    "        + 1.86 * ing_weight[(i, 'starch')]\n",
    "        for i in sausage_types])\n",
    ")"
   ]
  },
  {
   "cell_type": "code",
   "execution_count": 30,
   "metadata": {},
   "outputs": [],
   "source": [
    "# Constraints\n",
    "# 350 economy and 500 premium sausages at 0.05 kg\n",
    "model += pulp.lpSum([ing_weight['economy', j] for j in ingredients]) == 350 * 0.05\n",
    "model += pulp.lpSum([ing_weight['premium', j] for j in ingredients]) == 500 * 0.05\n",
    "\n",
    "# Economy has >= 40% pork, premium >= 60% pork\n",
    "model += ing_weight['economy', 'pork'] >= (\n",
    "    0.4 * pulp.lpSum([ing_weight['economy', j] for j in ingredients]))\n",
    "\n",
    "model += ing_weight['premium', 'pork'] >= (\n",
    "    0.6 * pulp.lpSum([ing_weight['premium', j] for j in ingredients]))\n",
    "\n",
    "# Sausages must be <= 25% starch\n",
    "model += ing_weight['economy', 'starch'] <= (\n",
    "    0.25 * pulp.lpSum([ing_weight['economy', j] for j in ingredients]))\n",
    "\n",
    "model += ing_weight['premium', 'starch'] <= (\n",
    "    0.25 * pulp.lpSum([ing_weight['premium', j] for j in ingredients]))\n",
    "\n",
    "# We have at most 30 kg of pork, 20 kg of wheat and 17 kg of starch available\n",
    "model += pulp.lpSum([ing_weight[i, 'pork'] for i in sausage_types]) <= 30\n",
    "model += pulp.lpSum([ing_weight[i, 'wheat'] for i in sausage_types]) <= 20\n",
    "model += pulp.lpSum([ing_weight[i, 'starch'] for i in sausage_types]) <= 17\n",
    "\n",
    "# We have at least 23 kg of pork to use up\n",
    "model += pulp.lpSum([ing_weight[i, 'pork'] for i in sausage_types]) >= 23"
   ]
  },
  {
   "cell_type": "code",
   "execution_count": 31,
   "metadata": {},
   "outputs": [
    {
     "data": {
      "text/plain": [
       "'Optimal'"
      ]
     },
     "execution_count": 31,
     "metadata": {},
     "output_type": "execute_result"
    }
   ],
   "source": [
    "# Solve our problem\n",
    "model.solve()\n",
    "pulp.LpStatus[model.status]"
   ]
  },
  {
   "cell_type": "code",
   "execution_count": 32,
   "metadata": {},
   "outputs": [
    {
     "name": "stdout",
     "output_type": "stream",
     "text": [
      "The weight of pork in economy sausages is 7.0 kg\n",
      "The weight of wheat in economy sausages is 6.125 kg\n",
      "The weight of starch in economy sausages is 4.375 kg\n",
      "The weight of pork in premium sausages is 16.0 kg\n",
      "The weight of wheat in premium sausages is 2.75 kg\n",
      "The weight of starch in premium sausages is 6.25 kg\n"
     ]
    }
   ],
   "source": [
    "for var in ing_weight:\n",
    "    var_value = ing_weight[var].varValue\n",
    "    print(\"The weight of {0} in {1} sausages is {2} kg\".format(var[1], var[0], var_value))"
   ]
  },
  {
   "cell_type": "code",
   "execution_count": 33,
   "metadata": {},
   "outputs": [
    {
     "name": "stdout",
     "output_type": "stream",
     "text": [
      "The total cost is €140.96 for 350 economy sausages and 500 premium sausages\n"
     ]
    }
   ],
   "source": [
    "total_cost = pulp.value(model.objective)\n",
    "\n",
    "print(\"The total cost is €{} for 350 economy sausages and 500 premium sausages\".format(round(total_cost, 2)))"
   ]
  },
  {
   "cell_type": "markdown",
   "metadata": {},
   "source": [
    "In this example, we'll be solving a scheduling problem. We have 2 offshore production plants in 2 locations and an estimated demand for our products.\n",
    "\n",
    "We want to produce a schedule of production from both plants that meets our demand with the lowest cost.\n",
    "\n",
    "A factory can be in 2 states:\n",
    "\n",
    "Off - Producing zero units <br>\n",
    "On - Producing between its minimum and maximum production capacities <br>\n",
    "\n",
    "Both factories have fixed costs, that are incurred as long as the factory is on, and variable costs, a cost per unit of production. These vary month by month.\n",
    "\n",
    "We also know that factory B is down for maintenance in month 5.\n",
    "\n",
    "We'll start by importing our data.\n",
    "\n",
    "The data is imported into a multi-index pandas DataFrame using 'Month' and 'Factory' as our index columns."
   ]
  },
  {
   "cell_type": "code",
   "execution_count": 34,
   "metadata": {},
   "outputs": [],
   "source": [
    "import pandas as pd\n",
    "import pulp"
   ]
  },
  {
   "cell_type": "code",
   "execution_count": 40,
   "metadata": {},
   "outputs": [
    {
     "data": {
      "text/html": [
       "<div>\n",
       "<style scoped>\n",
       "    .dataframe tbody tr th:only-of-type {\n",
       "        vertical-align: middle;\n",
       "    }\n",
       "\n",
       "    .dataframe tbody tr th {\n",
       "        vertical-align: top;\n",
       "    }\n",
       "\n",
       "    .dataframe thead th {\n",
       "        text-align: right;\n",
       "    }\n",
       "</style>\n",
       "<table border=\"1\" class=\"dataframe\">\n",
       "  <thead>\n",
       "    <tr style=\"text-align: right;\">\n",
       "      <th></th>\n",
       "      <th></th>\n",
       "      <th>Max_Capacity</th>\n",
       "      <th>Min_Capacity</th>\n",
       "      <th>Variable_Costs</th>\n",
       "      <th>Fixed_Costs</th>\n",
       "    </tr>\n",
       "    <tr>\n",
       "      <th>Month</th>\n",
       "      <th>Factory</th>\n",
       "      <th></th>\n",
       "      <th></th>\n",
       "      <th></th>\n",
       "      <th></th>\n",
       "    </tr>\n",
       "  </thead>\n",
       "  <tbody>\n",
       "    <tr>\n",
       "      <th rowspan=\"2\" valign=\"top\">1</th>\n",
       "      <th>A</th>\n",
       "      <td>100000</td>\n",
       "      <td>20000</td>\n",
       "      <td>10</td>\n",
       "      <td>500</td>\n",
       "    </tr>\n",
       "    <tr>\n",
       "      <th>B</th>\n",
       "      <td>50000</td>\n",
       "      <td>20000</td>\n",
       "      <td>5</td>\n",
       "      <td>600</td>\n",
       "    </tr>\n",
       "    <tr>\n",
       "      <th rowspan=\"2\" valign=\"top\">2</th>\n",
       "      <th>A</th>\n",
       "      <td>110000</td>\n",
       "      <td>20000</td>\n",
       "      <td>11</td>\n",
       "      <td>500</td>\n",
       "    </tr>\n",
       "    <tr>\n",
       "      <th>B</th>\n",
       "      <td>55000</td>\n",
       "      <td>20000</td>\n",
       "      <td>4</td>\n",
       "      <td>600</td>\n",
       "    </tr>\n",
       "    <tr>\n",
       "      <th rowspan=\"2\" valign=\"top\">3</th>\n",
       "      <th>A</th>\n",
       "      <td>120000</td>\n",
       "      <td>20000</td>\n",
       "      <td>12</td>\n",
       "      <td>500</td>\n",
       "    </tr>\n",
       "    <tr>\n",
       "      <th>B</th>\n",
       "      <td>60000</td>\n",
       "      <td>20000</td>\n",
       "      <td>3</td>\n",
       "      <td>600</td>\n",
       "    </tr>\n",
       "    <tr>\n",
       "      <th rowspan=\"2\" valign=\"top\">4</th>\n",
       "      <th>A</th>\n",
       "      <td>145000</td>\n",
       "      <td>20000</td>\n",
       "      <td>9</td>\n",
       "      <td>500</td>\n",
       "    </tr>\n",
       "    <tr>\n",
       "      <th>B</th>\n",
       "      <td>100000</td>\n",
       "      <td>20000</td>\n",
       "      <td>5</td>\n",
       "      <td>600</td>\n",
       "    </tr>\n",
       "    <tr>\n",
       "      <th rowspan=\"2\" valign=\"top\">5</th>\n",
       "      <th>A</th>\n",
       "      <td>160000</td>\n",
       "      <td>20000</td>\n",
       "      <td>8</td>\n",
       "      <td>500</td>\n",
       "    </tr>\n",
       "    <tr>\n",
       "      <th>B</th>\n",
       "      <td>0</td>\n",
       "      <td>0</td>\n",
       "      <td>0</td>\n",
       "      <td>0</td>\n",
       "    </tr>\n",
       "    <tr>\n",
       "      <th rowspan=\"2\" valign=\"top\">6</th>\n",
       "      <th>A</th>\n",
       "      <td>140000</td>\n",
       "      <td>20000</td>\n",
       "      <td>8</td>\n",
       "      <td>500</td>\n",
       "    </tr>\n",
       "    <tr>\n",
       "      <th>B</th>\n",
       "      <td>70000</td>\n",
       "      <td>20000</td>\n",
       "      <td>6</td>\n",
       "      <td>600</td>\n",
       "    </tr>\n",
       "    <tr>\n",
       "      <th rowspan=\"2\" valign=\"top\">7</th>\n",
       "      <th>A</th>\n",
       "      <td>155000</td>\n",
       "      <td>20000</td>\n",
       "      <td>5</td>\n",
       "      <td>500</td>\n",
       "    </tr>\n",
       "    <tr>\n",
       "      <th>B</th>\n",
       "      <td>60000</td>\n",
       "      <td>20000</td>\n",
       "      <td>4</td>\n",
       "      <td>600</td>\n",
       "    </tr>\n",
       "    <tr>\n",
       "      <th rowspan=\"2\" valign=\"top\">8</th>\n",
       "      <th>A</th>\n",
       "      <td>200000</td>\n",
       "      <td>20000</td>\n",
       "      <td>7</td>\n",
       "      <td>500</td>\n",
       "    </tr>\n",
       "    <tr>\n",
       "      <th>B</th>\n",
       "      <td>100000</td>\n",
       "      <td>20000</td>\n",
       "      <td>6</td>\n",
       "      <td>600</td>\n",
       "    </tr>\n",
       "    <tr>\n",
       "      <th rowspan=\"2\" valign=\"top\">9</th>\n",
       "      <th>A</th>\n",
       "      <td>210000</td>\n",
       "      <td>20000</td>\n",
       "      <td>9</td>\n",
       "      <td>500</td>\n",
       "    </tr>\n",
       "    <tr>\n",
       "      <th>B</th>\n",
       "      <td>100000</td>\n",
       "      <td>20000</td>\n",
       "      <td>8</td>\n",
       "      <td>600</td>\n",
       "    </tr>\n",
       "    <tr>\n",
       "      <th rowspan=\"2\" valign=\"top\">10</th>\n",
       "      <th>A</th>\n",
       "      <td>197000</td>\n",
       "      <td>20000</td>\n",
       "      <td>10</td>\n",
       "      <td>500</td>\n",
       "    </tr>\n",
       "    <tr>\n",
       "      <th>B</th>\n",
       "      <td>100000</td>\n",
       "      <td>20000</td>\n",
       "      <td>11</td>\n",
       "      <td>600</td>\n",
       "    </tr>\n",
       "    <tr>\n",
       "      <th rowspan=\"2\" valign=\"top\">11</th>\n",
       "      <th>A</th>\n",
       "      <td>80000</td>\n",
       "      <td>20000</td>\n",
       "      <td>8</td>\n",
       "      <td>500</td>\n",
       "    </tr>\n",
       "    <tr>\n",
       "      <th>B</th>\n",
       "      <td>120000</td>\n",
       "      <td>20000</td>\n",
       "      <td>10</td>\n",
       "      <td>600</td>\n",
       "    </tr>\n",
       "    <tr>\n",
       "      <th rowspan=\"2\" valign=\"top\">12</th>\n",
       "      <th>A</th>\n",
       "      <td>150000</td>\n",
       "      <td>20000</td>\n",
       "      <td>8</td>\n",
       "      <td>500</td>\n",
       "    </tr>\n",
       "    <tr>\n",
       "      <th>B</th>\n",
       "      <td>150000</td>\n",
       "      <td>20000</td>\n",
       "      <td>12</td>\n",
       "      <td>600</td>\n",
       "    </tr>\n",
       "  </tbody>\n",
       "</table>\n",
       "</div>"
      ],
      "text/plain": [
       "               Max_Capacity  Min_Capacity  Variable_Costs  Fixed_Costs\n",
       "Month Factory                                                         \n",
       "1     A              100000         20000              10          500\n",
       "      B               50000         20000               5          600\n",
       "2     A              110000         20000              11          500\n",
       "      B               55000         20000               4          600\n",
       "3     A              120000         20000              12          500\n",
       "      B               60000         20000               3          600\n",
       "4     A              145000         20000               9          500\n",
       "      B              100000         20000               5          600\n",
       "5     A              160000         20000               8          500\n",
       "      B                   0             0               0            0\n",
       "6     A              140000         20000               8          500\n",
       "      B               70000         20000               6          600\n",
       "7     A              155000         20000               5          500\n",
       "      B               60000         20000               4          600\n",
       "8     A              200000         20000               7          500\n",
       "      B              100000         20000               6          600\n",
       "9     A              210000         20000               9          500\n",
       "      B              100000         20000               8          600\n",
       "10    A              197000         20000              10          500\n",
       "      B              100000         20000              11          600\n",
       "11    A               80000         20000               8          500\n",
       "      B              120000         20000              10          600\n",
       "12    A              150000         20000               8          500\n",
       "      B              150000         20000              12          600"
      ]
     },
     "execution_count": 40,
     "metadata": {},
     "output_type": "execute_result"
    }
   ],
   "source": [
    "# data are here:https://docs.google.com/spreadsheets/d/1KTZtJmWeg-kMzsAPeQS25VNeJMFf2lYT9t2aj4nPkfI/edit#gid=0\n",
    "\n",
    "factories = pd.read_csv('factories.csv', index_col=['Month', 'Factory'],header=0)\n",
    "factories"
   ]
  },
  {
   "cell_type": "code",
   "execution_count": 43,
   "metadata": {},
   "outputs": [
    {
     "data": {
      "text/html": [
       "<div>\n",
       "<style scoped>\n",
       "    .dataframe tbody tr th:only-of-type {\n",
       "        vertical-align: middle;\n",
       "    }\n",
       "\n",
       "    .dataframe tbody tr th {\n",
       "        vertical-align: top;\n",
       "    }\n",
       "\n",
       "    .dataframe thead th {\n",
       "        text-align: right;\n",
       "    }\n",
       "</style>\n",
       "<table border=\"1\" class=\"dataframe\">\n",
       "  <thead>\n",
       "    <tr style=\"text-align: right;\">\n",
       "      <th></th>\n",
       "      <th>Demand</th>\n",
       "    </tr>\n",
       "    <tr>\n",
       "      <th>Month</th>\n",
       "      <th></th>\n",
       "    </tr>\n",
       "  </thead>\n",
       "  <tbody>\n",
       "    <tr>\n",
       "      <th>1</th>\n",
       "      <td>120000</td>\n",
       "    </tr>\n",
       "    <tr>\n",
       "      <th>2</th>\n",
       "      <td>100000</td>\n",
       "    </tr>\n",
       "    <tr>\n",
       "      <th>3</th>\n",
       "      <td>130000</td>\n",
       "    </tr>\n",
       "    <tr>\n",
       "      <th>4</th>\n",
       "      <td>130000</td>\n",
       "    </tr>\n",
       "    <tr>\n",
       "      <th>5</th>\n",
       "      <td>140000</td>\n",
       "    </tr>\n",
       "    <tr>\n",
       "      <th>6</th>\n",
       "      <td>130000</td>\n",
       "    </tr>\n",
       "    <tr>\n",
       "      <th>7</th>\n",
       "      <td>150000</td>\n",
       "    </tr>\n",
       "    <tr>\n",
       "      <th>8</th>\n",
       "      <td>170000</td>\n",
       "    </tr>\n",
       "    <tr>\n",
       "      <th>9</th>\n",
       "      <td>200000</td>\n",
       "    </tr>\n",
       "    <tr>\n",
       "      <th>10</th>\n",
       "      <td>190000</td>\n",
       "    </tr>\n",
       "    <tr>\n",
       "      <th>11</th>\n",
       "      <td>140000</td>\n",
       "    </tr>\n",
       "    <tr>\n",
       "      <th>12</th>\n",
       "      <td>100000</td>\n",
       "    </tr>\n",
       "  </tbody>\n",
       "</table>\n",
       "</div>"
      ],
      "text/plain": [
       "       Demand\n",
       "Month        \n",
       "1      120000\n",
       "2      100000\n",
       "3      130000\n",
       "4      130000\n",
       "5      140000\n",
       "6      130000\n",
       "7      150000\n",
       "8      170000\n",
       "9      200000\n",
       "10     190000\n",
       "11     140000\n",
       "12     100000"
      ]
     },
     "execution_count": 43,
     "metadata": {},
     "output_type": "execute_result"
    }
   ],
   "source": [
    "demand = pd.read_csv('factory_demand.csv', index_col=['Month'],header=0)\n",
    "demand"
   ]
  },
  {
   "cell_type": "markdown",
   "metadata": {},
   "source": [
    "As we have fixed costs and variable costs, we'll need to model both production and the status of the factory i.e. whether it is on or off.\n",
    "\n",
    "Production is modelled as an integer variable.\n",
    "\n",
    "We have a value for production for each month for each factory, this is given by the tuples of our multi-index pandas DataFrame index."
   ]
  },
  {
   "cell_type": "code",
   "execution_count": 44,
   "metadata": {},
   "outputs": [
    {
     "data": {
      "text/plain": [
       "{(1, 'A'): production_(1,_'A'),\n",
       " (1, 'B'): production_(1,_'B'),\n",
       " (2, 'A'): production_(2,_'A'),\n",
       " (2, 'B'): production_(2,_'B'),\n",
       " (3, 'A'): production_(3,_'A'),\n",
       " (3, 'B'): production_(3,_'B'),\n",
       " (4, 'A'): production_(4,_'A'),\n",
       " (4, 'B'): production_(4,_'B'),\n",
       " (5, 'A'): production_(5,_'A'),\n",
       " (5, 'B'): production_(5,_'B'),\n",
       " (6, 'A'): production_(6,_'A'),\n",
       " (6, 'B'): production_(6,_'B'),\n",
       " (7, 'A'): production_(7,_'A'),\n",
       " (7, 'B'): production_(7,_'B'),\n",
       " (8, 'A'): production_(8,_'A'),\n",
       " (8, 'B'): production_(8,_'B'),\n",
       " (9, 'A'): production_(9,_'A'),\n",
       " (9, 'B'): production_(9,_'B'),\n",
       " (10, 'A'): production_(10,_'A'),\n",
       " (10, 'B'): production_(10,_'B'),\n",
       " (11, 'A'): production_(11,_'A'),\n",
       " (11, 'B'): production_(11,_'B'),\n",
       " (12, 'A'): production_(12,_'A'),\n",
       " (12, 'B'): production_(12,_'B')}"
      ]
     },
     "execution_count": 44,
     "metadata": {},
     "output_type": "execute_result"
    }
   ],
   "source": [
    "production = pulp.LpVariable.dicts(\"production\",\n",
    "                                     ((month, factory) for month, factory in factories.index),\n",
    "                                     lowBound=0,\n",
    "                                     cat='Integer')\n",
    "\n",
    "production"
   ]
  },
  {
   "cell_type": "markdown",
   "metadata": {},
   "source": [
    "Factory status is modelled as a binary variable. It will have a value of 1 if the factory is on and a value of 0 when the factory is off.\n",
    "\n",
    "Binary variables are the same as integer variables but constrained to be >= 0 and <=1\n",
    "\n",
    "Again this has a value for each month for each factory, again given by the index of our DataFrame"
   ]
  },
  {
   "cell_type": "code",
   "execution_count": 45,
   "metadata": {},
   "outputs": [
    {
     "data": {
      "text/plain": [
       "{(1, 'A'): factory_status_(1,_'A'),\n",
       " (1, 'B'): factory_status_(1,_'B'),\n",
       " (2, 'A'): factory_status_(2,_'A'),\n",
       " (2, 'B'): factory_status_(2,_'B'),\n",
       " (3, 'A'): factory_status_(3,_'A'),\n",
       " (3, 'B'): factory_status_(3,_'B'),\n",
       " (4, 'A'): factory_status_(4,_'A'),\n",
       " (4, 'B'): factory_status_(4,_'B'),\n",
       " (5, 'A'): factory_status_(5,_'A'),\n",
       " (5, 'B'): factory_status_(5,_'B'),\n",
       " (6, 'A'): factory_status_(6,_'A'),\n",
       " (6, 'B'): factory_status_(6,_'B'),\n",
       " (7, 'A'): factory_status_(7,_'A'),\n",
       " (7, 'B'): factory_status_(7,_'B'),\n",
       " (8, 'A'): factory_status_(8,_'A'),\n",
       " (8, 'B'): factory_status_(8,_'B'),\n",
       " (9, 'A'): factory_status_(9,_'A'),\n",
       " (9, 'B'): factory_status_(9,_'B'),\n",
       " (10, 'A'): factory_status_(10,_'A'),\n",
       " (10, 'B'): factory_status_(10,_'B'),\n",
       " (11, 'A'): factory_status_(11,_'A'),\n",
       " (11, 'B'): factory_status_(11,_'B'),\n",
       " (12, 'A'): factory_status_(12,_'A'),\n",
       " (12, 'B'): factory_status_(12,_'B')}"
      ]
     },
     "execution_count": 45,
     "metadata": {},
     "output_type": "execute_result"
    }
   ],
   "source": [
    "factory_status = pulp.LpVariable.dicts(\"factory_status\",\n",
    "                                     ((month, factory) for month, factory in factories.index),\n",
    "                                     cat='Binary')\n",
    "factory_status"
   ]
  },
  {
   "cell_type": "markdown",
   "metadata": {},
   "source": [
    "We instantiate our model and use LpMinimize as the aim is to minimise costs."
   ]
  },
  {
   "cell_type": "code",
   "execution_count": 46,
   "metadata": {},
   "outputs": [
    {
     "name": "stderr",
     "output_type": "stream",
     "text": [
      "/opt/conda/lib/python3.7/site-packages/pulp/pulp.py:1114: UserWarning: Spaces are not permitted in the name. Converted to '_'\n",
      "  warnings.warn(\"Spaces are not permitted in the name. Converted to '_'\")\n"
     ]
    }
   ],
   "source": [
    "model = pulp.LpProblem(\"Cost minimising scheduling problem\", pulp.LpMinimize)"
   ]
  },
  {
   "cell_type": "code",
   "execution_count": 47,
   "metadata": {},
   "outputs": [
    {
     "data": {
      "text/plain": [
       "Cost_minimising_scheduling_problem:\n",
       "MINIMIZE\n",
       "None\n",
       "VARIABLES"
      ]
     },
     "execution_count": 47,
     "metadata": {},
     "output_type": "execute_result"
    }
   ],
   "source": [
    "model"
   ]
  },
  {
   "cell_type": "markdown",
   "metadata": {},
   "source": [
    "In our objective function we include our 2 costs:\n",
    "\n",
    "Our variable costs is the product of the variable costs per unit of production\n",
    "Our fixed costs is the factory status - 1 (on) or 0 (off) - multiplied by the fixed cost of production"
   ]
  },
  {
   "cell_type": "code",
   "execution_count": 48,
   "metadata": {},
   "outputs": [],
   "source": [
    "model += pulp.lpSum(\n",
    "    [production[month, factory] * factories.loc[(month, factory), 'Variable_Costs'] for month, factory in factories.index]\n",
    "    + [factory_status[month, factory] * factories.loc[(month, factory), 'Fixed_Costs'] for month, factory in factories.index]\n",
    ")"
   ]
  },
  {
   "cell_type": "code",
   "execution_count": 49,
   "metadata": {},
   "outputs": [
    {
     "data": {
      "text/plain": [
       "Cost_minimising_scheduling_problem:\n",
       "MINIMIZE\n",
       "500*factory_status_(1,_'A') + 600*factory_status_(1,_'B') + 500*factory_status_(10,_'A') + 600*factory_status_(10,_'B') + 500*factory_status_(11,_'A') + 600*factory_status_(11,_'B') + 500*factory_status_(12,_'A') + 600*factory_status_(12,_'B') + 500*factory_status_(2,_'A') + 600*factory_status_(2,_'B') + 500*factory_status_(3,_'A') + 600*factory_status_(3,_'B') + 500*factory_status_(4,_'A') + 600*factory_status_(4,_'B') + 500*factory_status_(5,_'A') + 500*factory_status_(6,_'A') + 600*factory_status_(6,_'B') + 500*factory_status_(7,_'A') + 600*factory_status_(7,_'B') + 500*factory_status_(8,_'A') + 600*factory_status_(8,_'B') + 500*factory_status_(9,_'A') + 600*factory_status_(9,_'B') + 10*production_(1,_'A') + 5*production_(1,_'B') + 10*production_(10,_'A') + 11*production_(10,_'B') + 8*production_(11,_'A') + 10*production_(11,_'B') + 8*production_(12,_'A') + 12*production_(12,_'B') + 11*production_(2,_'A') + 4*production_(2,_'B') + 12*production_(3,_'A') + 3*production_(3,_'B') + 9*production_(4,_'A') + 5*production_(4,_'B') + 8*production_(5,_'A') + 8*production_(6,_'A') + 6*production_(6,_'B') + 5*production_(7,_'A') + 4*production_(7,_'B') + 7*production_(8,_'A') + 6*production_(8,_'B') + 9*production_(9,_'A') + 8*production_(9,_'B') + 0\n",
       "VARIABLES\n",
       "0 <= factory_status_(1,_'A') <= 1 Integer\n",
       "0 <= factory_status_(1,_'B') <= 1 Integer\n",
       "0 <= factory_status_(10,_'A') <= 1 Integer\n",
       "0 <= factory_status_(10,_'B') <= 1 Integer\n",
       "0 <= factory_status_(11,_'A') <= 1 Integer\n",
       "0 <= factory_status_(11,_'B') <= 1 Integer\n",
       "0 <= factory_status_(12,_'A') <= 1 Integer\n",
       "0 <= factory_status_(12,_'B') <= 1 Integer\n",
       "0 <= factory_status_(2,_'A') <= 1 Integer\n",
       "0 <= factory_status_(2,_'B') <= 1 Integer\n",
       "0 <= factory_status_(3,_'A') <= 1 Integer\n",
       "0 <= factory_status_(3,_'B') <= 1 Integer\n",
       "0 <= factory_status_(4,_'A') <= 1 Integer\n",
       "0 <= factory_status_(4,_'B') <= 1 Integer\n",
       "0 <= factory_status_(5,_'A') <= 1 Integer\n",
       "0 <= factory_status_(6,_'A') <= 1 Integer\n",
       "0 <= factory_status_(6,_'B') <= 1 Integer\n",
       "0 <= factory_status_(7,_'A') <= 1 Integer\n",
       "0 <= factory_status_(7,_'B') <= 1 Integer\n",
       "0 <= factory_status_(8,_'A') <= 1 Integer\n",
       "0 <= factory_status_(8,_'B') <= 1 Integer\n",
       "0 <= factory_status_(9,_'A') <= 1 Integer\n",
       "0 <= factory_status_(9,_'B') <= 1 Integer\n",
       "0 <= production_(1,_'A') Integer\n",
       "0 <= production_(1,_'B') Integer\n",
       "0 <= production_(10,_'A') Integer\n",
       "0 <= production_(10,_'B') Integer\n",
       "0 <= production_(11,_'A') Integer\n",
       "0 <= production_(11,_'B') Integer\n",
       "0 <= production_(12,_'A') Integer\n",
       "0 <= production_(12,_'B') Integer\n",
       "0 <= production_(2,_'A') Integer\n",
       "0 <= production_(2,_'B') Integer\n",
       "0 <= production_(3,_'A') Integer\n",
       "0 <= production_(3,_'B') Integer\n",
       "0 <= production_(4,_'A') Integer\n",
       "0 <= production_(4,_'B') Integer\n",
       "0 <= production_(5,_'A') Integer\n",
       "0 <= production_(6,_'A') Integer\n",
       "0 <= production_(6,_'B') Integer\n",
       "0 <= production_(7,_'A') Integer\n",
       "0 <= production_(7,_'B') Integer\n",
       "0 <= production_(8,_'A') Integer\n",
       "0 <= production_(8,_'B') Integer\n",
       "0 <= production_(9,_'A') Integer\n",
       "0 <= production_(9,_'B') Integer"
      ]
     },
     "execution_count": 49,
     "metadata": {},
     "output_type": "execute_result"
    }
   ],
   "source": [
    "model"
   ]
  },
  {
   "cell_type": "markdown",
   "metadata": {},
   "source": [
    "We build up our constraints"
   ]
  },
  {
   "cell_type": "code",
   "execution_count": 50,
   "metadata": {},
   "outputs": [],
   "source": [
    "# Production in any month must be equal to demand\n",
    "months = demand.index\n",
    "for month in months:\n",
    "    model += production[(month, 'A')] + production[(month, 'B')] == demand.loc[month, 'Demand']"
   ]
  },
  {
   "cell_type": "markdown",
   "metadata": {},
   "source": [
    "An issue we run into here is that in linear programming we can't use conditional constraints.\n",
    "\n",
    "For example we can't add to our model that if the factory is off factory status must be 0, and if it is on factory status must be 1. Before we've solved our model though, we don't know if the factory will be on or off in a given month.\n",
    "\n",
    "In this case, construct constraints that have minimum and maximum capacities that are constant variables, which we multiply by the factory status.\n",
    "\n",
    "Now, either factory status is 0 and:\n",
    "\n",
    "min_production >= 0 <br>\n",
    "max_production <= 0 <br>\n",
    "\n",
    "Or factory status is 1 and:\n",
    "\n",
    "min_production >= min_capacity <br>\n",
    "max_production <= max_capacity <br>\n",
    "\n",
    "(In some cases we can use linear constraints to model conditional statements, we'll explore this in part 6)"
   ]
  },
  {
   "cell_type": "code",
   "execution_count": 51,
   "metadata": {},
   "outputs": [],
   "source": [
    "# Production in any month must be between minimum and maximum capacity, or zero.\n",
    "for month, factory in factories.index:\n",
    "    min_production = factories.loc[(month, factory), 'Min_Capacity']\n",
    "    max_production = factories.loc[(month, factory), 'Max_Capacity']\n",
    "    model += production[(month, factory)] >= min_production * factory_status[month, factory]\n",
    "    model += production[(month, factory)] <= max_production * factory_status[month, factory]"
   ]
  },
  {
   "cell_type": "code",
   "execution_count": 52,
   "metadata": {},
   "outputs": [
    {
     "data": {
      "text/plain": [
       "Cost_minimising_scheduling_problem:\n",
       "MINIMIZE\n",
       "500*factory_status_(1,_'A') + 600*factory_status_(1,_'B') + 500*factory_status_(10,_'A') + 600*factory_status_(10,_'B') + 500*factory_status_(11,_'A') + 600*factory_status_(11,_'B') + 500*factory_status_(12,_'A') + 600*factory_status_(12,_'B') + 500*factory_status_(2,_'A') + 600*factory_status_(2,_'B') + 500*factory_status_(3,_'A') + 600*factory_status_(3,_'B') + 500*factory_status_(4,_'A') + 600*factory_status_(4,_'B') + 500*factory_status_(5,_'A') + 500*factory_status_(6,_'A') + 600*factory_status_(6,_'B') + 500*factory_status_(7,_'A') + 600*factory_status_(7,_'B') + 500*factory_status_(8,_'A') + 600*factory_status_(8,_'B') + 500*factory_status_(9,_'A') + 600*factory_status_(9,_'B') + 10*production_(1,_'A') + 5*production_(1,_'B') + 10*production_(10,_'A') + 11*production_(10,_'B') + 8*production_(11,_'A') + 10*production_(11,_'B') + 8*production_(12,_'A') + 12*production_(12,_'B') + 11*production_(2,_'A') + 4*production_(2,_'B') + 12*production_(3,_'A') + 3*production_(3,_'B') + 9*production_(4,_'A') + 5*production_(4,_'B') + 8*production_(5,_'A') + 8*production_(6,_'A') + 6*production_(6,_'B') + 5*production_(7,_'A') + 4*production_(7,_'B') + 7*production_(8,_'A') + 6*production_(8,_'B') + 9*production_(9,_'A') + 8*production_(9,_'B') + 0\n",
       "SUBJECT TO\n",
       "_C1: production_(1,_'A') + production_(1,_'B') = 120000\n",
       "\n",
       "_C2: production_(2,_'A') + production_(2,_'B') = 100000\n",
       "\n",
       "_C3: production_(3,_'A') + production_(3,_'B') = 130000\n",
       "\n",
       "_C4: production_(4,_'A') + production_(4,_'B') = 130000\n",
       "\n",
       "_C5: production_(5,_'A') + production_(5,_'B') = 140000\n",
       "\n",
       "_C6: production_(6,_'A') + production_(6,_'B') = 130000\n",
       "\n",
       "_C7: production_(7,_'A') + production_(7,_'B') = 150000\n",
       "\n",
       "_C8: production_(8,_'A') + production_(8,_'B') = 170000\n",
       "\n",
       "_C9: production_(9,_'A') + production_(9,_'B') = 200000\n",
       "\n",
       "_C10: production_(10,_'A') + production_(10,_'B') = 190000\n",
       "\n",
       "_C11: production_(11,_'A') + production_(11,_'B') = 140000\n",
       "\n",
       "_C12: production_(12,_'A') + production_(12,_'B') = 100000\n",
       "\n",
       "_C13: - 20000 factory_status_(1,_'A') + production_(1,_'A') >= 0\n",
       "\n",
       "_C14: - 100000 factory_status_(1,_'A') + production_(1,_'A') <= 0\n",
       "\n",
       "_C15: - 20000 factory_status_(1,_'B') + production_(1,_'B') >= 0\n",
       "\n",
       "_C16: - 50000 factory_status_(1,_'B') + production_(1,_'B') <= 0\n",
       "\n",
       "_C17: - 20000 factory_status_(2,_'A') + production_(2,_'A') >= 0\n",
       "\n",
       "_C18: - 110000 factory_status_(2,_'A') + production_(2,_'A') <= 0\n",
       "\n",
       "_C19: - 20000 factory_status_(2,_'B') + production_(2,_'B') >= 0\n",
       "\n",
       "_C20: - 55000 factory_status_(2,_'B') + production_(2,_'B') <= 0\n",
       "\n",
       "_C21: - 20000 factory_status_(3,_'A') + production_(3,_'A') >= 0\n",
       "\n",
       "_C22: - 120000 factory_status_(3,_'A') + production_(3,_'A') <= 0\n",
       "\n",
       "_C23: - 20000 factory_status_(3,_'B') + production_(3,_'B') >= 0\n",
       "\n",
       "_C24: - 60000 factory_status_(3,_'B') + production_(3,_'B') <= 0\n",
       "\n",
       "_C25: - 20000 factory_status_(4,_'A') + production_(4,_'A') >= 0\n",
       "\n",
       "_C26: - 145000 factory_status_(4,_'A') + production_(4,_'A') <= 0\n",
       "\n",
       "_C27: - 20000 factory_status_(4,_'B') + production_(4,_'B') >= 0\n",
       "\n",
       "_C28: - 100000 factory_status_(4,_'B') + production_(4,_'B') <= 0\n",
       "\n",
       "_C29: - 20000 factory_status_(5,_'A') + production_(5,_'A') >= 0\n",
       "\n",
       "_C30: - 160000 factory_status_(5,_'A') + production_(5,_'A') <= 0\n",
       "\n",
       "_C31: production_(5,_'B') >= 0\n",
       "\n",
       "_C32: production_(5,_'B') <= 0\n",
       "\n",
       "_C33: - 20000 factory_status_(6,_'A') + production_(6,_'A') >= 0\n",
       "\n",
       "_C34: - 140000 factory_status_(6,_'A') + production_(6,_'A') <= 0\n",
       "\n",
       "_C35: - 20000 factory_status_(6,_'B') + production_(6,_'B') >= 0\n",
       "\n",
       "_C36: - 70000 factory_status_(6,_'B') + production_(6,_'B') <= 0\n",
       "\n",
       "_C37: - 20000 factory_status_(7,_'A') + production_(7,_'A') >= 0\n",
       "\n",
       "_C38: - 155000 factory_status_(7,_'A') + production_(7,_'A') <= 0\n",
       "\n",
       "_C39: - 20000 factory_status_(7,_'B') + production_(7,_'B') >= 0\n",
       "\n",
       "_C40: - 60000 factory_status_(7,_'B') + production_(7,_'B') <= 0\n",
       "\n",
       "_C41: - 20000 factory_status_(8,_'A') + production_(8,_'A') >= 0\n",
       "\n",
       "_C42: - 200000 factory_status_(8,_'A') + production_(8,_'A') <= 0\n",
       "\n",
       "_C43: - 20000 factory_status_(8,_'B') + production_(8,_'B') >= 0\n",
       "\n",
       "_C44: - 100000 factory_status_(8,_'B') + production_(8,_'B') <= 0\n",
       "\n",
       "_C45: - 20000 factory_status_(9,_'A') + production_(9,_'A') >= 0\n",
       "\n",
       "_C46: - 210000 factory_status_(9,_'A') + production_(9,_'A') <= 0\n",
       "\n",
       "_C47: - 20000 factory_status_(9,_'B') + production_(9,_'B') >= 0\n",
       "\n",
       "_C48: - 100000 factory_status_(9,_'B') + production_(9,_'B') <= 0\n",
       "\n",
       "_C49: - 20000 factory_status_(10,_'A') + production_(10,_'A') >= 0\n",
       "\n",
       "_C50: - 197000 factory_status_(10,_'A') + production_(10,_'A') <= 0\n",
       "\n",
       "_C51: - 20000 factory_status_(10,_'B') + production_(10,_'B') >= 0\n",
       "\n",
       "_C52: - 100000 factory_status_(10,_'B') + production_(10,_'B') <= 0\n",
       "\n",
       "_C53: - 20000 factory_status_(11,_'A') + production_(11,_'A') >= 0\n",
       "\n",
       "_C54: - 80000 factory_status_(11,_'A') + production_(11,_'A') <= 0\n",
       "\n",
       "_C55: - 20000 factory_status_(11,_'B') + production_(11,_'B') >= 0\n",
       "\n",
       "_C56: - 120000 factory_status_(11,_'B') + production_(11,_'B') <= 0\n",
       "\n",
       "_C57: - 20000 factory_status_(12,_'A') + production_(12,_'A') >= 0\n",
       "\n",
       "_C58: - 150000 factory_status_(12,_'A') + production_(12,_'A') <= 0\n",
       "\n",
       "_C59: - 20000 factory_status_(12,_'B') + production_(12,_'B') >= 0\n",
       "\n",
       "_C60: - 150000 factory_status_(12,_'B') + production_(12,_'B') <= 0\n",
       "\n",
       "VARIABLES\n",
       "0 <= factory_status_(1,_'A') <= 1 Integer\n",
       "0 <= factory_status_(1,_'B') <= 1 Integer\n",
       "0 <= factory_status_(10,_'A') <= 1 Integer\n",
       "0 <= factory_status_(10,_'B') <= 1 Integer\n",
       "0 <= factory_status_(11,_'A') <= 1 Integer\n",
       "0 <= factory_status_(11,_'B') <= 1 Integer\n",
       "0 <= factory_status_(12,_'A') <= 1 Integer\n",
       "0 <= factory_status_(12,_'B') <= 1 Integer\n",
       "0 <= factory_status_(2,_'A') <= 1 Integer\n",
       "0 <= factory_status_(2,_'B') <= 1 Integer\n",
       "0 <= factory_status_(3,_'A') <= 1 Integer\n",
       "0 <= factory_status_(3,_'B') <= 1 Integer\n",
       "0 <= factory_status_(4,_'A') <= 1 Integer\n",
       "0 <= factory_status_(4,_'B') <= 1 Integer\n",
       "0 <= factory_status_(5,_'A') <= 1 Integer\n",
       "0 <= factory_status_(6,_'A') <= 1 Integer\n",
       "0 <= factory_status_(6,_'B') <= 1 Integer\n",
       "0 <= factory_status_(7,_'A') <= 1 Integer\n",
       "0 <= factory_status_(7,_'B') <= 1 Integer\n",
       "0 <= factory_status_(8,_'A') <= 1 Integer\n",
       "0 <= factory_status_(8,_'B') <= 1 Integer\n",
       "0 <= factory_status_(9,_'A') <= 1 Integer\n",
       "0 <= factory_status_(9,_'B') <= 1 Integer\n",
       "0 <= production_(1,_'A') Integer\n",
       "0 <= production_(1,_'B') Integer\n",
       "0 <= production_(10,_'A') Integer\n",
       "0 <= production_(10,_'B') Integer\n",
       "0 <= production_(11,_'A') Integer\n",
       "0 <= production_(11,_'B') Integer\n",
       "0 <= production_(12,_'A') Integer\n",
       "0 <= production_(12,_'B') Integer\n",
       "0 <= production_(2,_'A') Integer\n",
       "0 <= production_(2,_'B') Integer\n",
       "0 <= production_(3,_'A') Integer\n",
       "0 <= production_(3,_'B') Integer\n",
       "0 <= production_(4,_'A') Integer\n",
       "0 <= production_(4,_'B') Integer\n",
       "0 <= production_(5,_'A') Integer\n",
       "0 <= production_(5,_'B') Integer\n",
       "0 <= production_(6,_'A') Integer\n",
       "0 <= production_(6,_'B') Integer\n",
       "0 <= production_(7,_'A') Integer\n",
       "0 <= production_(7,_'B') Integer\n",
       "0 <= production_(8,_'A') Integer\n",
       "0 <= production_(8,_'B') Integer\n",
       "0 <= production_(9,_'A') Integer\n",
       "0 <= production_(9,_'B') Integer"
      ]
     },
     "execution_count": 52,
     "metadata": {},
     "output_type": "execute_result"
    }
   ],
   "source": [
    "model\n"
   ]
  },
  {
   "cell_type": "code",
   "execution_count": 53,
   "metadata": {},
   "outputs": [],
   "source": [
    "# Factory B is off in May\n",
    "model += factory_status[5, 'B'] == 0\n",
    "model += production[5, 'B'] == 0"
   ]
  },
  {
   "cell_type": "markdown",
   "metadata": {},
   "source": [
    "We then solve the model"
   ]
  },
  {
   "cell_type": "code",
   "execution_count": 54,
   "metadata": {},
   "outputs": [
    {
     "data": {
      "text/plain": [
       "'Optimal'"
      ]
     },
     "execution_count": 54,
     "metadata": {},
     "output_type": "execute_result"
    }
   ],
   "source": [
    "model.solve()\n",
    "pulp.LpStatus[model.status]"
   ]
  },
  {
   "cell_type": "code",
   "execution_count": 56,
   "metadata": {},
   "outputs": [
    {
     "data": {
      "text/plain": [
       "{(1, 'A'): factory_status_(1,_'A'),\n",
       " (1, 'B'): factory_status_(1,_'B'),\n",
       " (2, 'A'): factory_status_(2,_'A'),\n",
       " (2, 'B'): factory_status_(2,_'B'),\n",
       " (3, 'A'): factory_status_(3,_'A'),\n",
       " (3, 'B'): factory_status_(3,_'B'),\n",
       " (4, 'A'): factory_status_(4,_'A'),\n",
       " (4, 'B'): factory_status_(4,_'B'),\n",
       " (5, 'A'): factory_status_(5,_'A'),\n",
       " (5, 'B'): factory_status_(5,_'B'),\n",
       " (6, 'A'): factory_status_(6,_'A'),\n",
       " (6, 'B'): factory_status_(6,_'B'),\n",
       " (7, 'A'): factory_status_(7,_'A'),\n",
       " (7, 'B'): factory_status_(7,_'B'),\n",
       " (8, 'A'): factory_status_(8,_'A'),\n",
       " (8, 'B'): factory_status_(8,_'B'),\n",
       " (9, 'A'): factory_status_(9,_'A'),\n",
       " (9, 'B'): factory_status_(9,_'B'),\n",
       " (10, 'A'): factory_status_(10,_'A'),\n",
       " (10, 'B'): factory_status_(10,_'B'),\n",
       " (11, 'A'): factory_status_(11,_'A'),\n",
       " (11, 'B'): factory_status_(11,_'B'),\n",
       " (12, 'A'): factory_status_(12,_'A'),\n",
       " (12, 'B'): factory_status_(12,_'B')}"
      ]
     },
     "execution_count": 56,
     "metadata": {},
     "output_type": "execute_result"
    }
   ],
   "source": [
    "factory_status"
   ]
  },
  {
   "cell_type": "markdown",
   "metadata": {},
   "source": [
    "Let's take a look at the optimal production schedule output for each month from each factory. For ease of viewing we'll output the data to a pandas DataFrame."
   ]
  },
  {
   "cell_type": "code",
   "execution_count": 57,
   "metadata": {},
   "outputs": [
    {
     "data": {
      "text/html": [
       "<div>\n",
       "<style scoped>\n",
       "    .dataframe tbody tr th:only-of-type {\n",
       "        vertical-align: middle;\n",
       "    }\n",
       "\n",
       "    .dataframe tbody tr th {\n",
       "        vertical-align: top;\n",
       "    }\n",
       "\n",
       "    .dataframe thead th {\n",
       "        text-align: right;\n",
       "    }\n",
       "</style>\n",
       "<table border=\"1\" class=\"dataframe\">\n",
       "  <thead>\n",
       "    <tr style=\"text-align: right;\">\n",
       "      <th></th>\n",
       "      <th></th>\n",
       "      <th>Production</th>\n",
       "      <th>Factory Status</th>\n",
       "    </tr>\n",
       "    <tr>\n",
       "      <th>Month</th>\n",
       "      <th>Factory</th>\n",
       "      <th></th>\n",
       "      <th></th>\n",
       "    </tr>\n",
       "  </thead>\n",
       "  <tbody>\n",
       "    <tr>\n",
       "      <th rowspan=\"2\" valign=\"top\">1</th>\n",
       "      <th>A</th>\n",
       "      <td>70000.0</td>\n",
       "      <td>1.0</td>\n",
       "    </tr>\n",
       "    <tr>\n",
       "      <th>B</th>\n",
       "      <td>50000.0</td>\n",
       "      <td>1.0</td>\n",
       "    </tr>\n",
       "    <tr>\n",
       "      <th rowspan=\"2\" valign=\"top\">2</th>\n",
       "      <th>A</th>\n",
       "      <td>45000.0</td>\n",
       "      <td>1.0</td>\n",
       "    </tr>\n",
       "    <tr>\n",
       "      <th>B</th>\n",
       "      <td>55000.0</td>\n",
       "      <td>1.0</td>\n",
       "    </tr>\n",
       "    <tr>\n",
       "      <th rowspan=\"2\" valign=\"top\">3</th>\n",
       "      <th>A</th>\n",
       "      <td>70000.0</td>\n",
       "      <td>1.0</td>\n",
       "    </tr>\n",
       "    <tr>\n",
       "      <th>B</th>\n",
       "      <td>60000.0</td>\n",
       "      <td>1.0</td>\n",
       "    </tr>\n",
       "    <tr>\n",
       "      <th rowspan=\"2\" valign=\"top\">4</th>\n",
       "      <th>A</th>\n",
       "      <td>30000.0</td>\n",
       "      <td>1.0</td>\n",
       "    </tr>\n",
       "    <tr>\n",
       "      <th>B</th>\n",
       "      <td>100000.0</td>\n",
       "      <td>1.0</td>\n",
       "    </tr>\n",
       "    <tr>\n",
       "      <th rowspan=\"2\" valign=\"top\">5</th>\n",
       "      <th>A</th>\n",
       "      <td>140000.0</td>\n",
       "      <td>1.0</td>\n",
       "    </tr>\n",
       "    <tr>\n",
       "      <th>B</th>\n",
       "      <td>0.0</td>\n",
       "      <td>0.0</td>\n",
       "    </tr>\n",
       "    <tr>\n",
       "      <th rowspan=\"2\" valign=\"top\">6</th>\n",
       "      <th>A</th>\n",
       "      <td>60000.0</td>\n",
       "      <td>1.0</td>\n",
       "    </tr>\n",
       "    <tr>\n",
       "      <th>B</th>\n",
       "      <td>70000.0</td>\n",
       "      <td>1.0</td>\n",
       "    </tr>\n",
       "    <tr>\n",
       "      <th rowspan=\"2\" valign=\"top\">7</th>\n",
       "      <th>A</th>\n",
       "      <td>90000.0</td>\n",
       "      <td>1.0</td>\n",
       "    </tr>\n",
       "    <tr>\n",
       "      <th>B</th>\n",
       "      <td>60000.0</td>\n",
       "      <td>1.0</td>\n",
       "    </tr>\n",
       "    <tr>\n",
       "      <th rowspan=\"2\" valign=\"top\">8</th>\n",
       "      <th>A</th>\n",
       "      <td>70000.0</td>\n",
       "      <td>1.0</td>\n",
       "    </tr>\n",
       "    <tr>\n",
       "      <th>B</th>\n",
       "      <td>100000.0</td>\n",
       "      <td>1.0</td>\n",
       "    </tr>\n",
       "    <tr>\n",
       "      <th rowspan=\"2\" valign=\"top\">9</th>\n",
       "      <th>A</th>\n",
       "      <td>100000.0</td>\n",
       "      <td>1.0</td>\n",
       "    </tr>\n",
       "    <tr>\n",
       "      <th>B</th>\n",
       "      <td>100000.0</td>\n",
       "      <td>1.0</td>\n",
       "    </tr>\n",
       "    <tr>\n",
       "      <th rowspan=\"2\" valign=\"top\">10</th>\n",
       "      <th>A</th>\n",
       "      <td>190000.0</td>\n",
       "      <td>1.0</td>\n",
       "    </tr>\n",
       "    <tr>\n",
       "      <th>B</th>\n",
       "      <td>0.0</td>\n",
       "      <td>0.0</td>\n",
       "    </tr>\n",
       "    <tr>\n",
       "      <th rowspan=\"2\" valign=\"top\">11</th>\n",
       "      <th>A</th>\n",
       "      <td>80000.0</td>\n",
       "      <td>1.0</td>\n",
       "    </tr>\n",
       "    <tr>\n",
       "      <th>B</th>\n",
       "      <td>60000.0</td>\n",
       "      <td>1.0</td>\n",
       "    </tr>\n",
       "    <tr>\n",
       "      <th rowspan=\"2\" valign=\"top\">12</th>\n",
       "      <th>A</th>\n",
       "      <td>100000.0</td>\n",
       "      <td>1.0</td>\n",
       "    </tr>\n",
       "    <tr>\n",
       "      <th>B</th>\n",
       "      <td>0.0</td>\n",
       "      <td>0.0</td>\n",
       "    </tr>\n",
       "  </tbody>\n",
       "</table>\n",
       "</div>"
      ],
      "text/plain": [
       "               Production  Factory Status\n",
       "Month Factory                            \n",
       "1     A           70000.0             1.0\n",
       "      B           50000.0             1.0\n",
       "2     A           45000.0             1.0\n",
       "      B           55000.0             1.0\n",
       "3     A           70000.0             1.0\n",
       "      B           60000.0             1.0\n",
       "4     A           30000.0             1.0\n",
       "      B          100000.0             1.0\n",
       "5     A          140000.0             1.0\n",
       "      B               0.0             0.0\n",
       "6     A           60000.0             1.0\n",
       "      B           70000.0             1.0\n",
       "7     A           90000.0             1.0\n",
       "      B           60000.0             1.0\n",
       "8     A           70000.0             1.0\n",
       "      B          100000.0             1.0\n",
       "9     A          100000.0             1.0\n",
       "      B          100000.0             1.0\n",
       "10    A          190000.0             1.0\n",
       "      B               0.0             0.0\n",
       "11    A           80000.0             1.0\n",
       "      B           60000.0             1.0\n",
       "12    A          100000.0             1.0\n",
       "      B               0.0             0.0"
      ]
     },
     "execution_count": 57,
     "metadata": {},
     "output_type": "execute_result"
    }
   ],
   "source": [
    "output = []\n",
    "for month, factory in production:\n",
    "    var_output = {\n",
    "        'Month': month,\n",
    "        'Factory': factory,\n",
    "        'Production': production[(month, factory)].varValue,\n",
    "        'Factory Status': factory_status[(month, factory)].varValue\n",
    "    }\n",
    "    output.append(var_output)\n",
    "output_df = pd.DataFrame.from_records(output).sort_values(['Month', 'Factory'])\n",
    "output_df.set_index(['Month', 'Factory'], inplace=True)\n",
    "output_df"
   ]
  },
  {
   "cell_type": "code",
   "execution_count": 59,
   "metadata": {},
   "outputs": [
    {
     "name": "stdout",
     "output_type": "stream",
     "text": [
      "12906400.0\n"
     ]
    }
   ],
   "source": [
    "# Print our objective function value (Total Costs)\n",
    "print(pulp.value(model.objective))"
   ]
  },
  {
   "cell_type": "markdown",
   "metadata": {},
   "source": [
    "# Problems from Nash and Sofer, Chapter 5\n",
    "\n",
    "### page 95 \n",
    "\n",
    "minimize $z = - x_1 - 2 x_2$ <br>\n",
    "subject to $-2x_1 + x_2 \\leq 2$ <br>\n",
    "$-x_1 + 2x_2 \\leq 7$ <br>\n",
    "$x_1 \\leq 3$ <br>\n",
    "$x_1,x_2 \\geq 0$"
   ]
  },
  {
   "cell_type": "code",
   "execution_count": 78,
   "metadata": {},
   "outputs": [],
   "source": [
    "my_lp_problem = pulp.LpProblem(\"Nash_and_Sofer_p95\", pulp.LpMinimize)"
   ]
  },
  {
   "cell_type": "code",
   "execution_count": 79,
   "metadata": {},
   "outputs": [],
   "source": [
    "# decision variables\n",
    "x1 = pulp.LpVariable('x1', lowBound=0,upBound=3,  cat='Continuous')\n",
    "x2 = pulp.LpVariable('x2', lowBound=0, cat='Continuous')"
   ]
  },
  {
   "cell_type": "code",
   "execution_count": 80,
   "metadata": {},
   "outputs": [],
   "source": [
    "# Objective function\n",
    "my_lp_problem += -x1 - 2*x2, \"z\""
   ]
  },
  {
   "cell_type": "code",
   "execution_count": 81,
   "metadata": {},
   "outputs": [],
   "source": [
    "# Constraints\n",
    "my_lp_problem += -2*x1+x2 <= 2\n",
    "my_lp_problem += -x1+2*x2 <= 7"
   ]
  },
  {
   "cell_type": "code",
   "execution_count": 82,
   "metadata": {},
   "outputs": [
    {
     "data": {
      "text/plain": [
       "Nash_and_Sofer_p95:\n",
       "MINIMIZE\n",
       "-1*x1 + -2*x2 + 0\n",
       "SUBJECT TO\n",
       "_C1: - 2 x1 + x2 <= 2\n",
       "\n",
       "_C2: - x1 + 2 x2 <= 7\n",
       "\n",
       "VARIABLES\n",
       "x1 <= 3 Continuous\n",
       "x2 Continuous"
      ]
     },
     "execution_count": 82,
     "metadata": {},
     "output_type": "execute_result"
    }
   ],
   "source": [
    "my_lp_problem"
   ]
  },
  {
   "cell_type": "code",
   "execution_count": 83,
   "metadata": {},
   "outputs": [
    {
     "data": {
      "text/plain": [
       "'Optimal'"
      ]
     },
     "execution_count": 83,
     "metadata": {},
     "output_type": "execute_result"
    }
   ],
   "source": [
    "my_lp_problem.solve()\n",
    "pulp.LpStatus[my_lp_problem.status]"
   ]
  },
  {
   "cell_type": "code",
   "execution_count": 84,
   "metadata": {},
   "outputs": [
    {
     "name": "stdout",
     "output_type": "stream",
     "text": [
      "x1 = 3.0\n",
      "x2 = 5.0\n"
     ]
    }
   ],
   "source": [
    "for variable in my_lp_problem.variables():\n",
    "    print('{} = {}'.format(variable.name, variable.varValue))"
   ]
  },
  {
   "cell_type": "code",
   "execution_count": 85,
   "metadata": {},
   "outputs": [
    {
     "name": "stdout",
     "output_type": "stream",
     "text": [
      "-13.0\n"
     ]
    }
   ],
   "source": [
    "print(pulp.value(my_lp_problem.objective))"
   ]
  },
  {
   "cell_type": "markdown",
   "metadata": {},
   "source": [
    "### Unbounded. Page 103\n",
    "\n",
    "minimize $z = -x_1 - 2 x_2$ <br>\n",
    "s.t. $-x_1 + x_2 \\leq 2$ <br>\n",
    "$-2x_1 + x_2 \\leq 1$ <br>\n",
    "$x_1, x_2 \\geq 0$\n"
   ]
  },
  {
   "cell_type": "code",
   "execution_count": 86,
   "metadata": {},
   "outputs": [],
   "source": [
    "my_lp_problem = pulp.LpProblem(\"Nash_and_Sofer_p103\", pulp.LpMinimize)"
   ]
  },
  {
   "cell_type": "code",
   "execution_count": 87,
   "metadata": {},
   "outputs": [],
   "source": [
    "# decision variables\n",
    "x1 = pulp.LpVariable('x1', lowBound=0,  cat='Continuous')\n",
    "x2 = pulp.LpVariable('x2', lowBound=0, cat='Continuous')"
   ]
  },
  {
   "cell_type": "code",
   "execution_count": 88,
   "metadata": {},
   "outputs": [],
   "source": [
    "# Objective function\n",
    "my_lp_problem += -x1 - 2*x2, \"z\""
   ]
  },
  {
   "cell_type": "code",
   "execution_count": 89,
   "metadata": {},
   "outputs": [],
   "source": [
    "# Constraints\n",
    "my_lp_problem += -x1+x2 <= 2\n",
    "my_lp_problem += -2*x1+x2 <= 1"
   ]
  },
  {
   "cell_type": "code",
   "execution_count": 90,
   "metadata": {},
   "outputs": [
    {
     "data": {
      "text/plain": [
       "Nash_and_Sofer_p103:\n",
       "MINIMIZE\n",
       "-1*x1 + -2*x2 + 0\n",
       "SUBJECT TO\n",
       "_C1: - x1 + x2 <= 2\n",
       "\n",
       "_C2: - 2 x1 + x2 <= 1\n",
       "\n",
       "VARIABLES\n",
       "x1 Continuous\n",
       "x2 Continuous"
      ]
     },
     "execution_count": 90,
     "metadata": {},
     "output_type": "execute_result"
    }
   ],
   "source": [
    "my_lp_problem"
   ]
  },
  {
   "cell_type": "code",
   "execution_count": 91,
   "metadata": {},
   "outputs": [
    {
     "data": {
      "text/plain": [
       "'Unbounded'"
      ]
     },
     "execution_count": 91,
     "metadata": {},
     "output_type": "execute_result"
    }
   ],
   "source": [
    "my_lp_problem.solve()\n",
    "pulp.LpStatus[my_lp_problem.status]"
   ]
  },
  {
   "cell_type": "code",
   "execution_count": 92,
   "metadata": {},
   "outputs": [
    {
     "name": "stdout",
     "output_type": "stream",
     "text": [
      "x1 = 0.0\n",
      "x2 = 0.0\n"
     ]
    }
   ],
   "source": [
    "for variable in my_lp_problem.variables():\n",
    "    print('{} = {}'.format(variable.name, variable.varValue))"
   ]
  },
  {
   "cell_type": "code",
   "execution_count": 93,
   "metadata": {},
   "outputs": [
    {
     "name": "stdout",
     "output_type": "stream",
     "text": [
      "0.0\n"
     ]
    }
   ],
   "source": [
    "print(pulp.value(my_lp_problem.objective))"
   ]
  },
  {
   "cell_type": "markdown",
   "metadata": {},
   "source": [
    "### Multiple solutions. Page 117\n",
    "\n",
    "minimize $z = -x_1 $ <br>\n",
    "s.t. $-2*x_1 + x_2 \\leq 2$ <br>\n",
    "$-x_1 + x_2 \\leq 3$ <br>\n",
    "$x_1 \\leq 3$ <br>\n",
    "$x_1, x_2 \\geq 0$\n"
   ]
  },
  {
   "cell_type": "code",
   "execution_count": 95,
   "metadata": {},
   "outputs": [
    {
     "data": {
      "text/plain": [
       "Nash_and_Sofer_p117:\n",
       "MINIMIZE\n",
       "-1*x1 + 0\n",
       "SUBJECT TO\n",
       "_C1: - 2 x1 + x2 <= 2\n",
       "\n",
       "_C2: - x1 + x2 <= 3\n",
       "\n",
       "VARIABLES\n",
       "x1 <= 3 Continuous\n",
       "x2 Continuous"
      ]
     },
     "execution_count": 95,
     "metadata": {},
     "output_type": "execute_result"
    }
   ],
   "source": [
    "my_lp_problem = pulp.LpProblem(\"Nash_and_Sofer_p117\", pulp.LpMinimize)\n",
    "\n",
    "# decision variables\n",
    "x1 = pulp.LpVariable('x1', lowBound=0,upBound=3 , cat='Continuous')\n",
    "x2 = pulp.LpVariable('x2', lowBound=0, cat='Continuous')\n",
    "\n",
    "# Objective function\n",
    "my_lp_problem += -x1, \"z\"\n",
    "\n",
    "# Constraints\n",
    "my_lp_problem += -2*x1+x2 <= 2\n",
    "my_lp_problem += -x1+x2 <= 3\n",
    "\n",
    "my_lp_problem"
   ]
  },
  {
   "cell_type": "code",
   "execution_count": 98,
   "metadata": {},
   "outputs": [
    {
     "data": {
      "text/plain": [
       "'Optimal'"
      ]
     },
     "execution_count": 98,
     "metadata": {},
     "output_type": "execute_result"
    }
   ],
   "source": [
    "my_lp_problem.solve()\n",
    "pulp.LpStatus[my_lp_problem.status]"
   ]
  },
  {
   "cell_type": "code",
   "execution_count": 99,
   "metadata": {},
   "outputs": [
    {
     "name": "stdout",
     "output_type": "stream",
     "text": [
      "x1 = 3.0\n",
      "x2 = 0.0\n",
      "-3.0\n"
     ]
    }
   ],
   "source": [
    "for variable in my_lp_problem.variables():\n",
    "    print('{} = {}'.format(variable.name, variable.varValue))\n",
    "    \n",
    "print(pulp.value(my_lp_problem.objective))"
   ]
  },
  {
   "cell_type": "markdown",
   "metadata": {},
   "source": [
    "### Degenerate. Page 134\n",
    "\n",
    "minimize $z = -x_1 - x_2 $ <br>\n",
    "s.t. $x_1 + x_2 \\leq 2$ <br>\n",
    "$x_1 \\leq 2$ <br>\n",
    "$x_1, x_2 \\geq 0$"
   ]
  },
  {
   "cell_type": "code",
   "execution_count": 100,
   "metadata": {},
   "outputs": [
    {
     "data": {
      "text/plain": [
       "Nash_and_Sofer_p134:\n",
       "MINIMIZE\n",
       "-1*x1 + -1*x2 + 0\n",
       "SUBJECT TO\n",
       "_C1: x1 + x2 <= 2\n",
       "\n",
       "VARIABLES\n",
       "x1 <= 2 Continuous\n",
       "x2 Continuous"
      ]
     },
     "execution_count": 100,
     "metadata": {},
     "output_type": "execute_result"
    }
   ],
   "source": [
    "my_lp_problem = pulp.LpProblem(\"Nash_and_Sofer_p134\", pulp.LpMinimize)\n",
    "\n",
    "# decision variables\n",
    "x1 = pulp.LpVariable('x1', lowBound=0,upBound=2 , cat='Continuous')\n",
    "x2 = pulp.LpVariable('x2', lowBound=0, cat='Continuous')\n",
    "\n",
    "# Objective function\n",
    "my_lp_problem += -x1 - x2, \"z\"\n",
    "\n",
    "# Constraints\n",
    "my_lp_problem += x1+x2 <= 2\n",
    "\n",
    "my_lp_problem"
   ]
  },
  {
   "cell_type": "code",
   "execution_count": 101,
   "metadata": {},
   "outputs": [
    {
     "data": {
      "text/plain": [
       "'Optimal'"
      ]
     },
     "execution_count": 101,
     "metadata": {},
     "output_type": "execute_result"
    }
   ],
   "source": [
    "my_lp_problem.solve()\n",
    "pulp.LpStatus[my_lp_problem.status]"
   ]
  },
  {
   "cell_type": "code",
   "execution_count": 102,
   "metadata": {},
   "outputs": [
    {
     "name": "stdout",
     "output_type": "stream",
     "text": [
      "x1 = 2.0\n",
      "x2 = 0.0\n",
      "-2.0\n"
     ]
    }
   ],
   "source": [
    "for variable in my_lp_problem.variables():\n",
    "    print('{} = {}'.format(variable.name, variable.varValue))\n",
    "    \n",
    "print(pulp.value(my_lp_problem.objective))"
   ]
  },
  {
   "cell_type": "markdown",
   "metadata": {},
   "source": [
    "### No termination for Simplex. Page 136\n",
    "\n",
    "minimize $z = -\\frac{3}{4} x_1 + 150 x_2 - \\frac{1}{50} x_3 + 6 x_4 $ <br>\n",
    "s.t. $\\frac{1}{4} x_1 - 60 x_2 - \\frac{1}{25} x_3 + 9 x_4 \\leq 0$ <br>\n",
    "$\\frac{1}{2} x_1 - 90 x_2 - \\frac{1}{50} x_3 + 3 x_4 \\leq 0$ <br>\n",
    "$x_3 \\leq 1$ <br>\n",
    "$x_1, x_2, x_3, x_4 \\geq 0$"
   ]
  },
  {
   "cell_type": "code",
   "execution_count": 105,
   "metadata": {},
   "outputs": [
    {
     "data": {
      "text/plain": [
       "Nash_and_Sofer_p136:\n",
       "MINIMIZE\n",
       "-0.75*x1 + 150*x2 + -0.02*x3 + 6*x4 + 0.0\n",
       "SUBJECT TO\n",
       "_C1: 0.25 x1 - 60 x2 - 0.04 x3 + 9 x4 <= 0\n",
       "\n",
       "_C2: 0.5 x1 - 90 x2 - 0.02 x3 + 3 x4 <= 0\n",
       "\n",
       "VARIABLES\n",
       "x1 Continuous\n",
       "x2 Continuous\n",
       "x3 <= 1 Continuous\n",
       "x4 Continuous"
      ]
     },
     "execution_count": 105,
     "metadata": {},
     "output_type": "execute_result"
    }
   ],
   "source": [
    "my_lp_problem = pulp.LpProblem(\"Nash_and_Sofer_p136\", pulp.LpMinimize)\n",
    "\n",
    "# decision variables\n",
    "x1 = pulp.LpVariable('x1', lowBound=0, cat='Continuous')\n",
    "x2 = pulp.LpVariable('x2', lowBound=0, cat='Continuous')\n",
    "x3 = pulp.LpVariable('x3', lowBound=0,upBound=1 , cat='Continuous')\n",
    "x4 = pulp.LpVariable('x4', lowBound=0, cat='Continuous')\n",
    "\n",
    "# Objective function\n",
    "my_lp_problem += -3/4*x1 + 150*x2 - 1/50*x3 + 6*x4, \"z\"\n",
    "\n",
    "# Constraints\n",
    "my_lp_problem += 1/4*x1 - 60*x2 - 1/25 * x3 + 9* x4 <= 0\n",
    "my_lp_problem += 1/2*x1 - 90*x2 - 1/50 * x3 + 3 * x4 <= 0\n",
    "\n",
    "my_lp_problem"
   ]
  },
  {
   "cell_type": "code",
   "execution_count": 106,
   "metadata": {},
   "outputs": [
    {
     "data": {
      "text/plain": [
       "'Optimal'"
      ]
     },
     "execution_count": 106,
     "metadata": {},
     "output_type": "execute_result"
    }
   ],
   "source": [
    "my_lp_problem.solve()\n",
    "pulp.LpStatus[my_lp_problem.status]"
   ]
  },
  {
   "cell_type": "code",
   "execution_count": 107,
   "metadata": {},
   "outputs": [
    {
     "name": "stdout",
     "output_type": "stream",
     "text": [
      "x1 = 0.04\n",
      "x2 = 0.0\n",
      "x3 = 1.0\n",
      "x4 = 0.0\n",
      "-0.05\n"
     ]
    }
   ],
   "source": [
    "for variable in my_lp_problem.variables():\n",
    "    print('{} = {}'.format(variable.name, variable.varValue))\n",
    "    \n",
    "print(pulp.value(my_lp_problem.objective))"
   ]
  },
  {
   "cell_type": "code",
   "execution_count": null,
   "metadata": {},
   "outputs": [],
   "source": []
  }
 ],
 "metadata": {
  "kernelspec": {
   "display_name": "Python 3",
   "language": "python",
   "name": "python3"
  },
  "language_info": {
   "codemirror_mode": {
    "name": "ipython",
    "version": 3
   },
   "file_extension": ".py",
   "mimetype": "text/x-python",
   "name": "python",
   "nbconvert_exporter": "python",
   "pygments_lexer": "ipython3",
   "version": "3.7.6"
  }
 },
 "nbformat": 4,
 "nbformat_minor": 4
}
